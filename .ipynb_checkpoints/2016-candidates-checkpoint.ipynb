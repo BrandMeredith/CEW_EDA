{
 "cells": [
  {
   "cell_type": "code",
   "execution_count": 7,
   "metadata": {},
   "outputs": [
    {
     "name": "stdout",
     "output_type": "stream",
     "text": [
      "GILLIBRAND 2020 ID: C00694018\n",
      "Top categories: ['CREDIT CARD - SEE BELOW IF ITEMIZED' 'COMMUNICATIONS CONSULTING'\n",
      " 'ADVERTISING']\n",
      "2\n",
      "ADVERTISING    2\n",
      "Name: PURPOSE, dtype: int64\n"
     ]
    },
    {
     "data": {
      "text/html": [
       "<div>\n",
       "<style scoped>\n",
       "    .dataframe tbody tr th:only-of-type {\n",
       "        vertical-align: middle;\n",
       "    }\n",
       "\n",
       "    .dataframe tbody tr th {\n",
       "        vertical-align: top;\n",
       "    }\n",
       "\n",
       "    .dataframe thead th {\n",
       "        text-align: right;\n",
       "    }\n",
       "</style>\n",
       "<table border=\"1\" class=\"dataframe\">\n",
       "  <thead>\n",
       "    <tr style=\"text-align: right;\">\n",
       "      <th></th>\n",
       "      <th>CMTE_NM</th>\n",
       "      <th>RPT_TP</th>\n",
       "      <th>NAME</th>\n",
       "      <th>CITY</th>\n",
       "      <th>STATE</th>\n",
       "      <th>ZIP_CODE</th>\n",
       "      <th>TRANSACTION_DT</th>\n",
       "      <th>TRANSACTION_AMT</th>\n",
       "      <th>PURPOSE</th>\n",
       "      <th>CATEGORY</th>\n",
       "    </tr>\n",
       "    <tr>\n",
       "      <th>CMTE_ID</th>\n",
       "      <th></th>\n",
       "      <th></th>\n",
       "      <th></th>\n",
       "      <th></th>\n",
       "      <th></th>\n",
       "      <th></th>\n",
       "      <th></th>\n",
       "      <th></th>\n",
       "      <th></th>\n",
       "      <th></th>\n",
       "    </tr>\n",
       "  </thead>\n",
       "  <tbody>\n",
       "    <tr>\n",
       "      <td>C00694018</td>\n",
       "      <td>GILLIBRAND 2020</td>\n",
       "      <td>Q2</td>\n",
       "      <td>TWITTER</td>\n",
       "      <td>PHILADELPHIA</td>\n",
       "      <td>PA</td>\n",
       "      <td>191700001</td>\n",
       "      <td>6/12/2019</td>\n",
       "      <td>23590.37</td>\n",
       "      <td>ADVERTISING</td>\n",
       "      <td>NaN</td>\n",
       "    </tr>\n",
       "    <tr>\n",
       "      <td>C00694018</td>\n",
       "      <td>GILLIBRAND 2020</td>\n",
       "      <td>Q2</td>\n",
       "      <td>GOOGLE</td>\n",
       "      <td>MOUNTAIN VIEW</td>\n",
       "      <td>CA</td>\n",
       "      <td>940431351</td>\n",
       "      <td>6/12/2019</td>\n",
       "      <td>67148.93</td>\n",
       "      <td>ADVERTISING</td>\n",
       "      <td>NaN</td>\n",
       "    </tr>\n",
       "  </tbody>\n",
       "</table>\n",
       "</div>"
      ],
      "text/plain": [
       "                   CMTE_NM RPT_TP     NAME           CITY STATE   ZIP_CODE  \\\n",
       "CMTE_ID                                                                      \n",
       "C00694018  GILLIBRAND 2020     Q2  TWITTER   PHILADELPHIA    PA  191700001   \n",
       "C00694018  GILLIBRAND 2020     Q2   GOOGLE  MOUNTAIN VIEW    CA  940431351   \n",
       "\n",
       "          TRANSACTION_DT  TRANSACTION_AMT      PURPOSE CATEGORY  \n",
       "CMTE_ID                                                          \n",
       "C00694018      6/12/2019         23590.37  ADVERTISING      NaN  \n",
       "C00694018      6/12/2019         67148.93  ADVERTISING      NaN  "
      ]
     },
     "execution_count": 7,
     "metadata": {},
     "output_type": "execute_result"
    }
   ],
   "source": [
    "import pandas as pd\n",
    "import numpy as np\n",
    "from scipy import stats\n",
    "\n",
    "CORE_COLUMNS = ['CMTE_NM','RPT_TP','NAME','CITY','STATE','ZIP_CODE','TRANSACTION_DT','TRANSACTION_AMT','PURPOSE','CATEGORY']\n",
    "\n",
    "# Read in data\n",
    "df = pd.read_csv(\"oppexp.csv\", low_memory=False )\n",
    "cmte_header = pd.read_csv(\"~/Documents/Insight/Data - Insight/cm20/cm_header_file.csv\") # pull in header for committee names file\n",
    "cmte_names = pd.read_csv(\"~/Documents/Insight/Data - Insight/cm20/cm.txt\", delimiter=\"|\", names=cmte_header.columns) # pull in committee names file\n",
    "\n",
    "# Clean data\n",
    "df = ( df.set_index('CMTE_ID') ).join(cmte_names.set_index('CMTE_ID')) \n",
    "\n",
    "# Get committee id from committee name\n",
    "cmte_name = \"GILLIBRAND 2020\" #\"WARREN FOR PRESIDENT, INC.\" #INPUT\n",
    "cmte_data = cmte_names[cmte_names['CMTE_NM']==cmte_name].copy()\n",
    "cmte_id = cmte_data['CMTE_ID'].values[0]\n",
    "print(cmte_name, \"ID:\", cmte_id)\n",
    "\n",
    "# Committee-level data\n",
    "cmte = df[df.index==cmte_id].copy()\n",
    "pos_cmte = cmte[cmte['TRANSACTION_AMT']>0]\n",
    "gpd_pos_cmte = pos_cmte.groupby('PURPOSE')\n",
    "cats_paid = gpd_pos_cmte['TRANSACTION_AMT'].sum().sort_values(ascending=False)\n",
    "top_cats = cats_paid.index[:3]\n",
    "print('Top categories:',top_cats.values)\n",
    "\n",
    "# Detect outliers\n",
    "outliers = pd.DataFrame()\n",
    "for cat in top_cats:\n",
    "    cmte_cat = cmte[cmte['PURPOSE']==cat].copy()\n",
    "    outliers = outliers.append(cmte_cat[np.abs(stats.zscore(cmte_cat['TRANSACTION_AMT'])) > 3])\n",
    "    \n",
    "print(len(outliers))\n",
    "print(outliers['PURPOSE'].value_counts())\n",
    "outliers[CORE_COLUMNS]"
   ]
  },
  {
   "cell_type": "code",
   "execution_count": 32,
   "metadata": {
    "scrolled": true
   },
   "outputs": [
    {
     "ename": "SyntaxError",
     "evalue": "invalid syntax (<ipython-input-32-207762fc0331>, line 5)",
     "output_type": "error",
     "traceback": [
      "\u001b[1;36m  File \u001b[1;32m\"<ipython-input-32-207762fc0331>\"\u001b[1;36m, line \u001b[1;32m5\u001b[0m\n\u001b[1;33m    for i in 0..(len(outliers)):\u001b[0m\n\u001b[1;37m                ^\u001b[0m\n\u001b[1;31mSyntaxError\u001b[0m\u001b[1;31m:\u001b[0m invalid syntax\n"
     ]
    }
   ],
   "source": [
    "#births = outliers\n",
    "#for birth in births:\n",
    "#    print(type(birth))\n",
    "outliers.iloc[1]['CMTE_NM']\n",
    "for i in 0..(len(outliers)):\n",
    "    print(i)"
   ]
  },
  {
   "cell_type": "code",
   "execution_count": 38,
   "metadata": {},
   "outputs": [
    {
     "name": "stdout",
     "output_type": "stream",
     "text": [
      "0\n",
      "1\n"
     ]
    },
    {
     "data": {
      "text/plain": [
       "2"
      ]
     },
     "execution_count": 38,
     "metadata": {},
     "output_type": "execute_result"
    }
   ],
   "source": [
    "for i in range(2):\n",
    "    print(i)\n",
    "len(outliers)"
   ]
  }
 ],
 "metadata": {
  "kernelspec": {
   "display_name": "Python 3",
   "language": "python",
   "name": "python3"
  },
  "language_info": {
   "codemirror_mode": {
    "name": "ipython",
    "version": 3
   },
   "file_extension": ".py",
   "mimetype": "text/x-python",
   "name": "python",
   "nbconvert_exporter": "python",
   "pygments_lexer": "ipython3",
   "version": "3.7.3"
  }
 },
 "nbformat": 4,
 "nbformat_minor": 2
}
