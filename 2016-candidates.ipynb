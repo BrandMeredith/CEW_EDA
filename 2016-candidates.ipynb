{
 "cells": [
  {
   "cell_type": "code",
   "execution_count": 85,
   "metadata": {},
   "outputs": [],
   "source": [
    "import pandas as pd\n",
    "import numpy as np\n",
    "from scipy import stats\n",
    "\n",
    "CORE_COLUMNS = ['CMTE_NM','RPT_TP','NAME','CITY','STATE','ZIP_CODE','TRANSACTION_DT','TRANSACTION_AMT','PURPOSE','CATEGORY']\n",
    "\n",
    "# Read in data\n",
    "df_header = pd.read_csv(\"~/Documents/Insight/Data - Insight/oppexp_header_file.csv\")\n",
    "df = pd.read_csv(\"../oppexp16/oppexp.txt\", delimiter=\"|\", low_memory=False, names=df_header.columns, index_col=False)\n",
    "cmte_header = pd.read_csv(\"~/Documents/Insight/Data - Insight/cm20/cm_header_file.csv\") # pull in header for committee names file\n",
    "cmte_names = pd.read_csv(\"~/Documents/Insight/Data - Insight/cm20/cm.txt\", delimiter=\"|\", names=cmte_header.columns) # pull in committee names file\n",
    "\n",
    "# Clean data\n",
    "df = ( df.set_index('CMTE_ID') ).join(cmte_names.set_index('CMTE_ID')) \n",
    "df = df.reset_index()"
   ]
  },
  {
   "cell_type": "code",
   "execution_count": 86,
   "metadata": {},
   "outputs": [
    {
     "data": {
      "text/plain": [
       "799105     01/01/2012\n",
       "153470     01/01/2015\n",
       "319559     01/01/2015\n",
       "319560     01/01/2015\n",
       "319561     01/01/2015\n",
       "              ...    \n",
       "220816     12/31/2016\n",
       "183124     12/31/2016\n",
       "1411229    12/31/2016\n",
       "609425     12/31/2016\n",
       "864568     12/31/2017\n",
       "Name: TRANSACTION_DT, Length: 1754943, dtype: object"
      ]
     },
     "execution_count": 86,
     "metadata": {},
     "output_type": "execute_result"
    }
   ],
   "source": [
    "df = df.drop([1660030,1660053,170519,170520])\n",
    "#df['TRANSACTION_DT']=pd.to_datetime(df['TRANSACTION_DT'])\n",
    "df['TRANSACTION_DT'].sort_values().dropna()"
   ]
  },
  {
   "cell_type": "code",
   "execution_count": 88,
   "metadata": {},
   "outputs": [],
   "source": [
    "df['TRANSACTION_DT']=pd.to_datetime(df['TRANSACTION_DT'],errors = 'coerce')"
   ]
  },
  {
   "cell_type": "code",
   "execution_count": 89,
   "metadata": {},
   "outputs": [
    {
     "data": {
      "text/html": [
       "<div>\n",
       "<style scoped>\n",
       "    .dataframe tbody tr th:only-of-type {\n",
       "        vertical-align: middle;\n",
       "    }\n",
       "\n",
       "    .dataframe tbody tr th {\n",
       "        vertical-align: top;\n",
       "    }\n",
       "\n",
       "    .dataframe thead th {\n",
       "        text-align: right;\n",
       "    }\n",
       "</style>\n",
       "<table border=\"1\" class=\"dataframe\">\n",
       "  <thead>\n",
       "    <tr style=\"text-align: right;\">\n",
       "      <th></th>\n",
       "      <th>CMTE_ID</th>\n",
       "      <th>AMNDT_IND</th>\n",
       "      <th>RPT_YR</th>\n",
       "      <th>RPT_TP</th>\n",
       "      <th>IMAGE_NUM</th>\n",
       "      <th>LINE_NUM</th>\n",
       "      <th>FORM_TP_CD</th>\n",
       "      <th>SCHED_TP_CD</th>\n",
       "      <th>NAME</th>\n",
       "      <th>CITY</th>\n",
       "      <th>...</th>\n",
       "      <th>CMTE_CITY</th>\n",
       "      <th>CMTE_ST</th>\n",
       "      <th>CMTE_ZIP</th>\n",
       "      <th>CMTE_DSGN</th>\n",
       "      <th>CMTE_TP</th>\n",
       "      <th>CMTE_PTY_AFFILIATION</th>\n",
       "      <th>CMTE_FILING_FREQ</th>\n",
       "      <th>ORG_TP</th>\n",
       "      <th>CONNECTED_ORG_NM</th>\n",
       "      <th>CAND_ID</th>\n",
       "    </tr>\n",
       "  </thead>\n",
       "  <tbody>\n",
       "    <tr>\n",
       "      <td>0</td>\n",
       "      <td>C00000422</td>\n",
       "      <td>N</td>\n",
       "      <td>2015</td>\n",
       "      <td>M8</td>\n",
       "      <td>201508119000814199</td>\n",
       "      <td>21B</td>\n",
       "      <td>F3X</td>\n",
       "      <td>SB</td>\n",
       "      <td>PAYMENTECH</td>\n",
       "      <td>SALEM</td>\n",
       "      <td>...</td>\n",
       "      <td>WASHINGTON</td>\n",
       "      <td>DC</td>\n",
       "      <td>200017400</td>\n",
       "      <td>B</td>\n",
       "      <td>Q</td>\n",
       "      <td>NaN</td>\n",
       "      <td>M</td>\n",
       "      <td>M</td>\n",
       "      <td>DELAWARE MEDICAL PAC</td>\n",
       "      <td>NaN</td>\n",
       "    </tr>\n",
       "    <tr>\n",
       "      <td>1</td>\n",
       "      <td>C00000422</td>\n",
       "      <td>N</td>\n",
       "      <td>2015</td>\n",
       "      <td>M8</td>\n",
       "      <td>201508119000814199</td>\n",
       "      <td>21B</td>\n",
       "      <td>F3X</td>\n",
       "      <td>SB</td>\n",
       "      <td>FIRST NATIONAL MERCHANT SOLUTIONS</td>\n",
       "      <td>OMAHA</td>\n",
       "      <td>...</td>\n",
       "      <td>WASHINGTON</td>\n",
       "      <td>DC</td>\n",
       "      <td>200017400</td>\n",
       "      <td>B</td>\n",
       "      <td>Q</td>\n",
       "      <td>NaN</td>\n",
       "      <td>M</td>\n",
       "      <td>M</td>\n",
       "      <td>DELAWARE MEDICAL PAC</td>\n",
       "      <td>NaN</td>\n",
       "    </tr>\n",
       "    <tr>\n",
       "      <td>2</td>\n",
       "      <td>C00000422</td>\n",
       "      <td>N</td>\n",
       "      <td>2015</td>\n",
       "      <td>M9</td>\n",
       "      <td>201509109001633191</td>\n",
       "      <td>21B</td>\n",
       "      <td>F3X</td>\n",
       "      <td>SB</td>\n",
       "      <td>CHASE PAYMENTECH</td>\n",
       "      <td>SALEM</td>\n",
       "      <td>...</td>\n",
       "      <td>WASHINGTON</td>\n",
       "      <td>DC</td>\n",
       "      <td>200017400</td>\n",
       "      <td>B</td>\n",
       "      <td>Q</td>\n",
       "      <td>NaN</td>\n",
       "      <td>M</td>\n",
       "      <td>M</td>\n",
       "      <td>DELAWARE MEDICAL PAC</td>\n",
       "      <td>NaN</td>\n",
       "    </tr>\n",
       "    <tr>\n",
       "      <td>3</td>\n",
       "      <td>C00000422</td>\n",
       "      <td>N</td>\n",
       "      <td>2015</td>\n",
       "      <td>M7</td>\n",
       "      <td>201507149000106216</td>\n",
       "      <td>21B</td>\n",
       "      <td>F3X</td>\n",
       "      <td>SB</td>\n",
       "      <td>FIRST NATIONAL MERCHANT SOLUTIONS</td>\n",
       "      <td>OMAHA</td>\n",
       "      <td>...</td>\n",
       "      <td>WASHINGTON</td>\n",
       "      <td>DC</td>\n",
       "      <td>200017400</td>\n",
       "      <td>B</td>\n",
       "      <td>Q</td>\n",
       "      <td>NaN</td>\n",
       "      <td>M</td>\n",
       "      <td>M</td>\n",
       "      <td>DELAWARE MEDICAL PAC</td>\n",
       "      <td>NaN</td>\n",
       "    </tr>\n",
       "    <tr>\n",
       "      <td>4</td>\n",
       "      <td>C00000422</td>\n",
       "      <td>N</td>\n",
       "      <td>2015</td>\n",
       "      <td>YE</td>\n",
       "      <td>201601139004480408</td>\n",
       "      <td>21B</td>\n",
       "      <td>F3X</td>\n",
       "      <td>SB</td>\n",
       "      <td>CHASE PAYMENTECH</td>\n",
       "      <td>SALEM</td>\n",
       "      <td>...</td>\n",
       "      <td>WASHINGTON</td>\n",
       "      <td>DC</td>\n",
       "      <td>200017400</td>\n",
       "      <td>B</td>\n",
       "      <td>Q</td>\n",
       "      <td>NaN</td>\n",
       "      <td>M</td>\n",
       "      <td>M</td>\n",
       "      <td>DELAWARE MEDICAL PAC</td>\n",
       "      <td>NaN</td>\n",
       "    </tr>\n",
       "  </tbody>\n",
       "</table>\n",
       "<p>5 rows × 39 columns</p>\n",
       "</div>"
      ],
      "text/plain": [
       "     CMTE_ID AMNDT_IND  RPT_YR RPT_TP           IMAGE_NUM LINE_NUM FORM_TP_CD  \\\n",
       "0  C00000422         N    2015     M8  201508119000814199      21B        F3X   \n",
       "1  C00000422         N    2015     M8  201508119000814199      21B        F3X   \n",
       "2  C00000422         N    2015     M9  201509109001633191      21B        F3X   \n",
       "3  C00000422         N    2015     M7  201507149000106216      21B        F3X   \n",
       "4  C00000422         N    2015     YE  201601139004480408      21B        F3X   \n",
       "\n",
       "  SCHED_TP_CD                               NAME   CITY  ...   CMTE_CITY  \\\n",
       "0          SB                         PAYMENTECH  SALEM  ...  WASHINGTON   \n",
       "1          SB  FIRST NATIONAL MERCHANT SOLUTIONS  OMAHA  ...  WASHINGTON   \n",
       "2          SB                   CHASE PAYMENTECH  SALEM  ...  WASHINGTON   \n",
       "3          SB  FIRST NATIONAL MERCHANT SOLUTIONS  OMAHA  ...  WASHINGTON   \n",
       "4          SB                   CHASE PAYMENTECH  SALEM  ...  WASHINGTON   \n",
       "\n",
       "  CMTE_ST   CMTE_ZIP  CMTE_DSGN CMTE_TP CMTE_PTY_AFFILIATION CMTE_FILING_FREQ  \\\n",
       "0      DC  200017400          B       Q                  NaN                M   \n",
       "1      DC  200017400          B       Q                  NaN                M   \n",
       "2      DC  200017400          B       Q                  NaN                M   \n",
       "3      DC  200017400          B       Q                  NaN                M   \n",
       "4      DC  200017400          B       Q                  NaN                M   \n",
       "\n",
       "  ORG_TP      CONNECTED_ORG_NM CAND_ID  \n",
       "0      M  DELAWARE MEDICAL PAC     NaN  \n",
       "1      M  DELAWARE MEDICAL PAC     NaN  \n",
       "2      M  DELAWARE MEDICAL PAC     NaN  \n",
       "3      M  DELAWARE MEDICAL PAC     NaN  \n",
       "4      M  DELAWARE MEDICAL PAC     NaN  \n",
       "\n",
       "[5 rows x 39 columns]"
      ]
     },
     "execution_count": 89,
     "metadata": {},
     "output_type": "execute_result"
    }
   ],
   "source": [
    "df.head()"
   ]
  },
  {
   "cell_type": "code",
   "execution_count": 32,
   "metadata": {},
   "outputs": [
    {
     "data": {
      "text/plain": [
       "array(['AMERICAN MEDICAL ASSOCIATION POLITICAL ACTION COMMITTEE',\n",
       "       'D R I V E POLITICAL FUND CHAPTER 886',\n",
       "       'INDIANA STATE MEDICAL ASSOCIATION POLITICAL ACTION COMMITTEE',\n",
       "       ..., 'DEMOCRACY LEGACY', 'MONTGOMERY COUNTY REPUBLICAN PARTY ',\n",
       "       'AMERICAN POLITICAL ACTION COMMITTEE'], dtype=object)"
      ]
     },
     "execution_count": 32,
     "metadata": {},
     "output_type": "execute_result"
    }
   ],
   "source": [
    "names = df.CMTE_NM.unique()\n",
    "names"
   ]
  },
  {
   "cell_type": "code",
   "execution_count": 56,
   "metadata": {},
   "outputs": [
    {
     "name": "stdout",
     "output_type": "stream",
     "text": [
      "DONALD J. TRUMP FOR PRESIDENT, INC.\n",
      "TRUMP MAKE AMERICA GREAT AGAIN COMMITTEE\n",
      "TRUMP VICTORY\n",
      "DEMOCRATIC PARTY OF SANTA CRUZ COUNTY\n",
      "TED CRUZ FOR SENATE\n",
      "TED CRUZ VICTORY COMMITTEE\n",
      "SANTA CRUZ COUNTY REPUBLICAN CENTRAL COMMITTEE\n",
      "CRUZ FOR PRESIDENT\n",
      "KASICH FOR AMERICA, INC.\n",
      "MARCO RUBIO FOR PRESIDENT\n",
      "RUBIO VICTORY COMMITTEE\n",
      "MARCO RUBIO FOR SENATE\n",
      "ANDRE CARSON FOR CONGRESS\n",
      "CARSON AMERICA\n",
      "FRIENDS OF ERIK PAULSEN\n",
      "PAUL TONKO FOR CONGRESS\n",
      "PAUL GOSAR FOR CONGRESS\n",
      "RON PAUL 2012 PRESIDENTIAL CAMPAIGN COMMITTEE INC.\n",
      "RAND PAUL FOR US SENATE\n",
      "PROGRESSIVES ADVANCING UNITED LEADERSHIP (PAULPAC)\n",
      "PAUL COOK FOR CONGRESS\n",
      "PAULA OVERBY FOR CONGRESS\n",
      "FRIENDS OF PAUL HOLLIS LLC\n",
      "PAUL CHABOT CONGRESS\n",
      "PAUL SPAIN FOR CONGRESS\n",
      "FRIENDS OF PAUL MITCHELL\n",
      "PAUL BROUN COMMITTEE\n",
      "GILMORE FOR AMERICA LLC\n",
      "RICK SANTORUM FOR PRESIDENT, INC. (2012)\n",
      "SANTORUM FOR PRESIDENT 2016\n",
      "PERRY HANEY FOR CONGRESS\n",
      "PATRIOTS FOR PERRY\n",
      "JONES WALKER L.L.P. POLITICAL ACTION COMMITTEE\n",
      "WALKER 4 NC\n",
      "SCOTT WALKER INC\n",
      "TEAM GRAHAM, INC.\n",
      "MALCOLM GRAHAM FOR CONGRESS\n",
      "JACK GRAHAM FOR U S SENATE\n",
      "PATAKI FOR PRESIDENT INC\n"
     ]
    }
   ],
   "source": [
    "candidates = ['trump','cruz','kasich','rubio','carson','bush','paul','christie','huckabee','fiorina','gilmore','santorum','perry','walker','jindal','graham','pataki']\n",
    "cmte_names = df.CMTE_NM.unique()\n",
    "    \n",
    "for candidate in candidates:\n",
    "    for name in cmte_names:\n",
    "        if candidate.upper() in str(name):\n",
    "            print(name)"
   ]
  },
  {
   "cell_type": "code",
   "execution_count": 59,
   "metadata": {},
   "outputs": [
    {
     "data": {
      "text/plain": [
       "['DONALD J. TRUMP FOR PRESIDENT, INC.',\n",
       " 'CRUZ FOR PRESIDENT',\n",
       " 'KASICH FOR AMERICA, INC.',\n",
       " 'MARCO RUBIO FOR PRESIDENT',\n",
       " 'CARSON AMERICA',\n",
       " 'GILMORE FOR AMERICA LLC',\n",
       " 'SANTORUM FOR PRESIDENT 2016',\n",
       " 'PATAKI FOR PRESIDENT INC']"
      ]
     },
     "execution_count": 59,
     "metadata": {},
     "output_type": "execute_result"
    }
   ],
   "source": [
    "pres_cmtes = ['DONALD J. TRUMP FOR PRESIDENT, INC.','CRUZ FOR PRESIDENT','KASICH FOR AMERICA, INC.','MARCO RUBIO FOR PRESIDENT','CARSON AMERICA','GILMORE FOR AMERICA LLC','SANTORUM FOR PRESIDENT 2016','PATAKI FOR PRESIDENT INC']\n",
    "pres_cmtes"
   ]
  },
  {
   "cell_type": "code",
   "execution_count": 109,
   "metadata": {},
   "outputs": [],
   "source": [
    "from datetime import datetime\n",
    "FINAL_PRIMARY_DT = \"June 7, 2016\"\n",
    "final_primary = datetime.strptime(FINAL_PRIMARY_DT, '%B %d, %Y')"
   ]
  },
  {
   "cell_type": "code",
   "execution_count": 110,
   "metadata": {},
   "outputs": [],
   "source": [
    "good_dates = df[df.TRANSACTION_DT.apply(lambda x: x<=final_primary) ]\n"
   ]
  },
  {
   "cell_type": "code",
   "execution_count": 111,
   "metadata": {},
   "outputs": [
    {
     "data": {
      "image/png": "[encoded data removed]",
      "text/plain": [
       "<Figure size 432x288 with 1 Axes>"
      ]
     },
     "metadata": {
      "needs_background": "light"
     },
     "output_type": "display_data"
    }
   ],
   "source": [
    "for cmte in pres_cmtes: \n",
    "    good_dates[good_dates.CMTE_NM==cmte].groupby([pd.Grouper(key='TRANSACTION_DT', freq='W-MON')])['TRANSACTION_AMT']\\\n",
    "       .sum().plot()"
   ]
  },
  {
   "cell_type": "code",
   "execution_count": 113,
   "metadata": {},
   "outputs": [
    {
     "data": {
      "image/png": "[encoded data removed]",
      "text/plain": [
       "<Figure size 432x288 with 1 Axes>"
      ]
     },
     "metadata": {
      "needs_background": "light"
     },
     "output_type": "display_data"
    }
   ],
   "source": [
    "# Grouped by 3 week intervals\n",
    "for cmte in pres_cmtes: \n",
    "    good_dates[good_dates.CMTE_NM==cmte].groupby([pd.Grouper(key='TRANSACTION_DT', freq='3W-MON')])['TRANSACTION_AMT']\\\n",
    "       .sum().plot()"
   ]
  },
  {
   "cell_type": "code",
   "execution_count": null,
   "metadata": {},
   "outputs": [],
   "source": []
  },
  {
   "cell_type": "code",
   "execution_count": 117,
   "metadata": {},
   "outputs": [
    {
     "data": {
      "text/plain": [
       "array([ 0,  0,  0,  1,  1, -1], dtype=int64)"
      ]
     },
     "execution_count": 117,
     "metadata": {},
     "output_type": "execute_result"
    }
   ],
   "source": [
    "#DBScan\n",
    "#source: https://towardsdatascience.com/5-ways-to-detect-outliers-that-every-data-scientist-should-know-python-code-70a54335a623\n",
    "\n",
    "from sklearn.cluster import DBSCAN\n",
    "import numpy as np\n",
    "X = np.array([[1, 2], [2, 2], [2, 3],\n",
    "              [8, 7], [8, 8], [25, 80]])\n",
    "clustering = DBSCAN(eps=3, min_samples=2).fit_predict(X)\n",
    "#clustering.labels_\n",
    "\n",
    "clustering "
   ]
  },
  {
   "cell_type": "code",
   "execution_count": 129,
   "metadata": {},
   "outputs": [
    {
     "data": {
      "text/html": [
       "<div>\n",
       "<style scoped>\n",
       "    .dataframe tbody tr th:only-of-type {\n",
       "        vertical-align: middle;\n",
       "    }\n",
       "\n",
       "    .dataframe tbody tr th {\n",
       "        vertical-align: top;\n",
       "    }\n",
       "\n",
       "    .dataframe thead th {\n",
       "        text-align: right;\n",
       "    }\n",
       "</style>\n",
       "<table border=\"1\" class=\"dataframe\">\n",
       "  <thead>\n",
       "    <tr style=\"text-align: right;\">\n",
       "      <th></th>\n",
       "      <th>CMTE_ID</th>\n",
       "      <th>AMNDT_IND</th>\n",
       "      <th>RPT_YR</th>\n",
       "      <th>RPT_TP</th>\n",
       "      <th>IMAGE_NUM</th>\n",
       "      <th>LINE_NUM</th>\n",
       "      <th>FORM_TP_CD</th>\n",
       "      <th>SCHED_TP_CD</th>\n",
       "      <th>NAME</th>\n",
       "      <th>CITY</th>\n",
       "      <th>...</th>\n",
       "      <th>CMTE_CITY</th>\n",
       "      <th>CMTE_ST</th>\n",
       "      <th>CMTE_ZIP</th>\n",
       "      <th>CMTE_DSGN</th>\n",
       "      <th>CMTE_TP</th>\n",
       "      <th>CMTE_PTY_AFFILIATION</th>\n",
       "      <th>CMTE_FILING_FREQ</th>\n",
       "      <th>ORG_TP</th>\n",
       "      <th>CONNECTED_ORG_NM</th>\n",
       "      <th>CAND_ID</th>\n",
       "    </tr>\n",
       "  </thead>\n",
       "  <tbody>\n",
       "    <tr>\n",
       "      <td>0</td>\n",
       "      <td>C00000422</td>\n",
       "      <td>N</td>\n",
       "      <td>2015</td>\n",
       "      <td>M8</td>\n",
       "      <td>201508119000814199</td>\n",
       "      <td>21B</td>\n",
       "      <td>F3X</td>\n",
       "      <td>SB</td>\n",
       "      <td>PAYMENTECH</td>\n",
       "      <td>SALEM</td>\n",
       "      <td>...</td>\n",
       "      <td>WASHINGTON</td>\n",
       "      <td>DC</td>\n",
       "      <td>200017400</td>\n",
       "      <td>B</td>\n",
       "      <td>Q</td>\n",
       "      <td>NaN</td>\n",
       "      <td>M</td>\n",
       "      <td>M</td>\n",
       "      <td>DELAWARE MEDICAL PAC</td>\n",
       "      <td>NaN</td>\n",
       "    </tr>\n",
       "    <tr>\n",
       "      <td>1</td>\n",
       "      <td>C00000422</td>\n",
       "      <td>N</td>\n",
       "      <td>2015</td>\n",
       "      <td>M8</td>\n",
       "      <td>201508119000814199</td>\n",
       "      <td>21B</td>\n",
       "      <td>F3X</td>\n",
       "      <td>SB</td>\n",
       "      <td>FIRST NATIONAL MERCHANT SOLUTIONS</td>\n",
       "      <td>OMAHA</td>\n",
       "      <td>...</td>\n",
       "      <td>WASHINGTON</td>\n",
       "      <td>DC</td>\n",
       "      <td>200017400</td>\n",
       "      <td>B</td>\n",
       "      <td>Q</td>\n",
       "      <td>NaN</td>\n",
       "      <td>M</td>\n",
       "      <td>M</td>\n",
       "      <td>DELAWARE MEDICAL PAC</td>\n",
       "      <td>NaN</td>\n",
       "    </tr>\n",
       "    <tr>\n",
       "      <td>2</td>\n",
       "      <td>C00000422</td>\n",
       "      <td>N</td>\n",
       "      <td>2015</td>\n",
       "      <td>M9</td>\n",
       "      <td>201509109001633191</td>\n",
       "      <td>21B</td>\n",
       "      <td>F3X</td>\n",
       "      <td>SB</td>\n",
       "      <td>CHASE PAYMENTECH</td>\n",
       "      <td>SALEM</td>\n",
       "      <td>...</td>\n",
       "      <td>WASHINGTON</td>\n",
       "      <td>DC</td>\n",
       "      <td>200017400</td>\n",
       "      <td>B</td>\n",
       "      <td>Q</td>\n",
       "      <td>NaN</td>\n",
       "      <td>M</td>\n",
       "      <td>M</td>\n",
       "      <td>DELAWARE MEDICAL PAC</td>\n",
       "      <td>NaN</td>\n",
       "    </tr>\n",
       "    <tr>\n",
       "      <td>3</td>\n",
       "      <td>C00000422</td>\n",
       "      <td>N</td>\n",
       "      <td>2015</td>\n",
       "      <td>M7</td>\n",
       "      <td>201507149000106216</td>\n",
       "      <td>21B</td>\n",
       "      <td>F3X</td>\n",
       "      <td>SB</td>\n",
       "      <td>FIRST NATIONAL MERCHANT SOLUTIONS</td>\n",
       "      <td>OMAHA</td>\n",
       "      <td>...</td>\n",
       "      <td>WASHINGTON</td>\n",
       "      <td>DC</td>\n",
       "      <td>200017400</td>\n",
       "      <td>B</td>\n",
       "      <td>Q</td>\n",
       "      <td>NaN</td>\n",
       "      <td>M</td>\n",
       "      <td>M</td>\n",
       "      <td>DELAWARE MEDICAL PAC</td>\n",
       "      <td>NaN</td>\n",
       "    </tr>\n",
       "    <tr>\n",
       "      <td>4</td>\n",
       "      <td>C00000422</td>\n",
       "      <td>N</td>\n",
       "      <td>2015</td>\n",
       "      <td>YE</td>\n",
       "      <td>201601139004480408</td>\n",
       "      <td>21B</td>\n",
       "      <td>F3X</td>\n",
       "      <td>SB</td>\n",
       "      <td>CHASE PAYMENTECH</td>\n",
       "      <td>SALEM</td>\n",
       "      <td>...</td>\n",
       "      <td>WASHINGTON</td>\n",
       "      <td>DC</td>\n",
       "      <td>200017400</td>\n",
       "      <td>B</td>\n",
       "      <td>Q</td>\n",
       "      <td>NaN</td>\n",
       "      <td>M</td>\n",
       "      <td>M</td>\n",
       "      <td>DELAWARE MEDICAL PAC</td>\n",
       "      <td>NaN</td>\n",
       "    </tr>\n",
       "  </tbody>\n",
       "</table>\n",
       "<p>5 rows × 39 columns</p>\n",
       "</div>"
      ],
      "text/plain": [
       "     CMTE_ID AMNDT_IND  RPT_YR RPT_TP           IMAGE_NUM LINE_NUM FORM_TP_CD  \\\n",
       "0  C00000422         N    2015     M8  201508119000814199      21B        F3X   \n",
       "1  C00000422         N    2015     M8  201508119000814199      21B        F3X   \n",
       "2  C00000422         N    2015     M9  201509109001633191      21B        F3X   \n",
       "3  C00000422         N    2015     M7  201507149000106216      21B        F3X   \n",
       "4  C00000422         N    2015     YE  201601139004480408      21B        F3X   \n",
       "\n",
       "  SCHED_TP_CD                               NAME   CITY  ...   CMTE_CITY  \\\n",
       "0          SB                         PAYMENTECH  SALEM  ...  WASHINGTON   \n",
       "1          SB  FIRST NATIONAL MERCHANT SOLUTIONS  OMAHA  ...  WASHINGTON   \n",
       "2          SB                   CHASE PAYMENTECH  SALEM  ...  WASHINGTON   \n",
       "3          SB  FIRST NATIONAL MERCHANT SOLUTIONS  OMAHA  ...  WASHINGTON   \n",
       "4          SB                   CHASE PAYMENTECH  SALEM  ...  WASHINGTON   \n",
       "\n",
       "  CMTE_ST   CMTE_ZIP  CMTE_DSGN CMTE_TP CMTE_PTY_AFFILIATION CMTE_FILING_FREQ  \\\n",
       "0      DC  200017400          B       Q                  NaN                M   \n",
       "1      DC  200017400          B       Q                  NaN                M   \n",
       "2      DC  200017400          B       Q                  NaN                M   \n",
       "3      DC  200017400          B       Q                  NaN                M   \n",
       "4      DC  200017400          B       Q                  NaN                M   \n",
       "\n",
       "  ORG_TP      CONNECTED_ORG_NM CAND_ID  \n",
       "0      M  DELAWARE MEDICAL PAC     NaN  \n",
       "1      M  DELAWARE MEDICAL PAC     NaN  \n",
       "2      M  DELAWARE MEDICAL PAC     NaN  \n",
       "3      M  DELAWARE MEDICAL PAC     NaN  \n",
       "4      M  DELAWARE MEDICAL PAC     NaN  \n",
       "\n",
       "[5 rows x 39 columns]"
      ]
     },
     "execution_count": 129,
     "metadata": {},
     "output_type": "execute_result"
    }
   ],
   "source": [
    "df.head()"
   ]
  },
  {
   "cell_type": "code",
   "execution_count": 131,
   "metadata": {},
   "outputs": [],
   "source": [
    "dummies = pd.get_dummies(df,sparse=True)"
   ]
  },
  {
   "cell_type": "code",
   "execution_count": 134,
   "metadata": {},
   "outputs": [
    {
     "data": {
      "text/plain": [
       "RPT_YR                              2015\n",
       "IMAGE_NUM             201508119000814199\n",
       "TRANSACTION_DT       2015-07-31 00:00:00\n",
       "TRANSACTION_AMT                   266.77\n",
       "SUB_ID               4081220151248555500\n",
       "                            ...         \n",
       "CAND_ID_S8WA00194                      0\n",
       "CAND_ID_S8WA00228                      0\n",
       "CAND_ID_S8WI00026                      0\n",
       "CAND_ID_S8WV00127                      0\n",
       "CAND_ID_S8WV00143                      0\n",
       "Name: 0, Length: 1987656, dtype: object"
      ]
     },
     "execution_count": 134,
     "metadata": {},
     "output_type": "execute_result"
    }
   ],
   "source": [
    "dummies.iloc[0,:]"
   ]
  },
  {
   "cell_type": "code",
   "execution_count": null,
   "metadata": {},
   "outputs": [],
   "source": [
    "from sklearn.preprocessing import MinMaxScaler\n",
    "scaler = MinMaxScaler()\n",
    "ageAndFare = scaler.fit_transform(ageAndFare)"
   ]
  },
  {
   "cell_type": "code",
   "execution_count": 127,
   "metadata": {},
   "outputs": [
    {
     "ename": "ValueError",
     "evalue": "could not convert string to float: 'N'",
     "output_type": "error",
     "traceback": [
      "\u001b[1;31m---------------------------------------------------------------------------\u001b[0m",
      "\u001b[1;31mValueError\u001b[0m                                Traceback (most recent call last)",
      "\u001b[1;32m<ipython-input-127-b13a4c7ba567>\u001b[0m in \u001b[0;36m<module>\u001b[1;34m\u001b[0m\n\u001b[0;32m      2\u001b[0m \u001b[1;32mimport\u001b[0m \u001b[0mnumpy\u001b[0m \u001b[1;32mas\u001b[0m \u001b[0mnp\u001b[0m\u001b[1;33m\u001b[0m\u001b[1;33m\u001b[0m\u001b[0m\n\u001b[0;32m      3\u001b[0m \u001b[1;33m\u001b[0m\u001b[0m\n\u001b[1;32m----> 4\u001b[1;33m \u001b[0mclustering\u001b[0m \u001b[1;33m=\u001b[0m \u001b[0mDBSCAN\u001b[0m\u001b[1;33m(\u001b[0m\u001b[0meps\u001b[0m\u001b[1;33m=\u001b[0m\u001b[1;36m3\u001b[0m\u001b[1;33m,\u001b[0m \u001b[0mmin_samples\u001b[0m\u001b[1;33m=\u001b[0m\u001b[1;36m2\u001b[0m\u001b[1;33m)\u001b[0m\u001b[1;33m.\u001b[0m\u001b[0mfit_predict\u001b[0m\u001b[1;33m(\u001b[0m\u001b[0mdf\u001b[0m\u001b[1;33m.\u001b[0m\u001b[0miloc\u001b[0m\u001b[1;33m[\u001b[0m\u001b[1;33m:\u001b[0m\u001b[1;33m,\u001b[0m\u001b[1;36m1\u001b[0m\u001b[1;33m:\u001b[0m\u001b[1;33m]\u001b[0m\u001b[1;33m)\u001b[0m\u001b[1;33m\u001b[0m\u001b[1;33m\u001b[0m\u001b[0m\n\u001b[0m\u001b[0;32m      5\u001b[0m \u001b[1;31m#clustering.labels_\u001b[0m\u001b[1;33m\u001b[0m\u001b[1;33m\u001b[0m\u001b[1;33m\u001b[0m\u001b[0m\n\u001b[0;32m      6\u001b[0m \u001b[1;33m\u001b[0m\u001b[0m\n",
      "\u001b[1;32m~\\Anaconda3\\lib\\site-packages\\sklearn\\cluster\\dbscan_.py\u001b[0m in \u001b[0;36mfit_predict\u001b[1;34m(self, X, y, sample_weight)\u001b[0m\n\u001b[0;32m    381\u001b[0m             \u001b[0mcluster\u001b[0m \u001b[0mlabels\u001b[0m\u001b[1;33m\u001b[0m\u001b[1;33m\u001b[0m\u001b[0m\n\u001b[0;32m    382\u001b[0m         \"\"\"\n\u001b[1;32m--> 383\u001b[1;33m         \u001b[0mself\u001b[0m\u001b[1;33m.\u001b[0m\u001b[0mfit\u001b[0m\u001b[1;33m(\u001b[0m\u001b[0mX\u001b[0m\u001b[1;33m,\u001b[0m \u001b[0msample_weight\u001b[0m\u001b[1;33m=\u001b[0m\u001b[0msample_weight\u001b[0m\u001b[1;33m)\u001b[0m\u001b[1;33m\u001b[0m\u001b[1;33m\u001b[0m\u001b[0m\n\u001b[0m\u001b[0;32m    384\u001b[0m         \u001b[1;32mreturn\u001b[0m \u001b[0mself\u001b[0m\u001b[1;33m.\u001b[0m\u001b[0mlabels_\u001b[0m\u001b[1;33m\u001b[0m\u001b[1;33m\u001b[0m\u001b[0m\n",
      "\u001b[1;32m~\\Anaconda3\\lib\\site-packages\\sklearn\\cluster\\dbscan_.py\u001b[0m in \u001b[0;36mfit\u001b[1;34m(self, X, y, sample_weight)\u001b[0m\n\u001b[0;32m    347\u001b[0m \u001b[1;33m\u001b[0m\u001b[0m\n\u001b[0;32m    348\u001b[0m         \"\"\"\n\u001b[1;32m--> 349\u001b[1;33m         \u001b[0mX\u001b[0m \u001b[1;33m=\u001b[0m \u001b[0mcheck_array\u001b[0m\u001b[1;33m(\u001b[0m\u001b[0mX\u001b[0m\u001b[1;33m,\u001b[0m \u001b[0maccept_sparse\u001b[0m\u001b[1;33m=\u001b[0m\u001b[1;34m'csr'\u001b[0m\u001b[1;33m)\u001b[0m\u001b[1;33m\u001b[0m\u001b[1;33m\u001b[0m\u001b[0m\n\u001b[0m\u001b[0;32m    350\u001b[0m         clust = dbscan(X, sample_weight=sample_weight,\n\u001b[0;32m    351\u001b[0m                        **self.get_params())\n",
      "\u001b[1;32m~\\Anaconda3\\lib\\site-packages\\sklearn\\utils\\validation.py\u001b[0m in \u001b[0;36mcheck_array\u001b[1;34m(array, accept_sparse, accept_large_sparse, dtype, order, copy, force_all_finite, ensure_2d, allow_nd, ensure_min_samples, ensure_min_features, warn_on_dtype, estimator)\u001b[0m\n\u001b[0;32m    534\u001b[0m         \u001b[1;31m# make sure we actually converted to numeric:\u001b[0m\u001b[1;33m\u001b[0m\u001b[1;33m\u001b[0m\u001b[1;33m\u001b[0m\u001b[0m\n\u001b[0;32m    535\u001b[0m         \u001b[1;32mif\u001b[0m \u001b[0mdtype_numeric\u001b[0m \u001b[1;32mand\u001b[0m \u001b[0marray\u001b[0m\u001b[1;33m.\u001b[0m\u001b[0mdtype\u001b[0m\u001b[1;33m.\u001b[0m\u001b[0mkind\u001b[0m \u001b[1;33m==\u001b[0m \u001b[1;34m\"O\"\u001b[0m\u001b[1;33m:\u001b[0m\u001b[1;33m\u001b[0m\u001b[1;33m\u001b[0m\u001b[0m\n\u001b[1;32m--> 536\u001b[1;33m             \u001b[0marray\u001b[0m \u001b[1;33m=\u001b[0m \u001b[0marray\u001b[0m\u001b[1;33m.\u001b[0m\u001b[0mastype\u001b[0m\u001b[1;33m(\u001b[0m\u001b[0mnp\u001b[0m\u001b[1;33m.\u001b[0m\u001b[0mfloat64\u001b[0m\u001b[1;33m)\u001b[0m\u001b[1;33m\u001b[0m\u001b[1;33m\u001b[0m\u001b[0m\n\u001b[0m\u001b[0;32m    537\u001b[0m         \u001b[1;32mif\u001b[0m \u001b[1;32mnot\u001b[0m \u001b[0mallow_nd\u001b[0m \u001b[1;32mand\u001b[0m \u001b[0marray\u001b[0m\u001b[1;33m.\u001b[0m\u001b[0mndim\u001b[0m \u001b[1;33m>=\u001b[0m \u001b[1;36m3\u001b[0m\u001b[1;33m:\u001b[0m\u001b[1;33m\u001b[0m\u001b[1;33m\u001b[0m\u001b[0m\n\u001b[0;32m    538\u001b[0m             raise ValueError(\"Found array with dim %d. %s expected <= 2.\"\n",
      "\u001b[1;31mValueError\u001b[0m: could not convert string to float: 'N'"
     ]
    }
   ],
   "source": [
    "from sklearn.cluster import DBSCAN\n",
    "import numpy as np\n",
    "\n",
    "clustering = DBSCAN(eps=3, min_samples=2).fit_predict(df.iloc[:,1:])\n",
    "#clustering.labels_\n",
    "\n",
    "clustering "
   ]
  },
  {
   "cell_type": "code",
   "execution_count": 125,
   "metadata": {},
   "outputs": [
    {
     "data": {
      "text/plain": [
       "<matplotlib.axes._subplots.AxesSubplot at 0x1e2a3043128>"
      ]
     },
     "execution_count": 125,
     "metadata": {},
     "output_type": "execute_result"
    },
    {
     "data": {
      "image/png": "[encoded data removed]",
      "text/plain": [
       "<Figure size 432x288 with 1 Axes>"
      ]
     },
     "metadata": {
      "needs_background": "light"
     },
     "output_type": "display_data"
    },
    {
     "data": {
      "image/png": "[encoded data removed]",
      "text/plain": [
       "<Figure size 432x288 with 1 Axes>"
      ]
     },
     "metadata": {
      "needs_background": "light"
     },
     "output_type": "display_data"
    },
    {
     "data": {
      "image/png": "[encoded data removed]",
      "text/plain": [
       "<Figure size 432x288 with 1 Axes>"
      ]
     },
     "metadata": {
      "needs_background": "light"
     },
     "output_type": "display_data"
    },
    {
     "data": {
      "image/png": "[encoded data removed]",
      "text/plain": [
       "<Figure size 432x288 with 1 Axes>"
      ]
     },
     "metadata": {
      "needs_background": "light"
     },
     "output_type": "display_data"
    }
   ],
   "source": [
    "#source: https://www.mikulskibartosz.name/outlier-detection-with-scikit-learn/\n",
    "\n",
    "import seaborn as sns\n",
    "import pandas as pd\n",
    "titanic = sns.load_dataset('titanic')\n",
    "titanic = titanic.copy()\n",
    "titanic = titanic.dropna()\n",
    "titanic['age'].plot.hist(\n",
    "  bins = 50,\n",
    "  title = \"Histogram of the age variable\"\n",
    ")\n",
    "\n",
    "from scipy.stats import zscore\n",
    "titanic[\"age_zscore\"] = zscore(titanic[\"age\"])\n",
    "titanic[\"is_outlier\"] = titanic[\"age_zscore\"].apply(\n",
    "  lambda x: x <= -2.5 or x >= 2.5\n",
    ")\n",
    "titanic[titanic[\"is_outlier\"]]\n",
    "\n",
    "ageAndFare = titanic[[\"age\", \"fare\"]]\n",
    "ageAndFare.plot.scatter(x = \"age\", y = \"fare\")\n",
    "\n",
    "from sklearn.preprocessing import MinMaxScaler\n",
    "scaler = MinMaxScaler()\n",
    "ageAndFare = scaler.fit_transform(ageAndFare)\n",
    "ageAndFare = pd.DataFrame(ageAndFare, columns = [\"age\", \"fare\"])\n",
    "ageAndFare.plot.scatter(x = \"age\", y = \"fare\")\n",
    "\n",
    "from sklearn.cluster import DBSCAN\n",
    "outlier_detection = DBSCAN(\n",
    "  eps = 0.5,\n",
    "  metric=\"euclidean\",\n",
    "  min_samples = 3,\n",
    "  n_jobs = -1)\n",
    "clusters = outlier_detection.fit_predict(ageAndFare)\n",
    "\n",
    "clusters\n",
    "\n",
    "from matplotlib import cm\n",
    "cmap = cm.get_cmap('Accent')\n",
    "ageAndFare.plot.scatter(\n",
    "  x = \"age\",\n",
    "  y = \"fare\",\n",
    "  c = clusters,\n",
    "  cmap = cmap,\n",
    "  colorbar = False\n",
    ")"
   ]
  },
  {
   "cell_type": "code",
   "execution_count": 4,
   "metadata": {
    "scrolled": true
   },
   "outputs": [
    {
     "name": "stdout",
     "output_type": "stream",
     "text": [
      "GILLIBRAND 2020 ID: C00694018\n",
      "Top categories: ['CREDIT CARD - SEE BELOW IF ITEMIZED' 'COMMUNICATIONS CONSULTING'\n",
      " 'ADVERTISING']\n",
      "2\n",
      "ADVERTISING    2\n",
      "Name: PURPOSE, dtype: int64\n"
     ]
    },
    {
     "data": {
      "text/html": [
       "<div>\n",
       "<style scoped>\n",
       "    .dataframe tbody tr th:only-of-type {\n",
       "        vertical-align: middle;\n",
       "    }\n",
       "\n",
       "    .dataframe tbody tr th {\n",
       "        vertical-align: top;\n",
       "    }\n",
       "\n",
       "    .dataframe thead th {\n",
       "        text-align: right;\n",
       "    }\n",
       "</style>\n",
       "<table border=\"1\" class=\"dataframe\">\n",
       "  <thead>\n",
       "    <tr style=\"text-align: right;\">\n",
       "      <th></th>\n",
       "      <th>CMTE_NM</th>\n",
       "      <th>RPT_TP</th>\n",
       "      <th>NAME</th>\n",
       "      <th>CITY</th>\n",
       "      <th>STATE</th>\n",
       "      <th>ZIP_CODE</th>\n",
       "      <th>TRANSACTION_DT</th>\n",
       "      <th>TRANSACTION_AMT</th>\n",
       "      <th>PURPOSE</th>\n",
       "      <th>CATEGORY</th>\n",
       "    </tr>\n",
       "    <tr>\n",
       "      <th>CMTE_ID</th>\n",
       "      <th></th>\n",
       "      <th></th>\n",
       "      <th></th>\n",
       "      <th></th>\n",
       "      <th></th>\n",
       "      <th></th>\n",
       "      <th></th>\n",
       "      <th></th>\n",
       "      <th></th>\n",
       "      <th></th>\n",
       "    </tr>\n",
       "  </thead>\n",
       "  <tbody>\n",
       "    <tr>\n",
       "      <td>C00694018</td>\n",
       "      <td>GILLIBRAND 2020</td>\n",
       "      <td>Q2</td>\n",
       "      <td>TWITTER</td>\n",
       "      <td>PHILADELPHIA</td>\n",
       "      <td>PA</td>\n",
       "      <td>191700001</td>\n",
       "      <td>6/12/2019</td>\n",
       "      <td>23590.37</td>\n",
       "      <td>ADVERTISING</td>\n",
       "      <td>NaN</td>\n",
       "    </tr>\n",
       "    <tr>\n",
       "      <td>C00694018</td>\n",
       "      <td>GILLIBRAND 2020</td>\n",
       "      <td>Q2</td>\n",
       "      <td>GOOGLE</td>\n",
       "      <td>MOUNTAIN VIEW</td>\n",
       "      <td>CA</td>\n",
       "      <td>940431351</td>\n",
       "      <td>6/12/2019</td>\n",
       "      <td>67148.93</td>\n",
       "      <td>ADVERTISING</td>\n",
       "      <td>NaN</td>\n",
       "    </tr>\n",
       "  </tbody>\n",
       "</table>\n",
       "</div>"
      ],
      "text/plain": [
       "                   CMTE_NM RPT_TP     NAME           CITY STATE   ZIP_CODE  \\\n",
       "CMTE_ID                                                                      \n",
       "C00694018  GILLIBRAND 2020     Q2  TWITTER   PHILADELPHIA    PA  191700001   \n",
       "C00694018  GILLIBRAND 2020     Q2   GOOGLE  MOUNTAIN VIEW    CA  940431351   \n",
       "\n",
       "          TRANSACTION_DT  TRANSACTION_AMT      PURPOSE CATEGORY  \n",
       "CMTE_ID                                                          \n",
       "C00694018      6/12/2019         23590.37  ADVERTISING      NaN  \n",
       "C00694018      6/12/2019         67148.93  ADVERTISING      NaN  "
      ]
     },
     "execution_count": 4,
     "metadata": {},
     "output_type": "execute_result"
    }
   ],
   "source": [
    "\n",
    "# Get committee id from committee name\n",
    "cmte_name = \"GILLIBRAND 2020\" #\"WARREN FOR PRESIDENT, INC.\" #INPUT\n",
    "cmte_data = cmte_names[cmte_names['CMTE_NM']==cmte_name].copy()\n",
    "cmte_id = cmte_data['CMTE_ID'].values[0]\n",
    "print(cmte_name, \"ID:\", cmte_id)\n",
    "\n",
    "# Committee-level data\n",
    "cmte = df[df.index==cmte_id].copy()\n",
    "pos_cmte = cmte[cmte['TRANSACTION_AMT']>0]\n",
    "gpd_pos_cmte = pos_cmte.groupby('PURPOSE')\n",
    "cats_paid = gpd_pos_cmte['TRANSACTION_AMT'].sum().sort_values(ascending=False)\n",
    "top_cats = cats_paid.index[:3]\n",
    "print('Top categories:',top_cats.values)\n",
    "\n",
    "# Detect outliers\n",
    "outliers = pd.DataFrame()\n",
    "for cat in top_cats:\n",
    "    cmte_cat = cmte[cmte['PURPOSE']==cat].copy()\n",
    "    outliers = outliers.append(cmte_cat[np.abs(stats.zscore(cmte_cat['TRANSACTION_AMT'])) > 3])\n",
    "    \n",
    "print(len(outliers))\n",
    "print(outliers['PURPOSE'].value_counts())\n",
    "outliers[CORE_COLUMNS]"
   ]
  },
  {
   "cell_type": "code",
   "execution_count": 5,
   "metadata": {},
   "outputs": [
    {
     "data": {
      "text/plain": [
       "'C:\\\\Users\\\\Brandon\\\\Documents\\\\Insight\\\\Data - Insight\\\\oppexp20'"
      ]
     },
     "execution_count": 5,
     "metadata": {},
     "output_type": "execute_result"
    }
   ],
   "source": [
    "import os\n",
    "os.getcwd() "
   ]
  }
 ],
 "metadata": {
  "kernelspec": {
   "display_name": "Python 3",
   "language": "python",
   "name": "python3"
  },
  "language_info": {
   "codemirror_mode": {
    "name": "ipython",
    "version": 3
   },
   "file_extension": ".py",
   "mimetype": "text/x-python",
   "name": "python",
   "nbconvert_exporter": "python",
   "pygments_lexer": "ipython3",
   "version": "3.7.4"
  }
 },
 "nbformat": 4,
 "nbformat_minor": 2
}
