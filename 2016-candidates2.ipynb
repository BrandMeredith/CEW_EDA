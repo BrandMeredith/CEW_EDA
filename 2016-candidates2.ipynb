{
 "cells": [
  {
   "cell_type": "code",
   "execution_count": 1,
   "metadata": {},
   "outputs": [
    {
     "name": "stdout",
     "output_type": "stream",
     "text": [
      "           CMTE_ID AMNDT_IND  RPT_YR RPT_TP           IMAGE_NUM LINE_NUM  \\\n",
      "0        C00000422         N    2015     M8  201508119000814199      21B   \n",
      "1        C00000422         N    2015     M8  201508119000814199      21B   \n",
      "2        C00000422         N    2015     M9  201509109001633191      21B   \n",
      "3        C00000422         N    2015     M7  201507149000106216      21B   \n",
      "4        C00000422         N    2015     YE  201601139004480408      21B   \n",
      "...            ...       ...     ...    ...                 ...      ...   \n",
      "1755093  C99002396         N    2016     Q2  201607079020368424      21B   \n",
      "1755094  C99002396         N    2016     Q2  201607079020368424      21B   \n",
      "1755095  C99002396         N    2016     Q2  201607079020368424      21B   \n",
      "1755096  C99002396         N    2016     Q2  201607079020368425      21B   \n",
      "1755097  C99002396         N    2016     Q2  201607079020368425      21B   \n",
      "\n",
      "        FORM_TP_CD SCHED_TP_CD                               NAME  \\\n",
      "0              F3X          SB                         PAYMENTECH   \n",
      "1              F3X          SB  FIRST NATIONAL MERCHANT SOLUTIONS   \n",
      "2              F3X          SB                   CHASE PAYMENTECH   \n",
      "3              F3X          SB  FIRST NATIONAL MERCHANT SOLUTIONS   \n",
      "4              F3X          SB                   CHASE PAYMENTECH   \n",
      "...            ...         ...                                ...   \n",
      "1755093        F3X          SB                   SIMMONS, ERNIE V   \n",
      "1755094        F3X          SB                    SIMMONS, SKIP V   \n",
      "1755095        F3X          SB                    SIMMONS, SKIP V   \n",
      "1755096        F3X          SB                 WOODHOUSE, REBECCA   \n",
      "1755097        F3X          SB                 WOODHOUSE, REBECCA   \n",
      "\n",
      "                CITY  ...   CMTE_CITY CMTE_ST   CMTE_ZIP  CMTE_DSGN CMTE_TP  \\\n",
      "0              SALEM  ...  WASHINGTON      DC  200017400          B       Q   \n",
      "1              OMAHA  ...  WASHINGTON      DC  200017400          B       Q   \n",
      "2              SALEM  ...  WASHINGTON      DC  200017400          B       Q   \n",
      "3              OMAHA  ...  WASHINGTON      DC  200017400          B       Q   \n",
      "4              SALEM  ...  WASHINGTON      DC  200017400          B       Q   \n",
      "...              ...  ...         ...     ...        ...        ...     ...   \n",
      "1755093  PORT ORANGE  ...    BELLEVUE      WA      98009          U       Q   \n",
      "1755094  PORT ORANGE  ...    BELLEVUE      WA      98009          U       Q   \n",
      "1755095  PORT ORANGE  ...    BELLEVUE      WA      98009          U       Q   \n",
      "1755096          NaN  ...    BELLEVUE      WA      98009          U       Q   \n",
      "1755097          NaN  ...    BELLEVUE      WA      98009          U       Q   \n",
      "\n",
      "        CMTE_PTY_AFFILIATION CMTE_FILING_FREQ ORG_TP      CONNECTED_ORG_NM  \\\n",
      "0                        NaN                M      M  DELAWARE MEDICAL PAC   \n",
      "1                        NaN                M      M  DELAWARE MEDICAL PAC   \n",
      "2                        NaN                M      M  DELAWARE MEDICAL PAC   \n",
      "3                        NaN                M      M  DELAWARE MEDICAL PAC   \n",
      "4                        NaN                M      M  DELAWARE MEDICAL PAC   \n",
      "...                      ...              ...    ...                   ...   \n",
      "1755093                  NaN                Q      M                  NONE   \n",
      "1755094                  NaN                Q      M                  NONE   \n",
      "1755095                  NaN                Q      M                  NONE   \n",
      "1755096                  NaN                Q      M                  NONE   \n",
      "1755097                  NaN                Q      M                  NONE   \n",
      "\n",
      "        CAND_ID  \n",
      "0           NaN  \n",
      "1           NaN  \n",
      "2           NaN  \n",
      "3           NaN  \n",
      "4           NaN  \n",
      "...         ...  \n",
      "1755093     NaN  \n",
      "1755094     NaN  \n",
      "1755095     NaN  \n",
      "1755096     NaN  \n",
      "1755097     NaN  \n",
      "\n",
      "[1737230 rows x 39 columns]\n",
      "Wall time: 36.6 s\n"
     ]
    }
   ],
   "source": [
    "%%time\n",
    "\n",
    "import pandas as pd\n",
    "import numpy as np\n",
    "from scipy import stats\n",
    "from datetime import datetime\n",
    "\n",
    "CORE_COLUMNS = ['CMTE_NM','RPT_TP','NAME','CITY','STATE','ZIP_CODE','TRANSACTION_DT','TRANSACTION_AMT','PURPOSE','CATEGORY']\n",
    "pres_cmtes = ['DONALD J. TRUMP FOR PRESIDENT, INC.','CRUZ FOR PRESIDENT','KASICH FOR AMERICA, INC.','MARCO RUBIO FOR PRESIDENT','CARSON AMERICA','GILMORE FOR AMERICA LLC','SANTORUM FOR PRESIDENT 2016','PATAKI FOR PRESIDENT INC']\n",
    "FINAL_PRIMARY_DT = \"June 7, 2016\"\n",
    "final_primary = datetime.strptime(FINAL_PRIMARY_DT, '%B %d, %Y')\n",
    "\n",
    "# Read in data\n",
    "df_header = pd.read_csv(\"~/Documents/Insight/Data - Insight/oppexp_header_file.csv\")\n",
    "df = pd.read_csv(\"~/Documents/Insight/Data - Insight/oppexp16/oppexp.txt\", delimiter=\"|\", low_memory=False, names=df_header.columns, index_col=False)\n",
    "cmte_header = pd.read_csv(\"~/Documents/Insight/Data - Insight/cm20/cm_header_file.csv\") # pull in header for committee names file\n",
    "cmte_names = pd.read_csv(\"~/Documents/Insight/Data - Insight/cm20/cm.txt\", delimiter=\"|\", names=cmte_header.columns) # pull in committee names file\n",
    "\n",
    "# Clean data\n",
    "df = ( df.set_index('CMTE_ID') ).join(cmte_names.set_index('CMTE_ID')) \n",
    "df = df.reset_index()\n",
    "df['TRANSACTION_DT']=pd.to_datetime(df['TRANSACTION_DT'],errors = 'coerce')\n",
    "df = df[df['TRANSACTION_AMT']>0]\n",
    "print(df)"
   ]
  },
  {
   "cell_type": "code",
   "execution_count": 2,
   "metadata": {},
   "outputs": [],
   "source": [
    "pres_cmtes = ['DONALD J. TRUMP FOR PRESIDENT, INC.','CRUZ FOR PRESIDENT','KASICH FOR AMERICA, INC.','MARCO RUBIO FOR PRESIDENT','CARSON AMERICA','GILMORE FOR AMERICA LLC','SANTORUM FOR PRESIDENT 2016','PATAKI FOR PRESIDENT INC']\n",
    "\n",
    "df = df[df.apply(lambda x: x.CMTE_NM in pres_cmtes, axis=1)]\n",
    "\n",
    "from datetime import datetime\n",
    "FINAL_PRIMARY_DT = \"June 7, 2016\"\n",
    "final_primary = datetime.strptime(FINAL_PRIMARY_DT, '%B %d, %Y')\n",
    "\n",
    "df = df[df.TRANSACTION_DT.apply(lambda x: x<=final_primary) ]\n"
   ]
  },
  {
   "cell_type": "code",
   "execution_count": null,
   "metadata": {},
   "outputs": [],
   "source": []
  },
  {
   "cell_type": "code",
   "execution_count": 3,
   "metadata": {},
   "outputs": [],
   "source": [
    "# %% time\n",
    "# from sklearn.cluster import DBSCAN\n",
    "# import numpy as np\n",
    "\n",
    "# clustering = DBSCAN(eps=3, min_samples=2).fit_predict(df[['TRANSACTION_AMT','TRANSACTION_DT']].join(dummies))\n",
    "# #clustering.labels_\n",
    "\n",
    "# print(clustering) "
   ]
  },
  {
   "cell_type": "code",
   "execution_count": 4,
   "metadata": {},
   "outputs": [],
   "source": [
    "# from sklearn.cluster import DBSCAN\n",
    "# import numpy as np\n",
    "\n",
    "# clustering = DBSCAN(eps=3, min_samples=2).fit_predict(df.iloc[:,1:])\n",
    "# #clustering.labels_\n",
    "\n",
    "# clustering "
   ]
  },
  {
   "cell_type": "code",
   "execution_count": 5,
   "metadata": {},
   "outputs": [
    {
     "data": {
      "text/html": [
       "<div>\n",
       "<style scoped>\n",
       "    .dataframe tbody tr th:only-of-type {\n",
       "        vertical-align: middle;\n",
       "    }\n",
       "\n",
       "    .dataframe tbody tr th {\n",
       "        vertical-align: top;\n",
       "    }\n",
       "\n",
       "    .dataframe thead th {\n",
       "        text-align: right;\n",
       "    }\n",
       "</style>\n",
       "<table border=\"1\" class=\"dataframe\">\n",
       "  <thead>\n",
       "    <tr style=\"text-align: right;\">\n",
       "      <th></th>\n",
       "      <th>PURPOSE</th>\n",
       "      <th>TRANSACTION_AMT</th>\n",
       "    </tr>\n",
       "  </thead>\n",
       "  <tbody>\n",
       "    <tr>\n",
       "      <td>898</td>\n",
       "      <td>MEDIA</td>\n",
       "      <td>29997063.35</td>\n",
       "    </tr>\n",
       "    <tr>\n",
       "      <td>899</td>\n",
       "      <td>MEDIA BUY</td>\n",
       "      <td>21839831.23</td>\n",
       "    </tr>\n",
       "    <tr>\n",
       "      <td>1198</td>\n",
       "      <td>PLACED MEDIA</td>\n",
       "      <td>20000149.00</td>\n",
       "    </tr>\n",
       "    <tr>\n",
       "      <td>1748</td>\n",
       "      <td>TRAVEL</td>\n",
       "      <td>10913731.21</td>\n",
       "    </tr>\n",
       "    <tr>\n",
       "      <td>1250</td>\n",
       "      <td>POSTAGE</td>\n",
       "      <td>9128644.84</td>\n",
       "    </tr>\n",
       "    <tr>\n",
       "      <td>...</td>\n",
       "      <td>...</td>\n",
       "      <td>...</td>\n",
       "    </tr>\n",
       "    <tr>\n",
       "      <td>76</td>\n",
       "      <td>BATTERIES</td>\n",
       "      <td>3.69</td>\n",
       "    </tr>\n",
       "    <tr>\n",
       "      <td>970</td>\n",
       "      <td>MOBILE PHONE EXPENSE</td>\n",
       "      <td>3.50</td>\n",
       "    </tr>\n",
       "    <tr>\n",
       "      <td>1197</td>\n",
       "      <td>PICTURE PRINTING</td>\n",
       "      <td>3.20</td>\n",
       "    </tr>\n",
       "    <tr>\n",
       "      <td>1736</td>\n",
       "      <td>TRANSACTION FEE</td>\n",
       "      <td>1.00</td>\n",
       "    </tr>\n",
       "    <tr>\n",
       "      <td>2315</td>\n",
       "      <td>TRAVEL: PARKING SERVICES [LINDBERG: SB23.248849]</td>\n",
       "      <td>1.00</td>\n",
       "    </tr>\n",
       "  </tbody>\n",
       "</table>\n",
       "<p>2488 rows × 2 columns</p>\n",
       "</div>"
      ],
      "text/plain": [
       "                                               PURPOSE  TRANSACTION_AMT\n",
       "898                                              MEDIA      29997063.35\n",
       "899                                          MEDIA BUY      21839831.23\n",
       "1198                                      PLACED MEDIA      20000149.00\n",
       "1748                                            TRAVEL      10913731.21\n",
       "1250                                           POSTAGE       9128644.84\n",
       "...                                                ...              ...\n",
       "76                                           BATTERIES             3.69\n",
       "970                               MOBILE PHONE EXPENSE             3.50\n",
       "1197                                  PICTURE PRINTING             3.20\n",
       "1736                                   TRANSACTION FEE             1.00\n",
       "2315  TRAVEL: PARKING SERVICES [LINDBERG: SB23.248849]             1.00\n",
       "\n",
       "[2488 rows x 2 columns]"
      ]
     },
     "execution_count": 5,
     "metadata": {},
     "output_type": "execute_result"
    }
   ],
   "source": [
    "\n",
    "grouped = df[['PURPOSE','TRANSACTION_AMT']].groupby('PURPOSE').sum().reset_index()\n",
    "grouped = grouped.sort_values('TRANSACTION_AMT', ascending=False)\n",
    "grouped"
   ]
  },
  {
   "cell_type": "code",
   "execution_count": 6,
   "metadata": {},
   "outputs": [],
   "source": [
    "# grouped = grouped.set_index('PURPOSE')\n",
    "# num = grouped.loc[top_cats].sum().values[0]\n",
    "# num"
   ]
  },
  {
   "cell_type": "code",
   "execution_count": 7,
   "metadata": {},
   "outputs": [
    {
     "data": {
      "text/plain": [
       "898                                                 MEDIA\n",
       "899                                             MEDIA BUY\n",
       "1198                                         PLACED MEDIA\n",
       "1748                                               TRAVEL\n",
       "1250                                              POSTAGE\n",
       "755                               FUNDRAISING PHONE CALLS\n",
       "1140                                              PAYROLL\n",
       "1324                                     PRINTING/POSTAGE\n",
       "2459                                          WEB SERVICE\n",
       "348                                   CREDIT CARD PAYMENT\n",
       "1215                        POLITICAL STRATEGY CONSULTING\n",
       "1266                                     POSTAGE/PRINTING\n",
       "451                             DIGITAL MEDIA/WEB SERVICE\n",
       "1808                                          TRAVEL: AIR\n",
       "341                  CREDIT CARD MERCHANT FEE/LIST RENTAL\n",
       "255             COLLATERAL: TSHIRTS/MUGS/STICKERS/FREIGHT\n",
       "1578                                               SALARY\n",
       "344                 CREDIT CARD MERCHANT FEES/LIST RENTAL\n",
       "381                          DATABASE MANAGEMENT SERVICES\n",
       "449     DIGITAL MEDIA SERVICE/SURVEY RESEARCH/DONOR MO...\n",
       "1094                          ONLINE FUNDRAISING SERVICES\n",
       "875                                           LIST RENTAL\n",
       "1658                                 STRATEGIC CONSULTING\n",
       "2475               WEBSITE DEVELOPMENT/DIGITAL CONSULTING\n",
       "687                                      FIELD CONSULTING\n",
       "350                         CREDIT CARD PAYMENT-SEE MEMOS\n",
       "30                                                AIRFARE\n",
       "630                                       FACILITY RENTAL\n",
       "376                           DATABASE MANAGEMENT SERVICE\n",
       "857                                      LEGAL CONSULTING\n",
       "1231                 POLITICAL STRATEGY CONSULTING/TRAVEL\n",
       "1294                         PRINTING AND DESIGN SERVICES\n",
       "1545                                                 RENT\n",
       "339                              CREDIT CARD MERCHANT FEE\n",
       "601                                 EVENT STAGING EXPENSE\n",
       "63                               BALLOT ACCESS CONSULTING\n",
       "1697                                        TELEMARKETING\n",
       "241                                      COLLATERAL: HATS\n",
       "882                                               LODGING\n",
       "2468                                         WEB SERVICES\n",
       "1265                                  POSTAGE/LIST RENTAL\n",
       "460                      DIRECT MAIL PRINTING AND POSTAGE\n",
       "1699                               TELEMARKETING AND DATA\n",
       "1107                                ONLINE/WEB CONSULTING\n",
       "353                 CREDIT CARD PAYMENT: SEE MEMO ENTRIES\n",
       "1674                               SURVEY RESEARCH/TRAVEL\n",
       "693                                    FINANCE CONSULTING\n",
       "1662                                  STRATEGY CONSULTING\n",
       "463              DISBURSEMENTS LESS THAN $200 NOT ITEMIZE\n",
       "1727                                TOWN HALL PRODUCTIONS\n",
       "Name: PURPOSE, dtype: object"
      ]
     },
     "execution_count": 7,
     "metadata": {},
     "output_type": "execute_result"
    }
   ],
   "source": [
    "num_cats = 50\n",
    "top_cats = grouped['PURPOSE'][:num_cats]\n",
    "top_cats"
   ]
  },
  {
   "cell_type": "code",
   "execution_count": 8,
   "metadata": {},
   "outputs": [
    {
     "name": "stdout",
     "output_type": "stream",
     "text": [
      "218962877.2999996\n"
     ]
    }
   ],
   "source": [
    "num=grouped[:num_cats].sum().values[1]\n",
    "print(num)\n"
   ]
  },
  {
   "cell_type": "code",
   "execution_count": 9,
   "metadata": {},
   "outputs": [
    {
     "name": "stdout",
     "output_type": "stream",
     "text": [
      "295225134.19\n",
      "Wall time: 1.98 ms\n"
     ]
    }
   ],
   "source": [
    "%%time\n",
    "\n",
    "den = df['TRANSACTION_AMT'].sum()\n",
    "print(den)"
   ]
  },
  {
   "cell_type": "code",
   "execution_count": 10,
   "metadata": {},
   "outputs": [
    {
     "data": {
      "text/plain": [
       "0.741681015407991"
      ]
     },
     "execution_count": 10,
     "metadata": {},
     "output_type": "execute_result"
    }
   ],
   "source": [
    "# 54% coverage of *total amount*\n",
    "num/den"
   ]
  },
  {
   "cell_type": "code",
   "execution_count": 11,
   "metadata": {},
   "outputs": [
    {
     "data": {
      "text/html": [
       "<div>\n",
       "<style scoped>\n",
       "    .dataframe tbody tr th:only-of-type {\n",
       "        vertical-align: middle;\n",
       "    }\n",
       "\n",
       "    .dataframe tbody tr th {\n",
       "        vertical-align: top;\n",
       "    }\n",
       "\n",
       "    .dataframe thead th {\n",
       "        text-align: right;\n",
       "    }\n",
       "</style>\n",
       "<table border=\"1\" class=\"dataframe\">\n",
       "  <thead>\n",
       "    <tr style=\"text-align: right;\">\n",
       "      <th></th>\n",
       "      <th>PURPOSE</th>\n",
       "      <th>TRANSACTION_AMT</th>\n",
       "    </tr>\n",
       "  </thead>\n",
       "  <tbody>\n",
       "    <tr>\n",
       "      <td>1748</td>\n",
       "      <td>TRAVEL</td>\n",
       "      <td>10632</td>\n",
       "    </tr>\n",
       "    <tr>\n",
       "      <td>30</td>\n",
       "      <td>AIRFARE</td>\n",
       "      <td>3258</td>\n",
       "    </tr>\n",
       "    <tr>\n",
       "      <td>882</td>\n",
       "      <td>LODGING</td>\n",
       "      <td>3257</td>\n",
       "    </tr>\n",
       "    <tr>\n",
       "      <td>1140</td>\n",
       "      <td>PAYROLL</td>\n",
       "      <td>2813</td>\n",
       "    </tr>\n",
       "    <tr>\n",
       "      <td>1037</td>\n",
       "      <td>OFFICE SUPPLIES</td>\n",
       "      <td>1887</td>\n",
       "    </tr>\n",
       "    <tr>\n",
       "      <td>...</td>\n",
       "      <td>...</td>\n",
       "      <td>...</td>\n",
       "    </tr>\n",
       "    <tr>\n",
       "      <td>1129</td>\n",
       "      <td>PARKING SERVICES [JURIAN: SB23.6802]</td>\n",
       "      <td>1</td>\n",
       "    </tr>\n",
       "    <tr>\n",
       "      <td>1128</td>\n",
       "      <td>PARKING SERVICES [JURIAN: SB23.6801]</td>\n",
       "      <td>1</td>\n",
       "    </tr>\n",
       "    <tr>\n",
       "      <td>1126</td>\n",
       "      <td>PARKING SERVICES [DECK: SB23.7393]</td>\n",
       "      <td>1</td>\n",
       "    </tr>\n",
       "    <tr>\n",
       "      <td>1125</td>\n",
       "      <td>PARKING SERVICES [BYERS: SB23.455479]</td>\n",
       "      <td>1</td>\n",
       "    </tr>\n",
       "    <tr>\n",
       "      <td>2487</td>\n",
       "      <td>YARS SIGNS, BUMPER STICKERS &amp; T-SHIRTS</td>\n",
       "      <td>1</td>\n",
       "    </tr>\n",
       "  </tbody>\n",
       "</table>\n",
       "<p>2488 rows × 2 columns</p>\n",
       "</div>"
      ],
      "text/plain": [
       "                                     PURPOSE  TRANSACTION_AMT\n",
       "1748                                  TRAVEL            10632\n",
       "30                                   AIRFARE             3258\n",
       "882                                  LODGING             3257\n",
       "1140                                 PAYROLL             2813\n",
       "1037                         OFFICE SUPPLIES             1887\n",
       "...                                      ...              ...\n",
       "1129    PARKING SERVICES [JURIAN: SB23.6802]                1\n",
       "1128    PARKING SERVICES [JURIAN: SB23.6801]                1\n",
       "1126      PARKING SERVICES [DECK: SB23.7393]                1\n",
       "1125   PARKING SERVICES [BYERS: SB23.455479]                1\n",
       "2487  YARS SIGNS, BUMPER STICKERS & T-SHIRTS                1\n",
       "\n",
       "[2488 rows x 2 columns]"
      ]
     },
     "execution_count": 11,
     "metadata": {},
     "output_type": "execute_result"
    }
   ],
   "source": [
    "# % coverage of *number of transactions*\n",
    "grouped2 = df[['PURPOSE','TRANSACTION_AMT']].groupby('PURPOSE').count().reset_index()\n",
    "grouped2 = grouped2.sort_values('TRANSACTION_AMT', ascending=False)\n",
    "grouped2"
   ]
  },
  {
   "cell_type": "code",
   "execution_count": 12,
   "metadata": {},
   "outputs": [
    {
     "data": {
      "text/plain": [
       "1748                                               TRAVEL\n",
       "30                                                AIRFARE\n",
       "882                                               LODGING\n",
       "1140                                              PAYROLL\n",
       "1037                                      OFFICE SUPPLIES\n",
       "1578                                               SALARY\n",
       "1744                                       TRANSPORTATION\n",
       "730                                         FOOD/BEVERAGE\n",
       "734                                        FOOD/BEVERAGES\n",
       "151                                            CAR RENTAL\n",
       "1601                                             SHIPPING\n",
       "1215                        POLITICAL STRATEGY CONSULTING\n",
       "963                                         MERCHANT FEES\n",
       "725                                     FOOD AND BEVERAGE\n",
       "1250                                              POSTAGE\n",
       "1592                                            SEE MEMOS\n",
       "350                         CREDIT CARD PAYMENT-SEE MEMOS\n",
       "339                              CREDIT CARD MERCHANT FEE\n",
       "687                                      FIELD CONSULTING\n",
       "1279                                             PRINTING\n",
       "630                                       FACILITY RENTAL\n",
       "718                                                  FOOD\n",
       "2459                                          WEB SERVICE\n",
       "1545                                                 RENT\n",
       "73                                              BANK FEES\n",
       "1996                  TRAVEL: LODGING [AMEX: SB23.599732]\n",
       "1616                                             SOFTWARE\n",
       "2413                                            UTILITIES\n",
       "1994                  TRAVEL: LODGING [AMEX: SB23.455065]\n",
       "1821                      TRAVEL: AIR [AMEX: SB23.599732]\n",
       "1754    TRAVEL EXPENSE REIMBURSEMENT: ITEMIZATION BELO...\n",
       "1820                      TRAVEL: AIR [AMEX: SB23.513914]\n",
       "1809                    TRAVEL: AIR [AMEX: SB23.11631135]\n",
       "72                                               BANK FEE\n",
       "962                                          MERCHANT FEE\n",
       "1986                TRAVEL: LODGING [AMEX: SB23.11631135]\n",
       "966                                               MILEAGE\n",
       "399                                              DELIVERY\n",
       "1995                  TRAVEL: LODGING [AMEX: SB23.513914]\n",
       "840                                              INTERNET\n",
       "1162                          PERSONNEL SERVICE/EQUIPMENT\n",
       "1667                                        SUBSCRIPTIONS\n",
       "1597                                       SERVICE CHARGE\n",
       "898                                                 MEDIA\n",
       "1561                                           RENTAL CAR\n",
       "1231                 POLITICAL STRATEGY CONSULTING/TRAVEL\n",
       "1819                      TRAVEL: AIR [AMEX: SB23.455065]\n",
       "1658                                 STRATEGIC CONSULTING\n",
       "493                                    EQUIPMENT PURCHASE\n",
       "505                                      EQUIPMENT RENTAL\n",
       "Name: PURPOSE, dtype: object"
      ]
     },
     "execution_count": 12,
     "metadata": {},
     "output_type": "execute_result"
    }
   ],
   "source": [
    "num_cats = 50\n",
    "top_cats2 = grouped2['PURPOSE'][:num_cats]\n",
    "grouped2 = grouped2.set_index('PURPOSE')\n",
    "top_cats2"
   ]
  },
  {
   "cell_type": "code",
   "execution_count": 13,
   "metadata": {},
   "outputs": [
    {
     "data": {
      "text/plain": [
       "41383"
      ]
     },
     "execution_count": 13,
     "metadata": {},
     "output_type": "execute_result"
    }
   ],
   "source": [
    "num = grouped2.loc[top_cats2].sum().values[0]\n",
    "num"
   ]
  },
  {
   "cell_type": "code",
   "execution_count": 14,
   "metadata": {},
   "outputs": [
    {
     "data": {
      "text/plain": [
       "57502"
      ]
     },
     "execution_count": 14,
     "metadata": {},
     "output_type": "execute_result"
    }
   ],
   "source": [
    "den = grouped2.sum().values[0]\n",
    "den"
   ]
  },
  {
   "cell_type": "code",
   "execution_count": 15,
   "metadata": {},
   "outputs": [
    {
     "data": {
      "text/plain": [
       "0.7196793155020695"
      ]
     },
     "execution_count": 15,
     "metadata": {},
     "output_type": "execute_result"
    }
   ],
   "source": [
    "num/den"
   ]
  },
  {
   "cell_type": "code",
   "execution_count": 16,
   "metadata": {},
   "outputs": [],
   "source": [
    "\n",
    "def count_table(groupby_obj):\n",
    "    count_table = groupby_obj.count()\n",
    "    return count_table.sort_values('TRANSACTION_AMT', ascending=False)\n",
    "\n",
    "def get_top_cats(table,num_cats):\n",
    "    cats = table[:num_cats]\n",
    "    return cats\n",
    "\n",
    "def count_coverage(table,cats):\n",
    "    num = table.loc[cats].sum().values[0]\n",
    "    den = table.sum().values[0]\n",
    "    return num/den"
   ]
  },
  {
   "cell_type": "code",
   "execution_count": 17,
   "metadata": {},
   "outputs": [],
   "source": [
    "num_cats = 50\n",
    "grouped = df[['PURPOSE','TRANSACTION_AMT']].groupby('PURPOSE')\n",
    "count_table = count_table(grouped)\n",
    "#get_top_cats(count_table,num_cats)"
   ]
  },
  {
   "cell_type": "code",
   "execution_count": 18,
   "metadata": {},
   "outputs": [],
   "source": [
    "cats = top_cats.append(top_cats2).unique()"
   ]
  },
  {
   "cell_type": "code",
   "execution_count": 19,
   "metadata": {},
   "outputs": [
    {
     "data": {
      "text/plain": [
       "0.7454523320927968"
      ]
     },
     "execution_count": 19,
     "metadata": {},
     "output_type": "execute_result"
    }
   ],
   "source": [
    "#count coverage:\n",
    "num = grouped2.loc[cats].sum().values[0]\n",
    "den = grouped2.sum().values[0]\n",
    "num/den"
   ]
  },
  {
   "cell_type": "code",
   "execution_count": 24,
   "metadata": {},
   "outputs": [
    {
     "data": {
      "text/html": [
       "<div>\n",
       "<style scoped>\n",
       "    .dataframe tbody tr th:only-of-type {\n",
       "        vertical-align: middle;\n",
       "    }\n",
       "\n",
       "    .dataframe tbody tr th {\n",
       "        vertical-align: top;\n",
       "    }\n",
       "\n",
       "    .dataframe thead th {\n",
       "        text-align: right;\n",
       "    }\n",
       "</style>\n",
       "<table border=\"1\" class=\"dataframe\">\n",
       "  <thead>\n",
       "    <tr style=\"text-align: right;\">\n",
       "      <th></th>\n",
       "      <th>PURPOSE</th>\n",
       "      <th>TRANSACTION_AMT</th>\n",
       "    </tr>\n",
       "  </thead>\n",
       "  <tbody>\n",
       "    <tr>\n",
       "      <td>718094</td>\n",
       "      <td>LODGING</td>\n",
       "      <td>243.47</td>\n",
       "    </tr>\n",
       "    <tr>\n",
       "      <td>718095</td>\n",
       "      <td>OFFICE SUPPLIES</td>\n",
       "      <td>89.92</td>\n",
       "    </tr>\n",
       "    <tr>\n",
       "      <td>718096</td>\n",
       "      <td>OFFICE SUPPLIES</td>\n",
       "      <td>77.88</td>\n",
       "    </tr>\n",
       "    <tr>\n",
       "      <td>718097</td>\n",
       "      <td>TRANSPORTATION</td>\n",
       "      <td>189.00</td>\n",
       "    </tr>\n",
       "    <tr>\n",
       "      <td>718098</td>\n",
       "      <td>TRANSPORTATION</td>\n",
       "      <td>126.00</td>\n",
       "    </tr>\n",
       "    <tr>\n",
       "      <td>...</td>\n",
       "      <td>...</td>\n",
       "      <td>...</td>\n",
       "    </tr>\n",
       "    <tr>\n",
       "      <td>1589827</td>\n",
       "      <td>CANDIDATE PHOTOS</td>\n",
       "      <td>681.82</td>\n",
       "    </tr>\n",
       "    <tr>\n",
       "      <td>1589831</td>\n",
       "      <td>LAWN SIGNS</td>\n",
       "      <td>301.13</td>\n",
       "    </tr>\n",
       "    <tr>\n",
       "      <td>1589832</td>\n",
       "      <td>MEETING FEES</td>\n",
       "      <td>98.42</td>\n",
       "    </tr>\n",
       "    <tr>\n",
       "      <td>1589838</td>\n",
       "      <td>CREDIT CARD FEE</td>\n",
       "      <td>115.89</td>\n",
       "    </tr>\n",
       "    <tr>\n",
       "      <td>1589843</td>\n",
       "      <td>TAX FORMS</td>\n",
       "      <td>38.00</td>\n",
       "    </tr>\n",
       "  </tbody>\n",
       "</table>\n",
       "<p>5626 rows × 2 columns</p>\n",
       "</div>"
      ],
      "text/plain": [
       "                  PURPOSE  TRANSACTION_AMT\n",
       "718094            LODGING           243.47\n",
       "718095    OFFICE SUPPLIES            89.92\n",
       "718096    OFFICE SUPPLIES            77.88\n",
       "718097     TRANSPORTATION           189.00\n",
       "718098     TRANSPORTATION           126.00\n",
       "...                   ...              ...\n",
       "1589827  CANDIDATE PHOTOS           681.82\n",
       "1589831        LAWN SIGNS           301.13\n",
       "1589832      MEETING FEES            98.42\n",
       "1589838   CREDIT CARD FEE           115.89\n",
       "1589843         TAX FORMS            38.00\n",
       "\n",
       "[5626 rows x 2 columns]"
      ]
     },
     "execution_count": 24,
     "metadata": {},
     "output_type": "execute_result"
    }
   ],
   "source": [
    "grouped.head()"
   ]
  },
  {
   "cell_type": "code",
   "execution_count": 20,
   "metadata": {},
   "outputs": [
    {
     "ename": "AttributeError",
     "evalue": "Cannot access callable attribute 'set_index' of 'DataFrameGroupBy' objects, try using the 'apply' method",
     "output_type": "error",
     "traceback": [
      "\u001b[1;31m---------------------------------------------------------------------------\u001b[0m",
      "\u001b[1;31mAttributeError\u001b[0m                            Traceback (most recent call last)",
      "\u001b[1;32m<ipython-input-20-9c2e2583a5ab>\u001b[0m in \u001b[0;36m<module>\u001b[1;34m\u001b[0m\n\u001b[0;32m      1\u001b[0m \u001b[1;31m#amount coverage:\u001b[0m\u001b[1;33m\u001b[0m\u001b[1;33m\u001b[0m\u001b[1;33m\u001b[0m\u001b[0m\n\u001b[1;32m----> 2\u001b[1;33m \u001b[0mgrouped3\u001b[0m \u001b[1;33m=\u001b[0m \u001b[0mgrouped\u001b[0m\u001b[1;33m.\u001b[0m\u001b[0mset_index\u001b[0m\u001b[1;33m(\u001b[0m\u001b[1;34m'PURPOSE'\u001b[0m\u001b[1;33m)\u001b[0m\u001b[1;33m\u001b[0m\u001b[1;33m\u001b[0m\u001b[0m\n\u001b[0m\u001b[0;32m      3\u001b[0m \u001b[0mnum\u001b[0m \u001b[1;33m=\u001b[0m \u001b[0mgrouped3\u001b[0m\u001b[1;33m.\u001b[0m\u001b[0mloc\u001b[0m\u001b[1;33m[\u001b[0m\u001b[0mcats\u001b[0m\u001b[1;33m]\u001b[0m\u001b[1;33m.\u001b[0m\u001b[0msum\u001b[0m\u001b[1;33m(\u001b[0m\u001b[1;33m)\u001b[0m\u001b[1;33m.\u001b[0m\u001b[0mvalues\u001b[0m\u001b[1;33m[\u001b[0m\u001b[1;36m0\u001b[0m\u001b[1;33m]\u001b[0m\u001b[1;33m\u001b[0m\u001b[1;33m\u001b[0m\u001b[0m\n\u001b[0;32m      4\u001b[0m \u001b[0mden\u001b[0m \u001b[1;33m=\u001b[0m \u001b[0mdf\u001b[0m\u001b[1;33m[\u001b[0m\u001b[1;34m'TRANSACTION_AMT'\u001b[0m\u001b[1;33m]\u001b[0m\u001b[1;33m.\u001b[0m\u001b[0msum\u001b[0m\u001b[1;33m(\u001b[0m\u001b[1;33m)\u001b[0m\u001b[1;33m\u001b[0m\u001b[1;33m\u001b[0m\u001b[0m\n\u001b[0;32m      5\u001b[0m \u001b[0mnum\u001b[0m\u001b[1;33m/\u001b[0m\u001b[0mden\u001b[0m\u001b[1;33m\u001b[0m\u001b[1;33m\u001b[0m\u001b[0m\n",
      "\u001b[1;32m~\\Anaconda3\\envs\\insight\\lib\\site-packages\\pandas\\core\\groupby\\groupby.py\u001b[0m in \u001b[0;36m__getattr__\u001b[1;34m(self, attr)\u001b[0m\n\u001b[0;32m    561\u001b[0m             \u001b[1;32mreturn\u001b[0m \u001b[0mself\u001b[0m\u001b[1;33m[\u001b[0m\u001b[0mattr\u001b[0m\u001b[1;33m]\u001b[0m\u001b[1;33m\u001b[0m\u001b[1;33m\u001b[0m\u001b[0m\n\u001b[0;32m    562\u001b[0m         \u001b[1;32mif\u001b[0m \u001b[0mhasattr\u001b[0m\u001b[1;33m(\u001b[0m\u001b[0mself\u001b[0m\u001b[1;33m.\u001b[0m\u001b[0mobj\u001b[0m\u001b[1;33m,\u001b[0m \u001b[0mattr\u001b[0m\u001b[1;33m)\u001b[0m\u001b[1;33m:\u001b[0m\u001b[1;33m\u001b[0m\u001b[1;33m\u001b[0m\u001b[0m\n\u001b[1;32m--> 563\u001b[1;33m             \u001b[1;32mreturn\u001b[0m \u001b[0mself\u001b[0m\u001b[1;33m.\u001b[0m\u001b[0m_make_wrapper\u001b[0m\u001b[1;33m(\u001b[0m\u001b[0mattr\u001b[0m\u001b[1;33m)\u001b[0m\u001b[1;33m\u001b[0m\u001b[1;33m\u001b[0m\u001b[0m\n\u001b[0m\u001b[0;32m    564\u001b[0m \u001b[1;33m\u001b[0m\u001b[0m\n\u001b[0;32m    565\u001b[0m         raise AttributeError(\n",
      "\u001b[1;32m~\\Anaconda3\\envs\\insight\\lib\\site-packages\\pandas\\core\\groupby\\groupby.py\u001b[0m in \u001b[0;36m_make_wrapper\u001b[1;34m(self, name)\u001b[0m\n\u001b[0;32m    602\u001b[0m                 \u001b[1;34m\"using the 'apply' method\"\u001b[0m\u001b[1;33m.\u001b[0m\u001b[0mformat\u001b[0m\u001b[1;33m(\u001b[0m\u001b[0mkind\u001b[0m\u001b[1;33m,\u001b[0m \u001b[0mname\u001b[0m\u001b[1;33m,\u001b[0m \u001b[0mtype\u001b[0m\u001b[1;33m(\u001b[0m\u001b[0mself\u001b[0m\u001b[1;33m)\u001b[0m\u001b[1;33m.\u001b[0m\u001b[0m__name__\u001b[0m\u001b[1;33m)\u001b[0m\u001b[1;33m\u001b[0m\u001b[1;33m\u001b[0m\u001b[0m\n\u001b[0;32m    603\u001b[0m             )\n\u001b[1;32m--> 604\u001b[1;33m             \u001b[1;32mraise\u001b[0m \u001b[0mAttributeError\u001b[0m\u001b[1;33m(\u001b[0m\u001b[0mmsg\u001b[0m\u001b[1;33m)\u001b[0m\u001b[1;33m\u001b[0m\u001b[1;33m\u001b[0m\u001b[0m\n\u001b[0m\u001b[0;32m    605\u001b[0m \u001b[1;33m\u001b[0m\u001b[0m\n\u001b[0;32m    606\u001b[0m         \u001b[0mself\u001b[0m\u001b[1;33m.\u001b[0m\u001b[0m_set_group_selection\u001b[0m\u001b[1;33m(\u001b[0m\u001b[1;33m)\u001b[0m\u001b[1;33m\u001b[0m\u001b[1;33m\u001b[0m\u001b[0m\n",
      "\u001b[1;31mAttributeError\u001b[0m: Cannot access callable attribute 'set_index' of 'DataFrameGroupBy' objects, try using the 'apply' method"
     ]
    }
   ],
   "source": [
    "#amount coverage:\n",
    "grouped3 = grouped.set_index('PURPOSE')\n",
    "num = grouped3.loc[cats].sum().values[0]\n",
    "den = df['TRANSACTION_AMT'].sum()\n",
    "num/den"
   ]
  },
  {
   "cell_type": "code",
   "execution_count": 36,
   "metadata": {},
   "outputs": [
    {
     "name": "stdout",
     "output_type": "stream",
     "text": [
      "           CMTE_ID AMNDT_IND  RPT_YR RPT_TP           IMAGE_NUM LINE_NUM  \\\n",
      "718094   C00458844         N    2015     YE  201601319005212258       23   \n",
      "718095   C00458844         N    2015     YE  201601319005212287       23   \n",
      "718096   C00458844         N    2015     YE  201601319005212287       23   \n",
      "718097   C00458844         N    2015     YE  201601319005212288       23   \n",
      "718098   C00458844         N    2015     YE  201601319005212288       23   \n",
      "...            ...       ...     ...    ...                 ...      ...   \n",
      "1589830  C00582668         N    2016     Q1  201604159012468047       23   \n",
      "1589834  C00582668         N    2016     Q1  201604159012468048       23   \n",
      "1589836  C00582668         N    2016     Q1  201604159012468032       23   \n",
      "1589837  C00582668         N    2016     Q1  201604159012468032       23   \n",
      "1589844  C00582668         N    2016     Q1  201604159012468041       23   \n",
      "\n",
      "        FORM_TP_CD SCHED_TP_CD                              NAME        CITY  \\\n",
      "718094         F3P          SB                            HILTON      MCLEAN   \n",
      "718095         F3P          SB                            AMAZON     SEATTLE   \n",
      "718096         F3P          SB                            AMAZON     SEATTLE   \n",
      "718097         F3P          SB                            AMTRAK  WASHINGTON   \n",
      "718098         F3P          SB                            AMTRAK  WASHINGTON   \n",
      "...            ...         ...                               ...         ...   \n",
      "1589830        F3P          SB            THE POLICY AGENCY, LLC     BEDFORD   \n",
      "1589834        F3P          SB            THE POLICY AGENCY, LLC     BEDFORD   \n",
      "1589836        F3P          SB  905 N. WASHINGTON INVESTORS, LLC  WASHINGTON   \n",
      "1589837        F3P          SB  905 N. WASHINGTON INVESTORS, LLC  WASHINGTON   \n",
      "1589844        F3P          SB                  MARCUS, KAREN F.     HENRICO   \n",
      "\n",
      "         ...   CMTE_CITY CMTE_ST CMTE_ZIP  CMTE_DSGN CMTE_TP  \\\n",
      "718094   ...  ALEXANDRIA      VA    22314          P       P   \n",
      "718095   ...  ALEXANDRIA      VA    22314          P       P   \n",
      "718096   ...  ALEXANDRIA      VA    22314          P       P   \n",
      "718097   ...  ALEXANDRIA      VA    22314          P       P   \n",
      "718098   ...  ALEXANDRIA      VA    22314          P       P   \n",
      "...      ...         ...     ...      ...        ...     ...   \n",
      "1589830  ...     HENRICO      VA    23229          P       P   \n",
      "1589834  ...     HENRICO      VA    23229          P       P   \n",
      "1589836  ...     HENRICO      VA    23229          P       P   \n",
      "1589837  ...     HENRICO      VA    23229          P       P   \n",
      "1589844  ...     HENRICO      VA    23229          P       P   \n",
      "\n",
      "        CMTE_PTY_AFFILIATION CMTE_FILING_FREQ ORG_TP CONNECTED_ORG_NM  \\\n",
      "718094                   REP                Q    NaN              NaN   \n",
      "718095                   REP                Q    NaN              NaN   \n",
      "718096                   REP                Q    NaN              NaN   \n",
      "718097                   REP                Q    NaN              NaN   \n",
      "718098                   REP                Q    NaN              NaN   \n",
      "...                      ...              ...    ...              ...   \n",
      "1589830                  REP                T    NaN              NaN   \n",
      "1589834                  REP                T    NaN              NaN   \n",
      "1589836                  REP                T    NaN              NaN   \n",
      "1589837                  REP                T    NaN              NaN   \n",
      "1589844                  REP                T    NaN              NaN   \n",
      "\n",
      "           CAND_ID  \n",
      "718094   P60006723  \n",
      "718095   P60006723  \n",
      "718096   P60006723  \n",
      "718097   P60006723  \n",
      "718098   P60006723  \n",
      "...            ...  \n",
      "1589830  P80003379  \n",
      "1589834  P80003379  \n",
      "1589836  P80003379  \n",
      "1589837  P80003379  \n",
      "1589844  P80003379  \n",
      "\n",
      "[42865 rows x 39 columns]\n",
      "Wall time: 4.06 s\n"
     ]
    }
   ],
   "source": [
    "%%time\n",
    "\n",
    "df = df[df.apply(lambda x: x.PURPOSE in cats, axis=1)]\n",
    "print(df)"
   ]
  },
  {
   "cell_type": "code",
   "execution_count": 37,
   "metadata": {},
   "outputs": [
    {
     "name": "stdout",
     "output_type": "stream",
     "text": [
      "         AIRFARE  BALLOT ACCESS CONSULTING  BANK FEE  BANK FEES  CAR RENTAL  \\\n",
      "718094         0                         0         0          0           0   \n",
      "718095         0                         0         0          0           0   \n",
      "718096         0                         0         0          0           0   \n",
      "718097         0                         0         0          0           0   \n",
      "718098         0                         0         0          0           0   \n",
      "...          ...                       ...       ...        ...         ...   \n",
      "1589830        0                         0         0          0           0   \n",
      "1589834        0                         0         0          0           0   \n",
      "1589836        0                         0         0          0           0   \n",
      "1589837        0                         0         0          0           0   \n",
      "1589844        0                         0         0          0           0   \n",
      "\n",
      "         COLLATERAL: HATS  COLLATERAL: TSHIRTS/MUGS/STICKERS/FREIGHT  \\\n",
      "718094                  0                                          0   \n",
      "718095                  0                                          0   \n",
      "718096                  0                                          0   \n",
      "718097                  0                                          0   \n",
      "718098                  0                                          0   \n",
      "...                   ...                                        ...   \n",
      "1589830                 0                                          0   \n",
      "1589834                 0                                          0   \n",
      "1589836                 0                                          0   \n",
      "1589837                 0                                          0   \n",
      "1589844                 0                                          0   \n",
      "\n",
      "         CREDIT CARD MERCHANT FEE  CREDIT CARD MERCHANT FEE/LIST RENTAL  \\\n",
      "718094                          0                                     0   \n",
      "718095                          0                                     0   \n",
      "718096                          0                                     0   \n",
      "718097                          0                                     0   \n",
      "718098                          0                                     0   \n",
      "...                           ...                                   ...   \n",
      "1589830                         0                                     0   \n",
      "1589834                         0                                     0   \n",
      "1589836                         0                                     0   \n",
      "1589837                         0                                     0   \n",
      "1589844                         0                                     0   \n",
      "\n",
      "         CREDIT CARD MERCHANT FEES/LIST RENTAL  ...  \\\n",
      "718094                                       0  ...   \n",
      "718095                                       0  ...   \n",
      "718096                                       0  ...   \n",
      "718097                                       0  ...   \n",
      "718098                                       0  ...   \n",
      "...                                        ...  ...   \n",
      "1589830                                      0  ...   \n",
      "1589834                                      0  ...   \n",
      "1589836                                      0  ...   \n",
      "1589837                                      0  ...   \n",
      "1589844                                      0  ...   \n",
      "\n",
      "         TRAVEL: AIR [AMEX: SB23.513914]  TRAVEL: AIR [AMEX: SB23.599732]  \\\n",
      "718094                                 0                                0   \n",
      "718095                                 0                                0   \n",
      "718096                                 0                                0   \n",
      "718097                                 0                                0   \n",
      "718098                                 0                                0   \n",
      "...                                  ...                              ...   \n",
      "1589830                                0                                0   \n",
      "1589834                                0                                0   \n",
      "1589836                                0                                0   \n",
      "1589837                                0                                0   \n",
      "1589844                                0                                0   \n",
      "\n",
      "         TRAVEL: LODGING [AMEX: SB23.11631135]  \\\n",
      "718094                                       0   \n",
      "718095                                       0   \n",
      "718096                                       0   \n",
      "718097                                       0   \n",
      "718098                                       0   \n",
      "...                                        ...   \n",
      "1589830                                      0   \n",
      "1589834                                      0   \n",
      "1589836                                      0   \n",
      "1589837                                      0   \n",
      "1589844                                      0   \n",
      "\n",
      "         TRAVEL: LODGING [AMEX: SB23.455065]  \\\n",
      "718094                                     0   \n",
      "718095                                     0   \n",
      "718096                                     0   \n",
      "718097                                     0   \n",
      "718098                                     0   \n",
      "...                                      ...   \n",
      "1589830                                    0   \n",
      "1589834                                    0   \n",
      "1589836                                    0   \n",
      "1589837                                    0   \n",
      "1589844                                    0   \n",
      "\n",
      "         TRAVEL: LODGING [AMEX: SB23.513914]  \\\n",
      "718094                                     0   \n",
      "718095                                     0   \n",
      "718096                                     0   \n",
      "718097                                     0   \n",
      "718098                                     0   \n",
      "...                                      ...   \n",
      "1589830                                    0   \n",
      "1589834                                    0   \n",
      "1589836                                    0   \n",
      "1589837                                    0   \n",
      "1589844                                    0   \n",
      "\n",
      "         TRAVEL: LODGING [AMEX: SB23.599732]  UTILITIES  WEB SERVICE  \\\n",
      "718094                                     0          0            0   \n",
      "718095                                     0          0            0   \n",
      "718096                                     0          0            0   \n",
      "718097                                     0          0            0   \n",
      "718098                                     0          0            0   \n",
      "...                                      ...        ...          ...   \n",
      "1589830                                    0          0            0   \n",
      "1589834                                    0          0            0   \n",
      "1589836                                    0          0            0   \n",
      "1589837                                    0          0            0   \n",
      "1589844                                    0          0            0   \n",
      "\n",
      "         WEB SERVICES  WEBSITE DEVELOPMENT/DIGITAL CONSULTING  \n",
      "718094              0                                       0  \n",
      "718095              0                                       0  \n",
      "718096              0                                       0  \n",
      "718097              0                                       0  \n",
      "718098              0                                       0  \n",
      "...               ...                                     ...  \n",
      "1589830             0                                       0  \n",
      "1589834             0                                       0  \n",
      "1589836             0                                       0  \n",
      "1589837             0                                       0  \n",
      "1589844             0                                       0  \n",
      "\n",
      "[42865 rows x 84 columns]\n",
      "Wall time: 118 ms\n"
     ]
    }
   ],
   "source": [
    "%%time\n",
    "dummies = pd.get_dummies(df.PURPOSE,sparse=True)\n",
    "print(dummies)"
   ]
  },
  {
   "cell_type": "code",
   "execution_count": 38,
   "metadata": {},
   "outputs": [
    {
     "name": "stdout",
     "output_type": "stream",
     "text": [
      "[ 0  0  0 ... 56 56  0]\n",
      "Wall time: 15.7 s\n"
     ]
    }
   ],
   "source": [
    "%%time\n",
    "\n",
    "from sklearn.cluster import DBSCAN\n",
    "import numpy as np\n",
    "\n",
    "clustering = DBSCAN(eps=3, min_samples=2).fit_predict(df[['TRANSACTION_AMT']].join(dummies))\n",
    "#clustering.labels_\n",
    "\n",
    "print(clustering) "
   ]
  },
  {
   "cell_type": "code",
   "execution_count": 116,
   "metadata": {},
   "outputs": [
    {
     "name": "stdout",
     "output_type": "stream",
     "text": [
      "[0 0 0 ... 0 0 0]\n",
      "Wall time: 2min 33s\n"
     ]
    }
   ],
   "source": [
    "%%time\n",
    "#2 mins for eps=3000!\n",
    "from sklearn.cluster import DBSCAN\n",
    "import numpy as np\n",
    "\n",
    "clustering2 = DBSCAN(eps=3000, min_samples=10).fit_predict(df[['TRANSACTION_AMT']].join(dummies))\n",
    "\n",
    "print(clustering2) "
   ]
  },
  {
   "cell_type": "code",
   "execution_count": 117,
   "metadata": {},
   "outputs": [
    {
     "data": {
      "text/plain": [
       "9"
      ]
     },
     "execution_count": 117,
     "metadata": {},
     "output_type": "execute_result"
    }
   ],
   "source": [
    "max(clustering2)"
   ]
  },
  {
   "cell_type": "code",
   "execution_count": 118,
   "metadata": {},
   "outputs": [],
   "source": [
    "# # check to see if each cluster is just one category\n",
    "# cluster = df[clustering2==4]\n",
    "# cluster.groupby('PURPOSE')['TRANSACTION_AMT'].sum().sort_values()"
   ]
  },
  {
   "cell_type": "code",
   "execution_count": 122,
   "metadata": {},
   "outputs": [
    {
     "name": "stdout",
     "output_type": "stream",
     "text": [
      "197\n"
     ]
    },
    {
     "data": {
      "text/plain": [
       "PURPOSE\n",
       "POLITICAL STRATEGY CONSULTING/TRAVEL     183684.09\n",
       "PRINTING                                 206266.40\n",
       "DATABASE MANAGEMENT SERVICE              282368.04\n",
       "LIST RENTAL                              344482.78\n",
       "TRAVEL                                   787672.07\n",
       "DATABASE MANAGEMENT SERVICES            1505414.68\n",
       "DIGITAL MEDIA/WEB SERVICE               1572463.50\n",
       "CREDIT CARD PAYMENT                     1680718.90\n",
       "POSTAGE                                 1777753.97\n",
       "WEB SERVICE                             1867119.32\n",
       "PRINTING/POSTAGE                        1930463.83\n",
       "POSTAGE/PRINTING                        3024740.84\n",
       "FUNDRAISING PHONE CALLS                 3456273.30\n",
       "MEDIA                                   4623813.29\n",
       "Name: TRANSACTION_AMT, dtype: float64"
      ]
     },
     "execution_count": 122,
     "metadata": {},
     "output_type": "execute_result"
    }
   ],
   "source": [
    "outliers2 = df[clustering2==-1]\n",
    "print(len(outliers2))\n",
    "outliers2[['CMTE_NM','TRANSACTION_AMT']].groupby('CMTE_NM').count()\n",
    "outliers2[outliers2.CMTE_NM == 'CARSON AMERICA'].groupby('PURPOSE')['TRANSACTION_AMT'].sum().sort_values()"
   ]
  },
  {
   "cell_type": "code",
   "execution_count": 45,
   "metadata": {},
   "outputs": [
    {
     "data": {
      "text/html": [
       "<div>\n",
       "<style scoped>\n",
       "    .dataframe tbody tr th:only-of-type {\n",
       "        vertical-align: middle;\n",
       "    }\n",
       "\n",
       "    .dataframe tbody tr th {\n",
       "        vertical-align: top;\n",
       "    }\n",
       "\n",
       "    .dataframe thead th {\n",
       "        text-align: right;\n",
       "    }\n",
       "</style>\n",
       "<table border=\"1\" class=\"dataframe\">\n",
       "  <thead>\n",
       "    <tr style=\"text-align: right;\">\n",
       "      <th></th>\n",
       "      <th>TRANSACTION_AMT</th>\n",
       "    </tr>\n",
       "    <tr>\n",
       "      <th>CMTE_NM</th>\n",
       "      <th></th>\n",
       "    </tr>\n",
       "  </thead>\n",
       "  <tbody>\n",
       "    <tr>\n",
       "      <td>CARSON AMERICA</td>\n",
       "      <td>532</td>\n",
       "    </tr>\n",
       "    <tr>\n",
       "      <td>CRUZ FOR PRESIDENT</td>\n",
       "      <td>429</td>\n",
       "    </tr>\n",
       "    <tr>\n",
       "      <td>DONALD J. TRUMP FOR PRESIDENT, INC.</td>\n",
       "      <td>446</td>\n",
       "    </tr>\n",
       "    <tr>\n",
       "      <td>KASICH FOR AMERICA, INC.</td>\n",
       "      <td>215</td>\n",
       "    </tr>\n",
       "    <tr>\n",
       "      <td>MARCO RUBIO FOR PRESIDENT</td>\n",
       "      <td>200</td>\n",
       "    </tr>\n",
       "    <tr>\n",
       "      <td>SANTORUM FOR PRESIDENT 2016</td>\n",
       "      <td>1</td>\n",
       "    </tr>\n",
       "  </tbody>\n",
       "</table>\n",
       "</div>"
      ],
      "text/plain": [
       "                                     TRANSACTION_AMT\n",
       "CMTE_NM                                             \n",
       "CARSON AMERICA                                   532\n",
       "CRUZ FOR PRESIDENT                               429\n",
       "DONALD J. TRUMP FOR PRESIDENT, INC.              446\n",
       "KASICH FOR AMERICA, INC.                         215\n",
       "MARCO RUBIO FOR PRESIDENT                        200\n",
       "SANTORUM FOR PRESIDENT 2016                        1"
      ]
     },
     "execution_count": 45,
     "metadata": {},
     "output_type": "execute_result"
    }
   ],
   "source": [
    "outliers = df[clustering==-1]\n",
    "outliers[['CMTE_NM','TRANSACTION_AMT']].groupby('CMTE_NM').count()"
   ]
  },
  {
   "cell_type": "code",
   "execution_count": 40,
   "metadata": {},
   "outputs": [
    {
     "data": {
      "text/plain": [
       "42865"
      ]
     },
     "execution_count": 40,
     "metadata": {},
     "output_type": "execute_result"
    }
   ],
   "source": [
    "len(df)"
   ]
  },
  {
   "cell_type": "code",
   "execution_count": 35,
   "metadata": {},
   "outputs": [
    {
     "name": "stdout",
     "output_type": "stream",
     "text": [
      "MEDIA\n",
      "MEDIA BUY\n",
      "PLACED MEDIA\n",
      "TRAVEL\n",
      "POSTAGE\n",
      "FUNDRAISING PHONE CALLS\n",
      "PAYROLL\n",
      "PRINTING/POSTAGE\n",
      "WEB SERVICE\n",
      "CREDIT CARD PAYMENT\n",
      "POLITICAL STRATEGY CONSULTING\n",
      "POSTAGE/PRINTING\n",
      "DIGITAL MEDIA/WEB SERVICE\n",
      "TRAVEL: AIR\n",
      "CREDIT CARD MERCHANT FEE/LIST RENTAL\n",
      "COLLATERAL: TSHIRTS/MUGS/STICKERS/FREIGHT\n",
      "SALARY\n",
      "CREDIT CARD MERCHANT FEES/LIST RENTAL\n",
      "DATABASE MANAGEMENT SERVICES\n",
      "DIGITAL MEDIA SERVICE/SURVEY RESEARCH/DONOR MODELING\n",
      "ONLINE FUNDRAISING SERVICES\n",
      "LIST RENTAL\n",
      "STRATEGIC CONSULTING\n",
      "WEBSITE DEVELOPMENT/DIGITAL CONSULTING\n",
      "FIELD CONSULTING\n",
      "CREDIT CARD PAYMENT-SEE MEMOS\n",
      "AIRFARE\n",
      "FACILITY RENTAL\n",
      "DATABASE MANAGEMENT SERVICE\n",
      "LEGAL CONSULTING\n",
      "POLITICAL STRATEGY CONSULTING/TRAVEL\n",
      "PRINTING AND DESIGN SERVICES\n",
      "RENT\n",
      "CREDIT CARD MERCHANT FEE\n",
      "EVENT STAGING EXPENSE\n",
      "BALLOT ACCESS CONSULTING\n",
      "TELEMARKETING\n",
      "COLLATERAL: HATS\n",
      "LODGING\n",
      "WEB SERVICES\n",
      "POSTAGE/LIST RENTAL\n",
      "DIRECT MAIL PRINTING AND POSTAGE\n",
      "TELEMARKETING AND DATA\n",
      "ONLINE/WEB CONSULTING\n",
      "CREDIT CARD PAYMENT: SEE MEMO ENTRIES\n",
      "SURVEY RESEARCH/TRAVEL\n",
      "FINANCE CONSULTING\n",
      "STRATEGY CONSULTING\n",
      "DISBURSEMENTS LESS THAN $200 NOT ITEMIZE\n",
      "TOWN HALL PRODUCTIONS\n",
      "OFFICE SUPPLIES\n",
      "TRANSPORTATION\n",
      "FOOD/BEVERAGE\n",
      "FOOD/BEVERAGES\n",
      "CAR RENTAL\n",
      "SHIPPING\n",
      "MERCHANT FEES\n",
      "FOOD AND BEVERAGE\n",
      "SEE MEMOS\n",
      "PRINTING\n",
      "FOOD\n",
      "BANK FEES\n",
      "TRAVEL: LODGING [AMEX: SB23.599732]\n",
      "SOFTWARE\n",
      "UTILITIES\n",
      "TRAVEL: LODGING [AMEX: SB23.455065]\n",
      "TRAVEL: AIR [AMEX: SB23.599732]\n",
      "TRAVEL EXPENSE REIMBURSEMENT: ITEMIZATION BELOW IF REQUIRED\n",
      "TRAVEL: AIR [AMEX: SB23.513914]\n",
      "TRAVEL: AIR [AMEX: SB23.11631135]\n",
      "BANK FEE\n",
      "MERCHANT FEE\n",
      "TRAVEL: LODGING [AMEX: SB23.11631135]\n",
      "MILEAGE\n",
      "DELIVERY\n",
      "TRAVEL: LODGING [AMEX: SB23.513914]\n",
      "INTERNET\n",
      "PERSONNEL SERVICE/EQUIPMENT\n",
      "SUBSCRIPTIONS\n",
      "SERVICE CHARGE\n",
      "RENTAL CAR\n",
      "TRAVEL: AIR [AMEX: SB23.455065]\n",
      "EQUIPMENT PURCHASE\n",
      "EQUIPMENT RENTAL\n"
     ]
    }
   ],
   "source": [
    "for cat in cats:\n",
    "    print(cat)"
   ]
  },
  {
   "cell_type": "code",
   "execution_count": 60,
   "metadata": {},
   "outputs": [],
   "source": [
    "from fuzzywuzzy import process, fuzz"
   ]
  },
  {
   "cell_type": "code",
   "execution_count": 84,
   "metadata": {},
   "outputs": [],
   "source": [
    "purposes = df.PURPOSE.unique()\n",
    "deduped_cats = process.dedupe(purposes)"
   ]
  },
  {
   "cell_type": "code",
   "execution_count": 85,
   "metadata": {},
   "outputs": [
    {
     "data": {
      "text/plain": [
       "41"
      ]
     },
     "execution_count": 85,
     "metadata": {},
     "output_type": "execute_result"
    }
   ],
   "source": [
    "len(deduped_cats)"
   ]
  },
  {
   "cell_type": "code",
   "execution_count": 88,
   "metadata": {},
   "outputs": [
    {
     "data": {
      "text/plain": [
       "dict_keys(['TRAVEL: LODGING [AMEX: SB23.11631135]', 'OFFICE SUPPLIES', 'TRANSPORTATION', 'SOFTWARE', 'INTERNET', 'CREDIT CARD PAYMENT: SEE MEMO ENTRIES', 'AIRFARE', 'FOOD AND BEVERAGE', 'SHIPPING', 'TELEMARKETING AND DATA', 'POLITICAL STRATEGY CONSULTING', 'TRAVEL EXPENSE REIMBURSEMENT: ITEMIZATION BELOW IF REQUIRED', 'CREDIT CARD MERCHANT FEES/LIST RENTAL', 'UTILITIES', 'DATABASE MANAGEMENT SERVICES', 'ONLINE FUNDRAISING SERVICES', 'RENT', 'SALARY', 'MILEAGE', 'CREDIT CARD PAYMENT-SEE MEMOS', 'DIRECT MAIL PRINTING AND POSTAGE', 'BANK FEES', 'DIGITAL MEDIA SERVICE/SURVEY RESEARCH/DONOR MODELING', 'WEBSITE DEVELOPMENT/DIGITAL CONSULTING', 'POLITICAL STRATEGY CONSULTING/TRAVEL', 'PERSONNEL SERVICE/EQUIPMENT', 'EQUIPMENT PURCHASE', 'SUBSCRIPTIONS', 'FACILITY RENTAL', 'PAYROLL', 'DELIVERY', 'FUNDRAISING PHONE CALLS', 'BALLOT ACCESS CONSULTING', 'EVENT STAGING EXPENSE', 'PRINTING AND DESIGN SERVICES', 'PLACED MEDIA', 'COLLATERAL: TSHIRTS/MUGS/STICKERS/FREIGHT', 'DISBURSEMENTS LESS THAN $200 NOT ITEMIZE', 'SERVICE CHARGE', 'TOWN HALL PRODUCTIONS', 'ONLINE/WEB CONSULTING'])"
      ]
     },
     "execution_count": 88,
     "metadata": {},
     "output_type": "execute_result"
    }
   ],
   "source": [
    "deduped_cats"
   ]
  },
  {
   "cell_type": "code",
   "execution_count": 82,
   "metadata": {},
   "outputs": [
    {
     "name": "stdout",
     "output_type": "stream",
     "text": [
      "Help on function extractOne in module fuzzywuzzy.process:\n",
      "\n",
      "extractOne(query, choices, processor=<function full_process at 0x00000224830AE708>, scorer=<function WRatio at 0x0000022483208828>, score_cutoff=0)\n",
      "    Find the single best match above a score in a list of choices.\n",
      "    \n",
      "    This is a convenience method which returns the single best choice.\n",
      "    See extract() for the full arguments list.\n",
      "    \n",
      "    Args:\n",
      "        query: A string to match against\n",
      "        choices: A list or dictionary of choices, suitable for use with\n",
      "            extract().\n",
      "        processor: Optional function for transforming choices before matching.\n",
      "            See extract().\n",
      "        scorer: Scoring function for extract().\n",
      "        score_cutoff: Optional argument for score threshold. If the best\n",
      "            match is found, but it is not greater than this number, then\n",
      "            return None anyway (\"not a good enough match\").  Defaults to 0.\n",
      "    \n",
      "    Returns:\n",
      "        A tuple containing a single match and its score, if a match\n",
      "        was found that was above score_cutoff. Otherwise, returns None.\n",
      "\n"
     ]
    },
    {
     "ename": "KeyboardInterrupt",
     "evalue": "",
     "output_type": "error",
     "traceback": [
      "\u001b[1;31m---------------------------------------------------------------------------\u001b[0m",
      "\u001b[1;31mAttributeError\u001b[0m                            Traceback (most recent call last)",
      "\u001b[1;32m~\\Anaconda3\\envs\\insight\\lib\\site-packages\\fuzzywuzzy\\process.py\u001b[0m in \u001b[0;36mextractWithoutOrder\u001b[1;34m(query, choices, processor, scorer, score_cutoff)\u001b[0m\n\u001b[0;32m    107\u001b[0m         \u001b[1;31m# See if choices is a dictionary-like object.\u001b[0m\u001b[1;33m\u001b[0m\u001b[1;33m\u001b[0m\u001b[1;33m\u001b[0m\u001b[0m\n\u001b[1;32m--> 108\u001b[1;33m         \u001b[1;32mfor\u001b[0m \u001b[0mkey\u001b[0m\u001b[1;33m,\u001b[0m \u001b[0mchoice\u001b[0m \u001b[1;32min\u001b[0m \u001b[0mchoices\u001b[0m\u001b[1;33m.\u001b[0m\u001b[0mitems\u001b[0m\u001b[1;33m(\u001b[0m\u001b[1;33m)\u001b[0m\u001b[1;33m:\u001b[0m\u001b[1;33m\u001b[0m\u001b[1;33m\u001b[0m\u001b[0m\n\u001b[0m\u001b[0;32m    109\u001b[0m             \u001b[0mprocessed\u001b[0m \u001b[1;33m=\u001b[0m \u001b[0mpre_processor\u001b[0m\u001b[1;33m(\u001b[0m\u001b[0mprocessor\u001b[0m\u001b[1;33m(\u001b[0m\u001b[0mchoice\u001b[0m\u001b[1;33m)\u001b[0m\u001b[1;33m)\u001b[0m\u001b[1;33m\u001b[0m\u001b[1;33m\u001b[0m\u001b[0m\n",
      "\u001b[1;31mAttributeError\u001b[0m: 'numpy.ndarray' object has no attribute 'items'",
      "\nDuring handling of the above exception, another exception occurred:\n",
      "\u001b[1;31mKeyboardInterrupt\u001b[0m                         Traceback (most recent call last)",
      "\u001b[1;32m<ipython-input-82-fb6417c8ea0f>\u001b[0m in \u001b[0;36m<module>\u001b[1;34m\u001b[0m\n\u001b[0;32m      7\u001b[0m         \u001b[1;32mreturn\u001b[0m \u001b[1;32mNone\u001b[0m\u001b[1;33m\u001b[0m\u001b[1;33m\u001b[0m\u001b[0m\n\u001b[0;32m      8\u001b[0m \u001b[1;33m\u001b[0m\u001b[0m\n\u001b[1;32m----> 9\u001b[1;33m \u001b[0mdf\u001b[0m\u001b[1;33m.\u001b[0m\u001b[0mapply\u001b[0m\u001b[1;33m(\u001b[0m\u001b[0mfun\u001b[0m\u001b[1;33m,\u001b[0m \u001b[0maxis\u001b[0m\u001b[1;33m=\u001b[0m\u001b[1;36m1\u001b[0m\u001b[1;33m)\u001b[0m\u001b[1;33m\u001b[0m\u001b[1;33m\u001b[0m\u001b[0m\n\u001b[0m",
      "\u001b[1;32m~\\Anaconda3\\envs\\insight\\lib\\site-packages\\pandas\\core\\frame.py\u001b[0m in \u001b[0;36mapply\u001b[1;34m(self, func, axis, broadcast, raw, reduce, result_type, args, **kwds)\u001b[0m\n\u001b[0;32m   6911\u001b[0m             \u001b[0mkwds\u001b[0m\u001b[1;33m=\u001b[0m\u001b[0mkwds\u001b[0m\u001b[1;33m,\u001b[0m\u001b[1;33m\u001b[0m\u001b[1;33m\u001b[0m\u001b[0m\n\u001b[0;32m   6912\u001b[0m         )\n\u001b[1;32m-> 6913\u001b[1;33m         \u001b[1;32mreturn\u001b[0m \u001b[0mop\u001b[0m\u001b[1;33m.\u001b[0m\u001b[0mget_result\u001b[0m\u001b[1;33m(\u001b[0m\u001b[1;33m)\u001b[0m\u001b[1;33m\u001b[0m\u001b[1;33m\u001b[0m\u001b[0m\n\u001b[0m\u001b[0;32m   6914\u001b[0m \u001b[1;33m\u001b[0m\u001b[0m\n\u001b[0;32m   6915\u001b[0m     \u001b[1;32mdef\u001b[0m \u001b[0mapplymap\u001b[0m\u001b[1;33m(\u001b[0m\u001b[0mself\u001b[0m\u001b[1;33m,\u001b[0m \u001b[0mfunc\u001b[0m\u001b[1;33m)\u001b[0m\u001b[1;33m:\u001b[0m\u001b[1;33m\u001b[0m\u001b[1;33m\u001b[0m\u001b[0m\n",
      "\u001b[1;32m~\\Anaconda3\\envs\\insight\\lib\\site-packages\\pandas\\core\\apply.py\u001b[0m in \u001b[0;36mget_result\u001b[1;34m(self)\u001b[0m\n\u001b[0;32m    184\u001b[0m             \u001b[1;32mreturn\u001b[0m \u001b[0mself\u001b[0m\u001b[1;33m.\u001b[0m\u001b[0mapply_raw\u001b[0m\u001b[1;33m(\u001b[0m\u001b[1;33m)\u001b[0m\u001b[1;33m\u001b[0m\u001b[1;33m\u001b[0m\u001b[0m\n\u001b[0;32m    185\u001b[0m \u001b[1;33m\u001b[0m\u001b[0m\n\u001b[1;32m--> 186\u001b[1;33m         \u001b[1;32mreturn\u001b[0m \u001b[0mself\u001b[0m\u001b[1;33m.\u001b[0m\u001b[0mapply_standard\u001b[0m\u001b[1;33m(\u001b[0m\u001b[1;33m)\u001b[0m\u001b[1;33m\u001b[0m\u001b[1;33m\u001b[0m\u001b[0m\n\u001b[0m\u001b[0;32m    187\u001b[0m \u001b[1;33m\u001b[0m\u001b[0m\n\u001b[0;32m    188\u001b[0m     \u001b[1;32mdef\u001b[0m \u001b[0mapply_empty_result\u001b[0m\u001b[1;33m(\u001b[0m\u001b[0mself\u001b[0m\u001b[1;33m)\u001b[0m\u001b[1;33m:\u001b[0m\u001b[1;33m\u001b[0m\u001b[1;33m\u001b[0m\u001b[0m\n",
      "\u001b[1;32m~\\Anaconda3\\envs\\insight\\lib\\site-packages\\pandas\\core\\apply.py\u001b[0m in \u001b[0;36mapply_standard\u001b[1;34m(self)\u001b[0m\n\u001b[0;32m    283\u001b[0m             \u001b[1;32mtry\u001b[0m\u001b[1;33m:\u001b[0m\u001b[1;33m\u001b[0m\u001b[1;33m\u001b[0m\u001b[0m\n\u001b[0;32m    284\u001b[0m                 result = reduction.reduce(\n\u001b[1;32m--> 285\u001b[1;33m                     \u001b[0mvalues\u001b[0m\u001b[1;33m,\u001b[0m \u001b[0mself\u001b[0m\u001b[1;33m.\u001b[0m\u001b[0mf\u001b[0m\u001b[1;33m,\u001b[0m \u001b[0maxis\u001b[0m\u001b[1;33m=\u001b[0m\u001b[0mself\u001b[0m\u001b[1;33m.\u001b[0m\u001b[0maxis\u001b[0m\u001b[1;33m,\u001b[0m \u001b[0mdummy\u001b[0m\u001b[1;33m=\u001b[0m\u001b[0mdummy\u001b[0m\u001b[1;33m,\u001b[0m \u001b[0mlabels\u001b[0m\u001b[1;33m=\u001b[0m\u001b[0mlabels\u001b[0m\u001b[1;33m\u001b[0m\u001b[1;33m\u001b[0m\u001b[0m\n\u001b[0m\u001b[0;32m    286\u001b[0m                 )\n\u001b[0;32m    287\u001b[0m                 \u001b[1;32mreturn\u001b[0m \u001b[0mself\u001b[0m\u001b[1;33m.\u001b[0m\u001b[0mobj\u001b[0m\u001b[1;33m.\u001b[0m\u001b[0m_constructor_sliced\u001b[0m\u001b[1;33m(\u001b[0m\u001b[0mresult\u001b[0m\u001b[1;33m,\u001b[0m \u001b[0mindex\u001b[0m\u001b[1;33m=\u001b[0m\u001b[0mlabels\u001b[0m\u001b[1;33m)\u001b[0m\u001b[1;33m\u001b[0m\u001b[1;33m\u001b[0m\u001b[0m\n",
      "\u001b[1;32mpandas\\_libs\\reduction.pyx\u001b[0m in \u001b[0;36mpandas._libs.reduction.reduce\u001b[1;34m()\u001b[0m\n",
      "\u001b[1;32mpandas\\_libs\\reduction.pyx\u001b[0m in \u001b[0;36mpandas._libs.reduction.Reducer.get_result\u001b[1;34m()\u001b[0m\n",
      "\u001b[1;32m<ipython-input-82-fb6417c8ea0f>\u001b[0m in \u001b[0;36mfun\u001b[1;34m(x)\u001b[0m\n\u001b[0;32m      1\u001b[0m \u001b[0mhelp\u001b[0m\u001b[1;33m(\u001b[0m\u001b[0mprocess\u001b[0m\u001b[1;33m.\u001b[0m\u001b[0mextractOne\u001b[0m\u001b[1;33m)\u001b[0m\u001b[1;33m\u001b[0m\u001b[1;33m\u001b[0m\u001b[0m\n\u001b[0;32m      2\u001b[0m \u001b[1;32mdef\u001b[0m \u001b[0mfun\u001b[0m\u001b[1;33m(\u001b[0m\u001b[0mx\u001b[0m\u001b[1;33m)\u001b[0m\u001b[1;33m:\u001b[0m\u001b[1;33m\u001b[0m\u001b[1;33m\u001b[0m\u001b[0m\n\u001b[1;32m----> 3\u001b[1;33m     \u001b[0mmatch\u001b[0m \u001b[1;33m=\u001b[0m \u001b[0mprocess\u001b[0m\u001b[1;33m.\u001b[0m\u001b[0mextractOne\u001b[0m\u001b[1;33m(\u001b[0m\u001b[0mx\u001b[0m\u001b[1;33m.\u001b[0m\u001b[0mPURPOSE\u001b[0m\u001b[1;33m,\u001b[0m\u001b[0mcats\u001b[0m\u001b[1;33m,\u001b[0m\u001b[0mscore_cutoff\u001b[0m\u001b[1;33m=\u001b[0m\u001b[1;36m70\u001b[0m\u001b[1;33m)\u001b[0m\u001b[1;33m\u001b[0m\u001b[1;33m\u001b[0m\u001b[0m\n\u001b[0m\u001b[0;32m      4\u001b[0m     \u001b[1;32mif\u001b[0m \u001b[0mmatch\u001b[0m\u001b[1;33m:\u001b[0m\u001b[1;33m\u001b[0m\u001b[1;33m\u001b[0m\u001b[0m\n\u001b[0;32m      5\u001b[0m         \u001b[1;32mreturn\u001b[0m \u001b[0mmatch\u001b[0m\u001b[1;33m[\u001b[0m\u001b[1;36m0\u001b[0m\u001b[1;33m]\u001b[0m\u001b[1;33m\u001b[0m\u001b[1;33m\u001b[0m\u001b[0m\n",
      "\u001b[1;32m~\\Anaconda3\\envs\\insight\\lib\\site-packages\\fuzzywuzzy\\process.py\u001b[0m in \u001b[0;36mextractOne\u001b[1;34m(query, choices, processor, scorer, score_cutoff)\u001b[0m\n\u001b[0;32m    218\u001b[0m     \u001b[0mbest_list\u001b[0m \u001b[1;33m=\u001b[0m \u001b[0mextractWithoutOrder\u001b[0m\u001b[1;33m(\u001b[0m\u001b[0mquery\u001b[0m\u001b[1;33m,\u001b[0m \u001b[0mchoices\u001b[0m\u001b[1;33m,\u001b[0m \u001b[0mprocessor\u001b[0m\u001b[1;33m,\u001b[0m \u001b[0mscorer\u001b[0m\u001b[1;33m,\u001b[0m \u001b[0mscore_cutoff\u001b[0m\u001b[1;33m)\u001b[0m\u001b[1;33m\u001b[0m\u001b[1;33m\u001b[0m\u001b[0m\n\u001b[0;32m    219\u001b[0m     \u001b[1;32mtry\u001b[0m\u001b[1;33m:\u001b[0m\u001b[1;33m\u001b[0m\u001b[1;33m\u001b[0m\u001b[0m\n\u001b[1;32m--> 220\u001b[1;33m         \u001b[1;32mreturn\u001b[0m \u001b[0mmax\u001b[0m\u001b[1;33m(\u001b[0m\u001b[0mbest_list\u001b[0m\u001b[1;33m,\u001b[0m \u001b[0mkey\u001b[0m\u001b[1;33m=\u001b[0m\u001b[1;32mlambda\u001b[0m \u001b[0mi\u001b[0m\u001b[1;33m:\u001b[0m \u001b[0mi\u001b[0m\u001b[1;33m[\u001b[0m\u001b[1;36m1\u001b[0m\u001b[1;33m]\u001b[0m\u001b[1;33m)\u001b[0m\u001b[1;33m\u001b[0m\u001b[1;33m\u001b[0m\u001b[0m\n\u001b[0m\u001b[0;32m    221\u001b[0m     \u001b[1;32mexcept\u001b[0m \u001b[0mValueError\u001b[0m\u001b[1;33m:\u001b[0m\u001b[1;33m\u001b[0m\u001b[1;33m\u001b[0m\u001b[0m\n\u001b[0;32m    222\u001b[0m         \u001b[1;32mreturn\u001b[0m \u001b[1;32mNone\u001b[0m\u001b[1;33m\u001b[0m\u001b[1;33m\u001b[0m\u001b[0m\n",
      "\u001b[1;32m~\\Anaconda3\\envs\\insight\\lib\\site-packages\\fuzzywuzzy\\process.py\u001b[0m in \u001b[0;36mextractWithoutOrder\u001b[1;34m(query, choices, processor, scorer, score_cutoff)\u001b[0m\n\u001b[0;32m    115\u001b[0m         \u001b[1;32mfor\u001b[0m \u001b[0mchoice\u001b[0m \u001b[1;32min\u001b[0m \u001b[0mchoices\u001b[0m\u001b[1;33m:\u001b[0m\u001b[1;33m\u001b[0m\u001b[1;33m\u001b[0m\u001b[0m\n\u001b[0;32m    116\u001b[0m             \u001b[0mprocessed\u001b[0m \u001b[1;33m=\u001b[0m \u001b[0mpre_processor\u001b[0m\u001b[1;33m(\u001b[0m\u001b[0mprocessor\u001b[0m\u001b[1;33m(\u001b[0m\u001b[0mchoice\u001b[0m\u001b[1;33m)\u001b[0m\u001b[1;33m)\u001b[0m\u001b[1;33m\u001b[0m\u001b[1;33m\u001b[0m\u001b[0m\n\u001b[1;32m--> 117\u001b[1;33m             \u001b[0mscore\u001b[0m \u001b[1;33m=\u001b[0m \u001b[0mscorer\u001b[0m\u001b[1;33m(\u001b[0m\u001b[0mprocessed_query\u001b[0m\u001b[1;33m,\u001b[0m \u001b[0mprocessed\u001b[0m\u001b[1;33m)\u001b[0m\u001b[1;33m\u001b[0m\u001b[1;33m\u001b[0m\u001b[0m\n\u001b[0m\u001b[0;32m    118\u001b[0m             \u001b[1;32mif\u001b[0m \u001b[0mscore\u001b[0m \u001b[1;33m>=\u001b[0m \u001b[0mscore_cutoff\u001b[0m\u001b[1;33m:\u001b[0m\u001b[1;33m\u001b[0m\u001b[1;33m\u001b[0m\u001b[0m\n\u001b[0;32m    119\u001b[0m                 \u001b[1;32myield\u001b[0m \u001b[1;33m(\u001b[0m\u001b[0mchoice\u001b[0m\u001b[1;33m,\u001b[0m \u001b[0mscore\u001b[0m\u001b[1;33m)\u001b[0m\u001b[1;33m\u001b[0m\u001b[1;33m\u001b[0m\u001b[0m\n",
      "\u001b[1;32m~\\Anaconda3\\envs\\insight\\lib\\site-packages\\fuzzywuzzy\\fuzz.py\u001b[0m in \u001b[0;36mWRatio\u001b[1;34m(s1, s2, force_ascii, full_process)\u001b[0m\n\u001b[0;32m    290\u001b[0m             \u001b[1;33m*\u001b[0m \u001b[0munbase_scale\u001b[0m \u001b[1;33m*\u001b[0m \u001b[0mpartial_scale\u001b[0m\u001b[1;33m\u001b[0m\u001b[1;33m\u001b[0m\u001b[0m\n\u001b[0;32m    291\u001b[0m         \u001b[0mptser\u001b[0m \u001b[1;33m=\u001b[0m \u001b[0mpartial_token_set_ratio\u001b[0m\u001b[1;33m(\u001b[0m\u001b[0mp1\u001b[0m\u001b[1;33m,\u001b[0m \u001b[0mp2\u001b[0m\u001b[1;33m,\u001b[0m \u001b[0mfull_process\u001b[0m\u001b[1;33m=\u001b[0m\u001b[1;32mFalse\u001b[0m\u001b[1;33m)\u001b[0m\u001b[0;31m \u001b[0m\u001b[0;31m\\\u001b[0m\u001b[1;33m\u001b[0m\u001b[1;33m\u001b[0m\u001b[0m\n\u001b[1;32m--> 292\u001b[1;33m             \u001b[1;33m*\u001b[0m \u001b[0munbase_scale\u001b[0m \u001b[1;33m*\u001b[0m \u001b[0mpartial_scale\u001b[0m\u001b[1;33m\u001b[0m\u001b[1;33m\u001b[0m\u001b[0m\n\u001b[0m\u001b[0;32m    293\u001b[0m \u001b[1;33m\u001b[0m\u001b[0m\n\u001b[0;32m    294\u001b[0m         \u001b[1;32mreturn\u001b[0m \u001b[0mutils\u001b[0m\u001b[1;33m.\u001b[0m\u001b[0mintr\u001b[0m\u001b[1;33m(\u001b[0m\u001b[0mmax\u001b[0m\u001b[1;33m(\u001b[0m\u001b[0mbase\u001b[0m\u001b[1;33m,\u001b[0m \u001b[0mpartial\u001b[0m\u001b[1;33m,\u001b[0m \u001b[0mptsor\u001b[0m\u001b[1;33m,\u001b[0m \u001b[0mptser\u001b[0m\u001b[1;33m)\u001b[0m\u001b[1;33m)\u001b[0m\u001b[1;33m\u001b[0m\u001b[1;33m\u001b[0m\u001b[0m\n",
      "\u001b[1;32m~\\Anaconda3\\envs\\insight\\lib\\site-packages\\fuzzywuzzy\\fuzz.py\u001b[0m in \u001b[0;36mpartial_token_set_ratio\u001b[1;34m(s1, s2, force_ascii, full_process)\u001b[0m\n\u001b[0;32m    171\u001b[0m \u001b[1;33m\u001b[0m\u001b[0m\n\u001b[0;32m    172\u001b[0m \u001b[1;32mdef\u001b[0m \u001b[0mpartial_token_set_ratio\u001b[0m\u001b[1;33m(\u001b[0m\u001b[0ms1\u001b[0m\u001b[1;33m,\u001b[0m \u001b[0ms2\u001b[0m\u001b[1;33m,\u001b[0m \u001b[0mforce_ascii\u001b[0m\u001b[1;33m=\u001b[0m\u001b[1;32mTrue\u001b[0m\u001b[1;33m,\u001b[0m \u001b[0mfull_process\u001b[0m\u001b[1;33m=\u001b[0m\u001b[1;32mTrue\u001b[0m\u001b[1;33m)\u001b[0m\u001b[1;33m:\u001b[0m\u001b[1;33m\u001b[0m\u001b[1;33m\u001b[0m\u001b[0m\n\u001b[1;32m--> 173\u001b[1;33m     \u001b[1;32mreturn\u001b[0m \u001b[0m_token_set\u001b[0m\u001b[1;33m(\u001b[0m\u001b[0ms1\u001b[0m\u001b[1;33m,\u001b[0m \u001b[0ms2\u001b[0m\u001b[1;33m,\u001b[0m \u001b[0mpartial\u001b[0m\u001b[1;33m=\u001b[0m\u001b[1;32mTrue\u001b[0m\u001b[1;33m,\u001b[0m \u001b[0mforce_ascii\u001b[0m\u001b[1;33m=\u001b[0m\u001b[0mforce_ascii\u001b[0m\u001b[1;33m,\u001b[0m \u001b[0mfull_process\u001b[0m\u001b[1;33m=\u001b[0m\u001b[0mfull_process\u001b[0m\u001b[1;33m)\u001b[0m\u001b[1;33m\u001b[0m\u001b[1;33m\u001b[0m\u001b[0m\n\u001b[0m\u001b[0;32m    174\u001b[0m \u001b[1;33m\u001b[0m\u001b[0m\n\u001b[0;32m    175\u001b[0m \u001b[1;33m\u001b[0m\u001b[0m\n",
      "\u001b[1;32m~\\Anaconda3\\envs\\insight\\lib\\site-packages\\fuzzywuzzy\\utils.py\u001b[0m in \u001b[0;36mdecorator\u001b[1;34m(*args, **kwargs)\u001b[0m\n\u001b[0;32m     36\u001b[0m         \u001b[1;32mif\u001b[0m \u001b[0margs\u001b[0m\u001b[1;33m[\u001b[0m\u001b[1;36m0\u001b[0m\u001b[1;33m]\u001b[0m \u001b[1;32mis\u001b[0m \u001b[1;32mNone\u001b[0m \u001b[1;32mor\u001b[0m \u001b[0margs\u001b[0m\u001b[1;33m[\u001b[0m\u001b[1;36m1\u001b[0m\u001b[1;33m]\u001b[0m \u001b[1;32mis\u001b[0m \u001b[1;32mNone\u001b[0m\u001b[1;33m:\u001b[0m\u001b[1;33m\u001b[0m\u001b[1;33m\u001b[0m\u001b[0m\n\u001b[0;32m     37\u001b[0m             \u001b[1;32mreturn\u001b[0m \u001b[1;36m0\u001b[0m\u001b[1;33m\u001b[0m\u001b[1;33m\u001b[0m\u001b[0m\n\u001b[1;32m---> 38\u001b[1;33m         \u001b[1;32mreturn\u001b[0m \u001b[0mfunc\u001b[0m\u001b[1;33m(\u001b[0m\u001b[1;33m*\u001b[0m\u001b[0margs\u001b[0m\u001b[1;33m,\u001b[0m \u001b[1;33m**\u001b[0m\u001b[0mkwargs\u001b[0m\u001b[1;33m)\u001b[0m\u001b[1;33m\u001b[0m\u001b[1;33m\u001b[0m\u001b[0m\n\u001b[0m\u001b[0;32m     39\u001b[0m     \u001b[1;32mreturn\u001b[0m \u001b[0mdecorator\u001b[0m\u001b[1;33m\u001b[0m\u001b[1;33m\u001b[0m\u001b[0m\n\u001b[0;32m     40\u001b[0m \u001b[1;33m\u001b[0m\u001b[0m\n",
      "\u001b[1;32m~\\Anaconda3\\envs\\insight\\lib\\site-packages\\fuzzywuzzy\\fuzz.py\u001b[0m in \u001b[0;36m_token_set\u001b[1;34m(s1, s2, partial, force_ascii, full_process)\u001b[0m\n\u001b[0;32m    161\u001b[0m         \u001b[0mratio_func\u001b[0m\u001b[1;33m(\u001b[0m\u001b[0msorted_sect\u001b[0m\u001b[1;33m,\u001b[0m \u001b[0mcombined_1to2\u001b[0m\u001b[1;33m)\u001b[0m\u001b[1;33m,\u001b[0m\u001b[1;33m\u001b[0m\u001b[1;33m\u001b[0m\u001b[0m\n\u001b[0;32m    162\u001b[0m         \u001b[0mratio_func\u001b[0m\u001b[1;33m(\u001b[0m\u001b[0msorted_sect\u001b[0m\u001b[1;33m,\u001b[0m \u001b[0mcombined_2to1\u001b[0m\u001b[1;33m)\u001b[0m\u001b[1;33m,\u001b[0m\u001b[1;33m\u001b[0m\u001b[1;33m\u001b[0m\u001b[0m\n\u001b[1;32m--> 163\u001b[1;33m         \u001b[0mratio_func\u001b[0m\u001b[1;33m(\u001b[0m\u001b[0mcombined_1to2\u001b[0m\u001b[1;33m,\u001b[0m \u001b[0mcombined_2to1\u001b[0m\u001b[1;33m)\u001b[0m\u001b[1;33m\u001b[0m\u001b[1;33m\u001b[0m\u001b[0m\n\u001b[0m\u001b[0;32m    164\u001b[0m     ]\n\u001b[0;32m    165\u001b[0m     \u001b[1;32mreturn\u001b[0m \u001b[0mmax\u001b[0m\u001b[1;33m(\u001b[0m\u001b[0mpairwise\u001b[0m\u001b[1;33m)\u001b[0m\u001b[1;33m\u001b[0m\u001b[1;33m\u001b[0m\u001b[0m\n",
      "\u001b[1;32m~\\Anaconda3\\envs\\insight\\lib\\site-packages\\fuzzywuzzy\\utils.py\u001b[0m in \u001b[0;36mdecorator\u001b[1;34m(*args, **kwargs)\u001b[0m\n\u001b[0;32m     36\u001b[0m         \u001b[1;32mif\u001b[0m \u001b[0margs\u001b[0m\u001b[1;33m[\u001b[0m\u001b[1;36m0\u001b[0m\u001b[1;33m]\u001b[0m \u001b[1;32mis\u001b[0m \u001b[1;32mNone\u001b[0m \u001b[1;32mor\u001b[0m \u001b[0margs\u001b[0m\u001b[1;33m[\u001b[0m\u001b[1;36m1\u001b[0m\u001b[1;33m]\u001b[0m \u001b[1;32mis\u001b[0m \u001b[1;32mNone\u001b[0m\u001b[1;33m:\u001b[0m\u001b[1;33m\u001b[0m\u001b[1;33m\u001b[0m\u001b[0m\n\u001b[0;32m     37\u001b[0m             \u001b[1;32mreturn\u001b[0m \u001b[1;36m0\u001b[0m\u001b[1;33m\u001b[0m\u001b[1;33m\u001b[0m\u001b[0m\n\u001b[1;32m---> 38\u001b[1;33m         \u001b[1;32mreturn\u001b[0m \u001b[0mfunc\u001b[0m\u001b[1;33m(\u001b[0m\u001b[1;33m*\u001b[0m\u001b[0margs\u001b[0m\u001b[1;33m,\u001b[0m \u001b[1;33m**\u001b[0m\u001b[0mkwargs\u001b[0m\u001b[1;33m)\u001b[0m\u001b[1;33m\u001b[0m\u001b[1;33m\u001b[0m\u001b[0m\n\u001b[0m\u001b[0;32m     39\u001b[0m     \u001b[1;32mreturn\u001b[0m \u001b[0mdecorator\u001b[0m\u001b[1;33m\u001b[0m\u001b[1;33m\u001b[0m\u001b[0m\n\u001b[0;32m     40\u001b[0m \u001b[1;33m\u001b[0m\u001b[0m\n",
      "\u001b[1;32m~\\Anaconda3\\envs\\insight\\lib\\site-packages\\fuzzywuzzy\\utils.py\u001b[0m in \u001b[0;36mdecorator\u001b[1;34m(*args, **kwargs)\u001b[0m\n\u001b[0;32m     27\u001b[0m         \u001b[1;32mif\u001b[0m \u001b[0margs\u001b[0m\u001b[1;33m[\u001b[0m\u001b[1;36m0\u001b[0m\u001b[1;33m]\u001b[0m \u001b[1;33m==\u001b[0m \u001b[0margs\u001b[0m\u001b[1;33m[\u001b[0m\u001b[1;36m1\u001b[0m\u001b[1;33m]\u001b[0m\u001b[1;33m:\u001b[0m\u001b[1;33m\u001b[0m\u001b[1;33m\u001b[0m\u001b[0m\n\u001b[0;32m     28\u001b[0m             \u001b[1;32mreturn\u001b[0m \u001b[1;36m100\u001b[0m\u001b[1;33m\u001b[0m\u001b[1;33m\u001b[0m\u001b[0m\n\u001b[1;32m---> 29\u001b[1;33m         \u001b[1;32mreturn\u001b[0m \u001b[0mfunc\u001b[0m\u001b[1;33m(\u001b[0m\u001b[1;33m*\u001b[0m\u001b[0margs\u001b[0m\u001b[1;33m,\u001b[0m \u001b[1;33m**\u001b[0m\u001b[0mkwargs\u001b[0m\u001b[1;33m)\u001b[0m\u001b[1;33m\u001b[0m\u001b[1;33m\u001b[0m\u001b[0m\n\u001b[0m\u001b[0;32m     30\u001b[0m     \u001b[1;32mreturn\u001b[0m \u001b[0mdecorator\u001b[0m\u001b[1;33m\u001b[0m\u001b[1;33m\u001b[0m\u001b[0m\n\u001b[0;32m     31\u001b[0m \u001b[1;33m\u001b[0m\u001b[0m\n",
      "\u001b[1;32m~\\Anaconda3\\envs\\insight\\lib\\site-packages\\fuzzywuzzy\\utils.py\u001b[0m in \u001b[0;36mdecorator\u001b[1;34m(*args, **kwargs)\u001b[0m\n\u001b[0;32m     45\u001b[0m         \u001b[1;32mif\u001b[0m \u001b[0mlen\u001b[0m\u001b[1;33m(\u001b[0m\u001b[0margs\u001b[0m\u001b[1;33m[\u001b[0m\u001b[1;36m0\u001b[0m\u001b[1;33m]\u001b[0m\u001b[1;33m)\u001b[0m \u001b[1;33m==\u001b[0m \u001b[1;36m0\u001b[0m \u001b[1;32mor\u001b[0m \u001b[0mlen\u001b[0m\u001b[1;33m(\u001b[0m\u001b[0margs\u001b[0m\u001b[1;33m[\u001b[0m\u001b[1;36m1\u001b[0m\u001b[1;33m]\u001b[0m\u001b[1;33m)\u001b[0m \u001b[1;33m==\u001b[0m \u001b[1;36m0\u001b[0m\u001b[1;33m:\u001b[0m\u001b[1;33m\u001b[0m\u001b[1;33m\u001b[0m\u001b[0m\n\u001b[0;32m     46\u001b[0m             \u001b[1;32mreturn\u001b[0m \u001b[1;36m0\u001b[0m\u001b[1;33m\u001b[0m\u001b[1;33m\u001b[0m\u001b[0m\n\u001b[1;32m---> 47\u001b[1;33m         \u001b[1;32mreturn\u001b[0m \u001b[0mfunc\u001b[0m\u001b[1;33m(\u001b[0m\u001b[1;33m*\u001b[0m\u001b[0margs\u001b[0m\u001b[1;33m,\u001b[0m \u001b[1;33m**\u001b[0m\u001b[0mkwargs\u001b[0m\u001b[1;33m)\u001b[0m\u001b[1;33m\u001b[0m\u001b[1;33m\u001b[0m\u001b[0m\n\u001b[0m\u001b[0;32m     48\u001b[0m     \u001b[1;32mreturn\u001b[0m \u001b[0mdecorator\u001b[0m\u001b[1;33m\u001b[0m\u001b[1;33m\u001b[0m\u001b[0m\n\u001b[0;32m     49\u001b[0m \u001b[1;33m\u001b[0m\u001b[0m\n",
      "\u001b[1;32m~\\Anaconda3\\envs\\insight\\lib\\site-packages\\fuzzywuzzy\\fuzz.py\u001b[0m in \u001b[0;36mpartial_ratio\u001b[1;34m(s1, s2)\u001b[0m\n\u001b[0;32m     60\u001b[0m \u001b[1;33m\u001b[0m\u001b[0m\n\u001b[0;32m     61\u001b[0m         \u001b[0mm2\u001b[0m \u001b[1;33m=\u001b[0m \u001b[0mSequenceMatcher\u001b[0m\u001b[1;33m(\u001b[0m\u001b[1;32mNone\u001b[0m\u001b[1;33m,\u001b[0m \u001b[0mshorter\u001b[0m\u001b[1;33m,\u001b[0m \u001b[0mlong_substr\u001b[0m\u001b[1;33m)\u001b[0m\u001b[1;33m\u001b[0m\u001b[1;33m\u001b[0m\u001b[0m\n\u001b[1;32m---> 62\u001b[1;33m         \u001b[0mr\u001b[0m \u001b[1;33m=\u001b[0m \u001b[0mm2\u001b[0m\u001b[1;33m.\u001b[0m\u001b[0mratio\u001b[0m\u001b[1;33m(\u001b[0m\u001b[1;33m)\u001b[0m\u001b[1;33m\u001b[0m\u001b[1;33m\u001b[0m\u001b[0m\n\u001b[0m\u001b[0;32m     63\u001b[0m         \u001b[1;32mif\u001b[0m \u001b[0mr\u001b[0m \u001b[1;33m>\u001b[0m \u001b[1;36m.995\u001b[0m\u001b[1;33m:\u001b[0m\u001b[1;33m\u001b[0m\u001b[1;33m\u001b[0m\u001b[0m\n\u001b[0;32m     64\u001b[0m             \u001b[1;32mreturn\u001b[0m \u001b[1;36m100\u001b[0m\u001b[1;33m\u001b[0m\u001b[1;33m\u001b[0m\u001b[0m\n",
      "\u001b[1;32m~\\Anaconda3\\envs\\insight\\lib\\difflib.py\u001b[0m in \u001b[0;36mratio\u001b[1;34m(self)\u001b[0m\n\u001b[0;32m    642\u001b[0m         \"\"\"\n\u001b[0;32m    643\u001b[0m \u001b[1;33m\u001b[0m\u001b[0m\n\u001b[1;32m--> 644\u001b[1;33m         \u001b[0mmatches\u001b[0m \u001b[1;33m=\u001b[0m \u001b[0msum\u001b[0m\u001b[1;33m(\u001b[0m\u001b[0mtriple\u001b[0m\u001b[1;33m[\u001b[0m\u001b[1;33m-\u001b[0m\u001b[1;36m1\u001b[0m\u001b[1;33m]\u001b[0m \u001b[1;32mfor\u001b[0m \u001b[0mtriple\u001b[0m \u001b[1;32min\u001b[0m \u001b[0mself\u001b[0m\u001b[1;33m.\u001b[0m\u001b[0mget_matching_blocks\u001b[0m\u001b[1;33m(\u001b[0m\u001b[1;33m)\u001b[0m\u001b[1;33m)\u001b[0m\u001b[1;33m\u001b[0m\u001b[1;33m\u001b[0m\u001b[0m\n\u001b[0m\u001b[0;32m    645\u001b[0m         \u001b[1;32mreturn\u001b[0m \u001b[0m_calculate_ratio\u001b[0m\u001b[1;33m(\u001b[0m\u001b[0mmatches\u001b[0m\u001b[1;33m,\u001b[0m \u001b[0mlen\u001b[0m\u001b[1;33m(\u001b[0m\u001b[0mself\u001b[0m\u001b[1;33m.\u001b[0m\u001b[0ma\u001b[0m\u001b[1;33m)\u001b[0m \u001b[1;33m+\u001b[0m \u001b[0mlen\u001b[0m\u001b[1;33m(\u001b[0m\u001b[0mself\u001b[0m\u001b[1;33m.\u001b[0m\u001b[0mb\u001b[0m\u001b[1;33m)\u001b[0m\u001b[1;33m)\u001b[0m\u001b[1;33m\u001b[0m\u001b[1;33m\u001b[0m\u001b[0m\n\u001b[0;32m    646\u001b[0m \u001b[1;33m\u001b[0m\u001b[0m\n",
      "\u001b[1;32m~\\Anaconda3\\envs\\insight\\lib\\difflib.py\u001b[0m in \u001b[0;36mget_matching_blocks\u001b[1;34m(self)\u001b[0m\n\u001b[0;32m    512\u001b[0m \u001b[1;33m\u001b[0m\u001b[0m\n\u001b[0;32m    513\u001b[0m         \u001b[0mnon_adjacent\u001b[0m\u001b[1;33m.\u001b[0m\u001b[0mappend\u001b[0m\u001b[1;33m(\u001b[0m \u001b[1;33m(\u001b[0m\u001b[0mla\u001b[0m\u001b[1;33m,\u001b[0m \u001b[0mlb\u001b[0m\u001b[1;33m,\u001b[0m \u001b[1;36m0\u001b[0m\u001b[1;33m)\u001b[0m \u001b[1;33m)\u001b[0m\u001b[1;33m\u001b[0m\u001b[1;33m\u001b[0m\u001b[0m\n\u001b[1;32m--> 514\u001b[1;33m         \u001b[0mself\u001b[0m\u001b[1;33m.\u001b[0m\u001b[0mmatching_blocks\u001b[0m \u001b[1;33m=\u001b[0m \u001b[0mlist\u001b[0m\u001b[1;33m(\u001b[0m\u001b[0mmap\u001b[0m\u001b[1;33m(\u001b[0m\u001b[0mMatch\u001b[0m\u001b[1;33m.\u001b[0m\u001b[0m_make\u001b[0m\u001b[1;33m,\u001b[0m \u001b[0mnon_adjacent\u001b[0m\u001b[1;33m)\u001b[0m\u001b[1;33m)\u001b[0m\u001b[1;33m\u001b[0m\u001b[1;33m\u001b[0m\u001b[0m\n\u001b[0m\u001b[0;32m    515\u001b[0m         \u001b[1;32mreturn\u001b[0m \u001b[0mself\u001b[0m\u001b[1;33m.\u001b[0m\u001b[0mmatching_blocks\u001b[0m\u001b[1;33m\u001b[0m\u001b[1;33m\u001b[0m\u001b[0m\n\u001b[0;32m    516\u001b[0m \u001b[1;33m\u001b[0m\u001b[0m\n",
      "\u001b[1;32m~\\Anaconda3\\envs\\insight\\lib\\collections\\__init__.py\u001b[0m in \u001b[0;36m_make\u001b[1;34m(cls, iterable)\u001b[0m\n\u001b[0;32m    401\u001b[0m         \u001b[0m__new__\u001b[0m\u001b[1;33m.\u001b[0m\u001b[0m__defaults__\u001b[0m \u001b[1;33m=\u001b[0m \u001b[0mdefaults\u001b[0m\u001b[1;33m\u001b[0m\u001b[1;33m\u001b[0m\u001b[0m\n\u001b[0;32m    402\u001b[0m \u001b[1;33m\u001b[0m\u001b[0m\n\u001b[1;32m--> 403\u001b[1;33m     \u001b[1;33m@\u001b[0m\u001b[0mclassmethod\u001b[0m\u001b[1;33m\u001b[0m\u001b[1;33m\u001b[0m\u001b[0m\n\u001b[0m\u001b[0;32m    404\u001b[0m     \u001b[1;32mdef\u001b[0m \u001b[0m_make\u001b[0m\u001b[1;33m(\u001b[0m\u001b[0mcls\u001b[0m\u001b[1;33m,\u001b[0m \u001b[0miterable\u001b[0m\u001b[1;33m)\u001b[0m\u001b[1;33m:\u001b[0m\u001b[1;33m\u001b[0m\u001b[1;33m\u001b[0m\u001b[0m\n\u001b[0;32m    405\u001b[0m         \u001b[0mresult\u001b[0m \u001b[1;33m=\u001b[0m \u001b[0mtuple_new\u001b[0m\u001b[1;33m(\u001b[0m\u001b[0mcls\u001b[0m\u001b[1;33m,\u001b[0m \u001b[0miterable\u001b[0m\u001b[1;33m)\u001b[0m\u001b[1;33m\u001b[0m\u001b[1;33m\u001b[0m\u001b[0m\n",
      "\u001b[1;31mKeyboardInterrupt\u001b[0m: "
     ]
    }
   ],
   "source": [
    "# #this takes too long\n",
    "# #come up with a dictionary instead\n",
    "# %%time\n",
    "# #help(process.extractOne)\n",
    "# def fun(x):\n",
    "#     match = process.extractOne(x.PURPOSE,cats,score_cutoff=70)\n",
    "#     if match:\n",
    "#         return match[0]\n",
    "#     else:\n",
    "#         return None\n",
    "    \n",
    "# df.apply(fun, axis=1) #set as new column\n",
    "# print('timed')"
   ]
  },
  {
   "cell_type": "code",
   "execution_count": 125,
   "metadata": {},
   "outputs": [
    {
     "ename": "TypeError",
     "evalue": "scatter() missing 1 required positional argument: 'y'",
     "output_type": "error",
     "traceback": [
      "\u001b[1;31m---------------------------------------------------------------------------\u001b[0m",
      "\u001b[1;31mTypeError\u001b[0m                                 Traceback (most recent call last)",
      "\u001b[1;32m<ipython-input-125-663c5e714a64>\u001b[0m in \u001b[0;36m<module>\u001b[1;34m\u001b[0m\n\u001b[0;32m     15\u001b[0m \u001b[1;33m\u001b[0m\u001b[0m\n\u001b[0;32m     16\u001b[0m \u001b[0mfg\u001b[0m \u001b[1;33m=\u001b[0m \u001b[0mseaborn\u001b[0m\u001b[1;33m.\u001b[0m\u001b[0mFacetGrid\u001b[0m\u001b[1;33m(\u001b[0m\u001b[0mdata\u001b[0m\u001b[1;33m=\u001b[0m\u001b[0mdf\u001b[0m\u001b[1;33m[\u001b[0m\u001b[1;33m[\u001b[0m\u001b[1;34m'TRANSACTION_AMT'\u001b[0m\u001b[1;33m,\u001b[0m\u001b[1;34m'PURPOSE'\u001b[0m\u001b[1;33m]\u001b[0m\u001b[1;33m]\u001b[0m\u001b[1;33m,\u001b[0m \u001b[0mhue\u001b[0m\u001b[1;33m=\u001b[0m\u001b[1;34m'PURPOSE'\u001b[0m\u001b[1;33m,\u001b[0m \u001b[0maspect\u001b[0m\u001b[1;33m=\u001b[0m\u001b[1;36m1.61\u001b[0m\u001b[1;33m)\u001b[0m\u001b[1;33m\u001b[0m\u001b[1;33m\u001b[0m\u001b[0m\n\u001b[1;32m---> 17\u001b[1;33m \u001b[0mfg\u001b[0m\u001b[1;33m.\u001b[0m\u001b[0mmap\u001b[0m\u001b[1;33m(\u001b[0m\u001b[0mpyplot\u001b[0m\u001b[1;33m.\u001b[0m\u001b[0mscatter\u001b[0m\u001b[1;33m,\u001b[0m \u001b[1;34m'TRANSACTION_AMT'\u001b[0m\u001b[1;33m)\u001b[0m\u001b[1;33m.\u001b[0m\u001b[0madd_legend\u001b[0m\u001b[1;33m(\u001b[0m\u001b[1;33m)\u001b[0m\u001b[1;33m\u001b[0m\u001b[1;33m\u001b[0m\u001b[0m\n\u001b[0m",
      "\u001b[1;32m~\\Anaconda3\\envs\\insight\\lib\\site-packages\\seaborn\\axisgrid.py\u001b[0m in \u001b[0;36mmap\u001b[1;34m(self, func, *args, **kwargs)\u001b[0m\n\u001b[0;32m    752\u001b[0m \u001b[1;33m\u001b[0m\u001b[0m\n\u001b[0;32m    753\u001b[0m             \u001b[1;31m# Draw the plot\u001b[0m\u001b[1;33m\u001b[0m\u001b[1;33m\u001b[0m\u001b[1;33m\u001b[0m\u001b[0m\n\u001b[1;32m--> 754\u001b[1;33m             \u001b[0mself\u001b[0m\u001b[1;33m.\u001b[0m\u001b[0m_facet_plot\u001b[0m\u001b[1;33m(\u001b[0m\u001b[0mfunc\u001b[0m\u001b[1;33m,\u001b[0m \u001b[0max\u001b[0m\u001b[1;33m,\u001b[0m \u001b[0mplot_args\u001b[0m\u001b[1;33m,\u001b[0m \u001b[0mkwargs\u001b[0m\u001b[1;33m)\u001b[0m\u001b[1;33m\u001b[0m\u001b[1;33m\u001b[0m\u001b[0m\n\u001b[0m\u001b[0;32m    755\u001b[0m \u001b[1;33m\u001b[0m\u001b[0m\n\u001b[0;32m    756\u001b[0m         \u001b[1;31m# Finalize the annotations and layout\u001b[0m\u001b[1;33m\u001b[0m\u001b[1;33m\u001b[0m\u001b[1;33m\u001b[0m\u001b[0m\n",
      "\u001b[1;32m~\\Anaconda3\\envs\\insight\\lib\\site-packages\\seaborn\\axisgrid.py\u001b[0m in \u001b[0;36m_facet_plot\u001b[1;34m(self, func, ax, plot_args, plot_kwargs)\u001b[0m\n\u001b[0;32m    836\u001b[0m \u001b[1;33m\u001b[0m\u001b[0m\n\u001b[0;32m    837\u001b[0m         \u001b[1;31m# Draw the plot\u001b[0m\u001b[1;33m\u001b[0m\u001b[1;33m\u001b[0m\u001b[1;33m\u001b[0m\u001b[0m\n\u001b[1;32m--> 838\u001b[1;33m         \u001b[0mfunc\u001b[0m\u001b[1;33m(\u001b[0m\u001b[1;33m*\u001b[0m\u001b[0mplot_args\u001b[0m\u001b[1;33m,\u001b[0m \u001b[1;33m**\u001b[0m\u001b[0mplot_kwargs\u001b[0m\u001b[1;33m)\u001b[0m\u001b[1;33m\u001b[0m\u001b[1;33m\u001b[0m\u001b[0m\n\u001b[0m\u001b[0;32m    839\u001b[0m \u001b[1;33m\u001b[0m\u001b[0m\n\u001b[0;32m    840\u001b[0m         \u001b[1;31m# Sort out the supporting information\u001b[0m\u001b[1;33m\u001b[0m\u001b[1;33m\u001b[0m\u001b[1;33m\u001b[0m\u001b[0m\n",
      "\u001b[1;31mTypeError\u001b[0m: scatter() missing 1 required positional argument: 'y'"
     ]
    },
    {
     "data": {
      "image/png": "[encoded data removed]",
      "text/plain": [
       "<Figure size 347.76x216 with 1 Axes>"
      ]
     },
     "metadata": {},
     "output_type": "display_data"
    }
   ],
   "source": [
    "import numpy \n",
    "import pandas\n",
    "from  matplotlib import pyplot\n",
    "import seaborn\n",
    "seaborn.set(style='ticks')\n",
    "\n",
    "# numpy.random.seed(0)\n",
    "# N = 37\n",
    "# _genders= ['Female', 'Male', 'Non-binary', 'No Response']\n",
    "# df = pandas.DataFrame({\n",
    "#     'Height (cm)': numpy.random.uniform(low=130, high=200, size=N),\n",
    "#     'Weight (kg)': numpy.random.uniform(low=30, high=100, size=N),\n",
    "#     'Gender': numpy.random.choice(_genders, size=N)\n",
    "# })\n",
    "\n",
    "fg = seaborn.FacetGrid(data=df[['TRANSACTION_AMT','PURPOSE']], hue='PURPOSE', aspect=1.61)\n",
    "fg.map(pyplot.scatter, 'TRANSACTION_AMT').add_legend()"
   ]
  },
  {
   "cell_type": "code",
   "execution_count": 141,
   "metadata": {},
   "outputs": [
    {
     "data": {
      "image/png": "[encoded data removed]",
      "text/plain": [
       "<Figure size 504x504 with 1 Axes>"
      ]
     },
     "metadata": {},
     "output_type": "display_data"
    },
    {
     "data": {
      "image/png": "[encoded data removed]",
      "text/plain": [
       "<Figure size 360x360 with 1 Axes>"
      ]
     },
     "metadata": {},
     "output_type": "display_data"
    }
   ],
   "source": [
    "import seaborn as sns\n",
    "import matplotlib.pyplot as plt\n",
    "\n",
    "sns.set(style=\"ticks\", color_codes=True)\n",
    "\n",
    "f, ax = plt.subplots(figsize=(7, 7))\n",
    "\n",
    "ax.set(xscale=\"log\")\n",
    "cat_plot = sns.catplot(x=\"TRANSACTION_AMT\", y=\"PURPOSE\", hue=\"PURPOSE\", kind=\"swarm\", ax=ax, data=df[['TRANSACTION_AMT','PURPOSE']].iloc[:1000,:],legend=False);\n"
   ]
  },
  {
   "cell_type": "code",
   "execution_count": 143,
   "metadata": {},
   "outputs": [
    {
     "data": {
      "image/png": "[encoded data removed]",
      "text/plain": [
       "<Figure size 360x360 with 1 Axes>"
      ]
     },
     "metadata": {},
     "output_type": "display_data"
    }
   ],
   "source": [
    "import seaborn as sns\n",
    "import matplotlib.pyplot as plt\n",
    "\n",
    "sns.set(style=\"ticks\", color_codes=True)\n",
    "cat_plot = sns.catplot(x=\"TRANSACTION_AMT\", y=\"PURPOSE\", hue=\"PURPOSE\", kind=\"swarm\", data=df[['TRANSACTION_AMT','PURPOSE']].iloc[:1000,:],legend=False);\n"
   ]
  }
 ],
 "metadata": {
  "kernelspec": {
   "display_name": "Python 3",
   "language": "python",
   "name": "python3"
  },
  "language_info": {
   "codemirror_mode": {
    "name": "ipython",
    "version": 3
   },
   "file_extension": ".py",
   "mimetype": "text/x-python",
   "name": "python",
   "nbconvert_exporter": "python",
   "pygments_lexer": "ipython3",
   "version": "3.7.4"
  }
 },
 "nbformat": 4,
 "nbformat_minor": 2
}
