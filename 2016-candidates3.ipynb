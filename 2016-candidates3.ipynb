{
 "cells": [
  {
   "cell_type": "code",
   "execution_count": 1,
   "metadata": {},
   "outputs": [
    {
     "name": "stdout",
     "output_type": "stream",
     "text": [
      "timed\n",
      "Wall time: 39.8 s\n"
     ]
    }
   ],
   "source": [
    "%%time\n",
    "\n",
    "import pandas as pd\n",
    "import numpy as np\n",
    "from scipy import stats\n",
    "from datetime import datetime\n",
    "\n",
    "CORE_COLUMNS = ['CMTE_NM','RPT_TP','NAME','CITY','STATE','ZIP_CODE','TRANSACTION_DT','TRANSACTION_AMT','PURPOSE','CATEGORY']\n",
    "pres_cmtes = ['DONALD J. TRUMP FOR PRESIDENT, INC.','CRUZ FOR PRESIDENT','KASICH FOR AMERICA, INC.','MARCO RUBIO FOR PRESIDENT','CARSON AMERICA','GILMORE FOR AMERICA LLC','SANTORUM FOR PRESIDENT 2016','PATAKI FOR PRESIDENT INC']\n",
    "FINAL_PRIMARY_DT = \"June 7, 2016\"\n",
    "final_primary = datetime.strptime(FINAL_PRIMARY_DT, '%B %d, %Y')\n",
    "\n",
    "# Read in data\n",
    "df_header = pd.read_csv(\"~/Documents/Insight/Data - Insight/oppexp_header_file.csv\")\n",
    "df = pd.read_csv(\"~/Documents/Insight/Data - Insight/oppexp16/oppexp.txt\", delimiter=\"|\", low_memory=False, names=df_header.columns, index_col=False)\n",
    "cmte_header = pd.read_csv(\"~/Documents/Insight/Data - Insight/cm20/cm_header_file.csv\") # pull in header for committee names file\n",
    "cmte_names = pd.read_csv(\"~/Documents/Insight/Data - Insight/cm20/cm.txt\", delimiter=\"|\", names=cmte_header.columns) # pull in committee names file\n",
    "\n",
    "# Clean data\n",
    "df = ( df.set_index('CMTE_ID') ).join(cmte_names.set_index('CMTE_ID')) \n",
    "df = df.reset_index()\n",
    "df['TRANSACTION_DT']=pd.to_datetime(df['TRANSACTION_DT'],errors = 'coerce')\n",
    "df = df[df['TRANSACTION_AMT']>0]\n",
    "\n",
    "print('timed')"
   ]
  },
  {
   "cell_type": "code",
   "execution_count": 20,
   "metadata": {},
   "outputs": [],
   "source": [
    "%%time\n",
    "\n",
    "df = df[df.apply(lambda x: x.CMTE_NM in pres_cmtes, axis=1)]"
   ]
  },
  {
   "cell_type": "code",
   "execution_count": null,
   "metadata": {},
   "outputs": [],
   "source": [
    "%%time\n",
    "\n",
    "from sklearn.cluster import DBSCAN\n",
    "import numpy as np\n",
    "\n",
    "clustering = DBSCAN(eps=30, min_samples=100).fit_predict(df[['TRANSACTION_AMT']])\n",
    "#clustering.labels_\n",
    "\n",
    "print(clustering) "
   ]
  },
  {
   "cell_type": "code",
   "execution_count": 25,
   "metadata": {},
   "outputs": [
    {
     "data": {
      "text/plain": [
       "7296"
      ]
     },
     "execution_count": 25,
     "metadata": {},
     "output_type": "execute_result"
    }
   ],
   "source": [
    "max(clustering)\n",
    "sum(clustering==-1)"
   ]
  },
  {
   "cell_type": "code",
   "execution_count": 27,
   "metadata": {},
   "outputs": [
    {
     "data": {
      "text/plain": [
       "0.09505569669728356"
      ]
     },
     "execution_count": 27,
     "metadata": {},
     "output_type": "execute_result"
    }
   ],
   "source": [
    "len(clustering)\n",
    "sum(clustering==-1)/len(clustering)"
   ]
  },
  {
   "cell_type": "code",
   "execution_count": null,
   "metadata": {},
   "outputs": [],
   "source": [
    "df.dtypes"
   ]
  },
  {
   "cell_type": "code",
   "execution_count": 19,
   "metadata": {},
   "outputs": [
    {
     "data": {
      "text/plain": [
       "4"
      ]
     },
     "execution_count": 19,
     "metadata": {},
     "output_type": "execute_result"
    }
   ],
   "source": [
    "1+3"
   ]
  }
 ],
 "metadata": {
  "kernelspec": {
   "display_name": "Python 3",
   "language": "python",
   "name": "python3"
  },
  "language_info": {
   "codemirror_mode": {
    "name": "ipython",
    "version": 3
   },
   "file_extension": ".py",
   "mimetype": "text/x-python",
   "name": "python",
   "nbconvert_exporter": "python",
   "pygments_lexer": "ipython3",
   "version": "3.7.4"
  }
 },
 "nbformat": 4,
 "nbformat_minor": 2
}
