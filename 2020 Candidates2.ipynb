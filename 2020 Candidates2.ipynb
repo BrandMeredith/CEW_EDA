{
 "cells": [
  {
   "cell_type": "code",
   "execution_count": 1,
   "metadata": {},
   "outputs": [
    {
     "name": "stdout",
     "output_type": "stream",
     "text": [
      "timed\n",
      "Wall time: 35.5 s\n"
     ]
    }
   ],
   "source": [
    "%%time\n",
    "\n",
    "import pandas as pd\n",
    "import numpy as np\n",
    "from scipy import stats\n",
    "from datetime import datetime\n",
    "\n",
    "PRES_CMTES = ['BENNET FOR AMERICA','BIDEN FOR PRESIDENT','BULLOCK FOR PRESIDENT','PETE FOR AMERICA, INC.','KAMALA HARRIS FOR THE PEOPLE','AMY KLOBUCHAR VICTORY COMMITTEE','WAYNE MESSAM FOR AMERICA, INC.','TIM RYAN FOR AMERICA','WARREN FOR PRESIDENT, INC.','MARIANNE WILLIAMSON FOR PRESIDENT','FRIENDS OF ANDREW YANG','CORY 2020','JULIAN FOR THE FUTURE','FRIENDS OF JOHN DELANEY','TULSI NOW','BETO FOR AMERICA','BERNIE 2020','JOE SESTAK FOR PRESIDENT','TOM STEYER 2020']\n",
    "CORE_COLUMNS = ['CMTE_NM','RPT_TP','NAME','CITY','STATE','ZIP_CODE','TRANSACTION_DT','TRANSACTION_AMT','PURPOSE','CATEGORY']\n",
    "\n",
    "\n",
    "# Read in data\n",
    "df_header = pd.read_csv(\"~/Documents/Insight/Data - Insight/oppexp_header_file.csv\")\n",
    "df = pd.read_csv(\"~/Documents/Insight/Data - Insight/oppexp20/oppexp.txt\", delimiter=\"|\", low_memory=False, names=df_header.columns, index_col=False)\n",
    "cmte_header = pd.read_csv(\"~/Documents/Insight/Data - Insight/cm20/cm_header_file.csv\") # pull in header for committee names file\n",
    "cmte_names = pd.read_csv(\"~/Documents/Insight/Data - Insight/cm20/cm.txt\", delimiter=\"|\", names=cmte_header.columns) # pull in committee names file\n",
    "\n",
    "# Clean data\n",
    "df = ( df.set_index('CMTE_ID') ).join(cmte_names.set_index('CMTE_ID')) \n",
    "df = df.reset_index()\n",
    "df['TRANSACTION_DT']=pd.to_datetime(df['TRANSACTION_DT'],errors = 'coerce')\n",
    "df = df[df['TRANSACTION_AMT']>0]\n",
    "df = df[df.apply(lambda x: x.CMTE_NM in PRES_CMTES, axis=1)]\n",
    "\n",
    "print('timed')"
   ]
  },
  {
   "cell_type": "code",
   "execution_count": 3,
   "metadata": {},
   "outputs": [
    {
     "name": "stdout",
     "output_type": "stream",
     "text": [
      "[0 0 0 ... 0 0 0]\n",
      "Wall time: 6.67 s\n"
     ]
    }
   ],
   "source": [
    "%%time\n",
    "\n",
    "from sklearn.cluster import DBSCAN\n",
    "import numpy as np\n",
    "\n",
    "clustering = DBSCAN(eps=30, min_samples=100).fit_predict(df[['TRANSACTION_AMT']])\n",
    "#clustering.labels_\n",
    "\n",
    "print(clustering) "
   ]
  },
  {
   "cell_type": "code",
   "execution_count": 9,
   "metadata": {},
   "outputs": [],
   "source": [
    "outliers = df[clustering==-1]\n",
    "outliers = outliers.sort_values('TRANSACTION_DT',ascending=False)"
   ]
  },
  {
   "cell_type": "code",
   "execution_count": 10,
   "metadata": {},
   "outputs": [],
   "source": [
    "# Save the outliers in a csv\n",
    "outliers.to_csv('outliers2020.csv')"
   ]
  },
  {
   "cell_type": "code",
   "execution_count": 11,
   "metadata": {},
   "outputs": [
    {
     "data": {
      "text/html": [
       "<div>\n",
       "<style scoped>\n",
       "    .dataframe tbody tr th:only-of-type {\n",
       "        vertical-align: middle;\n",
       "    }\n",
       "\n",
       "    .dataframe tbody tr th {\n",
       "        vertical-align: top;\n",
       "    }\n",
       "\n",
       "    .dataframe thead th {\n",
       "        text-align: right;\n",
       "    }\n",
       "</style>\n",
       "<table border=\"1\" class=\"dataframe\">\n",
       "  <thead>\n",
       "    <tr style=\"text-align: right;\">\n",
       "      <th></th>\n",
       "      <th>CMTE_NM</th>\n",
       "      <th>RPT_TP</th>\n",
       "      <th>NAME</th>\n",
       "      <th>CITY</th>\n",
       "      <th>STATE</th>\n",
       "      <th>ZIP_CODE</th>\n",
       "      <th>TRANSACTION_DT</th>\n",
       "      <th>TRANSACTION_AMT</th>\n",
       "      <th>PURPOSE</th>\n",
       "      <th>CATEGORY</th>\n",
       "    </tr>\n",
       "  </thead>\n",
       "  <tbody>\n",
       "    <tr>\n",
       "      <td>341998</td>\n",
       "      <td>BERNIE 2020</td>\n",
       "      <td>Q2</td>\n",
       "      <td>TIGEREYE PROMOTIONS, LLC</td>\n",
       "      <td>TROY</td>\n",
       "      <td>OH</td>\n",
       "      <td>453732560</td>\n",
       "      <td>2019-06-30</td>\n",
       "      <td>238194.96</td>\n",
       "      <td>BUTTONS/BUMPERSTICKERS/SIGNS/TS</td>\n",
       "      <td>NaN</td>\n",
       "    </tr>\n",
       "    <tr>\n",
       "      <td>341055</td>\n",
       "      <td>BERNIE 2020</td>\n",
       "      <td>Q2</td>\n",
       "      <td>ACTBLUE</td>\n",
       "      <td>SOMERVILLE</td>\n",
       "      <td>MA</td>\n",
       "      <td>021443132</td>\n",
       "      <td>2019-06-30</td>\n",
       "      <td>133088.20</td>\n",
       "      <td>MERCHANT FEES</td>\n",
       "      <td>NaN</td>\n",
       "    </tr>\n",
       "    <tr>\n",
       "      <td>343723</td>\n",
       "      <td>BERNIE 2020</td>\n",
       "      <td>Q2</td>\n",
       "      <td>BLUE WAVE POLITICAL PARTNERS</td>\n",
       "      <td>CHATTANOOGA</td>\n",
       "      <td>TN</td>\n",
       "      <td>374022893</td>\n",
       "      <td>2019-06-30</td>\n",
       "      <td>20501.05</td>\n",
       "      <td>COMPLIANCE/ACCOUNTING</td>\n",
       "      <td>NaN</td>\n",
       "    </tr>\n",
       "    <tr>\n",
       "      <td>343333</td>\n",
       "      <td>BERNIE 2020</td>\n",
       "      <td>Q2</td>\n",
       "      <td>REBECCA K RAST</td>\n",
       "      <td>LANCASTER</td>\n",
       "      <td>PA</td>\n",
       "      <td>176033337</td>\n",
       "      <td>2019-06-28</td>\n",
       "      <td>4176.74</td>\n",
       "      <td>SALARY</td>\n",
       "      <td>NaN</td>\n",
       "    </tr>\n",
       "    <tr>\n",
       "      <td>342978</td>\n",
       "      <td>BERNIE 2020</td>\n",
       "      <td>Q2</td>\n",
       "      <td>MICHAEL D FUTCH</td>\n",
       "      <td>WASHINGTON</td>\n",
       "      <td>DC</td>\n",
       "      <td>200094405</td>\n",
       "      <td>2019-06-28</td>\n",
       "      <td>3660.56</td>\n",
       "      <td>SALARY</td>\n",
       "      <td>NaN</td>\n",
       "    </tr>\n",
       "    <tr>\n",
       "      <td>...</td>\n",
       "      <td>...</td>\n",
       "      <td>...</td>\n",
       "      <td>...</td>\n",
       "      <td>...</td>\n",
       "      <td>...</td>\n",
       "      <td>...</td>\n",
       "      <td>...</td>\n",
       "      <td>...</td>\n",
       "      <td>...</td>\n",
       "      <td>...</td>\n",
       "    </tr>\n",
       "    <tr>\n",
       "      <td>336966</td>\n",
       "      <td>BERNIE 2020</td>\n",
       "      <td>Q1</td>\n",
       "      <td>ACTBLUE</td>\n",
       "      <td>SOMERVILLE</td>\n",
       "      <td>MA</td>\n",
       "      <td>021443132</td>\n",
       "      <td>2019-02-24</td>\n",
       "      <td>36065.04</td>\n",
       "      <td>MERCHANT FEES</td>\n",
       "      <td>NaN</td>\n",
       "    </tr>\n",
       "    <tr>\n",
       "      <td>336823</td>\n",
       "      <td>BERNIE 2020</td>\n",
       "      <td>Q1</td>\n",
       "      <td>CLARKE &amp; SAMPSON</td>\n",
       "      <td>ALEXANDRIA</td>\n",
       "      <td>VA</td>\n",
       "      <td>223145404</td>\n",
       "      <td>2019-02-23</td>\n",
       "      <td>25271.00</td>\n",
       "      <td>INSURANCE</td>\n",
       "      <td>NaN</td>\n",
       "    </tr>\n",
       "    <tr>\n",
       "      <td>336467</td>\n",
       "      <td>BERNIE 2020</td>\n",
       "      <td>Q1</td>\n",
       "      <td>AISLE 518 STRATEGIES, LLC</td>\n",
       "      <td>ARLINGTON</td>\n",
       "      <td>VA</td>\n",
       "      <td>222073925</td>\n",
       "      <td>2019-02-21</td>\n",
       "      <td>500000.00</td>\n",
       "      <td>DIGITAL ADVERTISING</td>\n",
       "      <td>NaN</td>\n",
       "    </tr>\n",
       "    <tr>\n",
       "      <td>336377</td>\n",
       "      <td>BERNIE 2020</td>\n",
       "      <td>Q1</td>\n",
       "      <td>ACTBLUE</td>\n",
       "      <td>SOMERVILLE</td>\n",
       "      <td>MA</td>\n",
       "      <td>021443132</td>\n",
       "      <td>2019-02-21</td>\n",
       "      <td>38041.48</td>\n",
       "      <td>MERCHANT FEES</td>\n",
       "      <td>NaN</td>\n",
       "    </tr>\n",
       "    <tr>\n",
       "      <td>336376</td>\n",
       "      <td>BERNIE 2020</td>\n",
       "      <td>Q1</td>\n",
       "      <td>ACTBLUE</td>\n",
       "      <td>SOMERVILLE</td>\n",
       "      <td>MA</td>\n",
       "      <td>021443132</td>\n",
       "      <td>2019-02-20</td>\n",
       "      <td>277750.93</td>\n",
       "      <td>MERCHANT FEES</td>\n",
       "      <td>NaN</td>\n",
       "    </tr>\n",
       "  </tbody>\n",
       "</table>\n",
       "<p>636 rows × 10 columns</p>\n",
       "</div>"
      ],
      "text/plain": [
       "            CMTE_NM RPT_TP                          NAME         CITY STATE  \\\n",
       "341998  BERNIE 2020     Q2      TIGEREYE PROMOTIONS, LLC         TROY    OH   \n",
       "341055  BERNIE 2020     Q2                       ACTBLUE   SOMERVILLE    MA   \n",
       "343723  BERNIE 2020     Q2  BLUE WAVE POLITICAL PARTNERS  CHATTANOOGA    TN   \n",
       "343333  BERNIE 2020     Q2                REBECCA K RAST    LANCASTER    PA   \n",
       "342978  BERNIE 2020     Q2               MICHAEL D FUTCH   WASHINGTON    DC   \n",
       "...             ...    ...                           ...          ...   ...   \n",
       "336966  BERNIE 2020     Q1                       ACTBLUE   SOMERVILLE    MA   \n",
       "336823  BERNIE 2020     Q1              CLARKE & SAMPSON   ALEXANDRIA    VA   \n",
       "336467  BERNIE 2020     Q1     AISLE 518 STRATEGIES, LLC    ARLINGTON    VA   \n",
       "336377  BERNIE 2020     Q1                       ACTBLUE   SOMERVILLE    MA   \n",
       "336376  BERNIE 2020     Q1                       ACTBLUE   SOMERVILLE    MA   \n",
       "\n",
       "         ZIP_CODE TRANSACTION_DT  TRANSACTION_AMT  \\\n",
       "341998  453732560     2019-06-30        238194.96   \n",
       "341055  021443132     2019-06-30        133088.20   \n",
       "343723  374022893     2019-06-30         20501.05   \n",
       "343333  176033337     2019-06-28          4176.74   \n",
       "342978  200094405     2019-06-28          3660.56   \n",
       "...           ...            ...              ...   \n",
       "336966  021443132     2019-02-24         36065.04   \n",
       "336823  223145404     2019-02-23         25271.00   \n",
       "336467  222073925     2019-02-21        500000.00   \n",
       "336377  021443132     2019-02-21         38041.48   \n",
       "336376  021443132     2019-02-20        277750.93   \n",
       "\n",
       "                                PURPOSE CATEGORY  \n",
       "341998  BUTTONS/BUMPERSTICKERS/SIGNS/TS      NaN  \n",
       "341055                    MERCHANT FEES      NaN  \n",
       "343723            COMPLIANCE/ACCOUNTING      NaN  \n",
       "343333                           SALARY      NaN  \n",
       "342978                           SALARY      NaN  \n",
       "...                                 ...      ...  \n",
       "336966                    MERCHANT FEES      NaN  \n",
       "336823                        INSURANCE      NaN  \n",
       "336467              DIGITAL ADVERTISING      NaN  \n",
       "336377                    MERCHANT FEES      NaN  \n",
       "336376                    MERCHANT FEES      NaN  \n",
       "\n",
       "[636 rows x 10 columns]"
      ]
     },
     "execution_count": 11,
     "metadata": {},
     "output_type": "execute_result"
    }
   ],
   "source": [
    "outliers.loc[outliers['CMTE_NM']=='BERNIE 2020',CORE_COLUMNS]"
   ]
  },
  {
   "cell_type": "code",
   "execution_count": 4,
   "metadata": {},
   "outputs": [
    {
     "data": {
      "text/plain": [
       "Timestamp('2019-12-30 00:00:00')"
      ]
     },
     "execution_count": 4,
     "metadata": {},
     "output_type": "execute_result"
    }
   ],
   "source": [
    "max(df.TRANSACTION_DT)"
   ]
  },
  {
   "cell_type": "code",
   "execution_count": 3,
   "metadata": {},
   "outputs": [],
   "source": [
    "# Read in data\n",
    "df_header = pd.read_csv(\"~/Documents/Insight/Data - Insight/oppexp_header_file.csv\")\n",
    "df = pd.read_csv(\"~/Documents/Insight/Data - Insight/oppexp20/oppexp.txt\", delimiter=\"|\", low_memory=False, names=df_header.columns, index_col=False)\n",
    "cmte_header = pd.read_csv(\"~/Documents/Insight/Data - Insight/cm20/cm_header_file.csv\") # pull in header for committee names file\n",
    "cmte_names = pd.read_csv(\"~/Documents/Insight/Data - Insight/cm20/cm.txt\", delimiter=\"|\", names=cmte_header.columns) # pull in committee names file\n",
    "\n",
    "# Clean data\n",
    "df = ( df.set_index('CMTE_ID') ).join(cmte_names.set_index('CMTE_ID')) \n",
    "df = df.reset_index()\n",
    "df['TRANSACTION_DT']=pd.to_datetime(df['TRANSACTION_DT'],errors = 'coerce')\n",
    "df = df[df['TRANSACTION_AMT']>0]"
   ]
  },
  {
   "cell_type": "code",
   "execution_count": 23,
   "metadata": {},
   "outputs": [
    {
     "data": {
      "text/plain": [
       "Timestamp('2019-06-30 00:00:00')"
      ]
     },
     "execution_count": 23,
     "metadata": {},
     "output_type": "execute_result"
    }
   ],
   "source": [
    "max(df.loc[df.CMTE_NM=='FRIENDS OF ANDREW YANG','TRANSACTION_DT'])"
   ]
  },
  {
   "cell_type": "code",
   "execution_count": 14,
   "metadata": {},
   "outputs": [
    {
     "data": {
      "text/plain": [
       "TRAVEL                         8747\n",
       "SALARY                         5358\n",
       "TRANSPORTATION                 4733\n",
       "PAYROLL                        1851\n",
       "LODGING                        1620\n",
       "INTERNET ADVERTISING           1498\n",
       "OFFICE SUPPLIES                1256\n",
       "CREDIT CARD PROCESSING FEES     855\n",
       "SOFTWARE                        559\n",
       "ONLINE ADVERTISING              537\n",
       "ADVERTISING                     506\n",
       "MERCHANT FEES                   470\n",
       "CREDIT CARD PROCESSING FEE      455\n",
       "POSTAGE                         442\n",
       "PRINTING                        416\n",
       "SUPPLIES                        375\n",
       "STAFF TRAVEL                    347\n",
       "MEALS                           334\n",
       "EVENT PLANNING FEES             305\n",
       "EVENT SUPPLIES                  260\n",
       "Name: PURPOSE, dtype: int64"
      ]
     },
     "execution_count": 14,
     "metadata": {},
     "output_type": "execute_result"
    }
   ],
   "source": [
    "df['cluster']=clustering\n",
    "sum(df['PURPOSE'].value_counts()[:20])/sum(df['PURPOSE'].value_counts())\n",
    "df['PURPOSE'].value_counts()[:20]"
   ]
  },
  {
   "cell_type": "code",
   "execution_count": 17,
   "metadata": {},
   "outputs": [
    {
     "data": {
      "text/plain": [
       "'TRANSPORTATION'"
      ]
     },
     "execution_count": 17,
     "metadata": {},
     "output_type": "execute_result"
    }
   ],
   "source": [
    "cat_dict = {'TRAVEL': 'TRANSPORTATION',\n",
    "'TRANSPORTATION': 'TRANSPORTATION',\n",
    "'STAFFTRAVEL': 'TRANSPORTATION',\n",
    "'SALARY': 'SALARY',\n",
    "'PAYROLL':'PAYROLL',\n",
    "'LODGING':'LODGING',\n",
    "'INTERNETADVERTISING': 'ADVERTISING',\n",
    "'ONLINEADVERTISING': 'ADVERTISING',\n",
    "'ADVERTISING': 'ADVERTISING',\n",
    "'OFFICESUPPLIES': 'OFFICESUPPLIES',\n",
    "'POSTAGE': 'OFFICESUPPLIES',\n",
    "'PRINTING': 'OFFICESUPPLIES',\n",
    "'SUPPLIES': 'OFFICESUPPLIES',\n",
    "'CREDITCARDPROCESSINGFEES':'CREDITCARDPROCESSINGFEES',\n",
    "'SOFTWARE':'SOFTWARE',\n",
    "'MERCHANTFEES': 'BANKFEES',\n",
    "'CREDITCARDPROCESSINGFEE': 'BANKFEES',\n",
    "'MEALS':'MEALS',\n",
    "'EVENTPLANNINGFEES':'EVENTPLANNINGFEES',\n",
    "'EVENTSUPPLIES':'EVENTSUPPLIES'}\n",
    "cat_dict['TRAVEL']"
   ]
  },
  {
   "cell_type": "code",
   "execution_count": 31,
   "metadata": {},
   "outputs": [],
   "source": [
    "df=df[df['PURPOSE'].isin(cat_dict.keys())]"
   ]
  },
  {
   "cell_type": "code",
   "execution_count": 33,
   "metadata": {},
   "outputs": [],
   "source": [
    "df.loc['CATS']=df.PURPOSE.apply(lambda x: cat_dict[x])"
   ]
  },
  {
   "cell_type": "code",
   "execution_count": 34,
   "metadata": {},
   "outputs": [
    {
     "data": {
      "text/html": [
       "<div>\n",
       "<style scoped>\n",
       "    .dataframe tbody tr th:only-of-type {\n",
       "        vertical-align: middle;\n",
       "    }\n",
       "\n",
       "    .dataframe tbody tr th {\n",
       "        vertical-align: top;\n",
       "    }\n",
       "\n",
       "    .dataframe thead th {\n",
       "        text-align: right;\n",
       "    }\n",
       "</style>\n",
       "<table border=\"1\" class=\"dataframe\">\n",
       "  <thead>\n",
       "    <tr style=\"text-align: right;\">\n",
       "      <th></th>\n",
       "      <th>CMTE_ID</th>\n",
       "      <th>AMNDT_IND</th>\n",
       "      <th>RPT_YR</th>\n",
       "      <th>RPT_TP</th>\n",
       "      <th>IMAGE_NUM</th>\n",
       "      <th>LINE_NUM</th>\n",
       "      <th>FORM_TP_CD</th>\n",
       "      <th>SCHED_TP_CD</th>\n",
       "      <th>NAME</th>\n",
       "      <th>CITY</th>\n",
       "      <th>...</th>\n",
       "      <th>CMTE_ZIP</th>\n",
       "      <th>CMTE_DSGN</th>\n",
       "      <th>CMTE_TP</th>\n",
       "      <th>CMTE_PTY_AFFILIATION</th>\n",
       "      <th>CMTE_FILING_FREQ</th>\n",
       "      <th>ORG_TP</th>\n",
       "      <th>CONNECTED_ORG_NM</th>\n",
       "      <th>CAND_ID</th>\n",
       "      <th>cluster</th>\n",
       "      <th>CATS</th>\n",
       "    </tr>\n",
       "  </thead>\n",
       "  <tbody>\n",
       "    <tr>\n",
       "      <td>187063</td>\n",
       "      <td>C00508416</td>\n",
       "      <td>A</td>\n",
       "      <td>2019.0</td>\n",
       "      <td>Q1</td>\n",
       "      <td>2.019082e+17</td>\n",
       "      <td>23</td>\n",
       "      <td>F3P</td>\n",
       "      <td>SB</td>\n",
       "      <td>BARRETT, ISABELLE</td>\n",
       "      <td>DES MOINES</td>\n",
       "      <td>...</td>\n",
       "      <td>20813</td>\n",
       "      <td>P</td>\n",
       "      <td>P</td>\n",
       "      <td>DEM</td>\n",
       "      <td>Q</td>\n",
       "      <td>NaN</td>\n",
       "      <td>NONE</td>\n",
       "      <td>P00006213</td>\n",
       "      <td>0.0</td>\n",
       "      <td>PAYROLL</td>\n",
       "    </tr>\n",
       "    <tr>\n",
       "      <td>187065</td>\n",
       "      <td>C00508416</td>\n",
       "      <td>A</td>\n",
       "      <td>2019.0</td>\n",
       "      <td>Q1</td>\n",
       "      <td>2.019082e+17</td>\n",
       "      <td>23</td>\n",
       "      <td>F3P</td>\n",
       "      <td>SB</td>\n",
       "      <td>BARRETT, ISABELLE</td>\n",
       "      <td>DES MOINES</td>\n",
       "      <td>...</td>\n",
       "      <td>20813</td>\n",
       "      <td>P</td>\n",
       "      <td>P</td>\n",
       "      <td>DEM</td>\n",
       "      <td>Q</td>\n",
       "      <td>NaN</td>\n",
       "      <td>NONE</td>\n",
       "      <td>P00006213</td>\n",
       "      <td>0.0</td>\n",
       "      <td>PAYROLL</td>\n",
       "    </tr>\n",
       "    <tr>\n",
       "      <td>187067</td>\n",
       "      <td>C00508416</td>\n",
       "      <td>A</td>\n",
       "      <td>2019.0</td>\n",
       "      <td>Q1</td>\n",
       "      <td>2.019082e+17</td>\n",
       "      <td>23</td>\n",
       "      <td>F3P</td>\n",
       "      <td>SB</td>\n",
       "      <td>BARRETT, ISABELLE</td>\n",
       "      <td>DES MOINES</td>\n",
       "      <td>...</td>\n",
       "      <td>20813</td>\n",
       "      <td>P</td>\n",
       "      <td>P</td>\n",
       "      <td>DEM</td>\n",
       "      <td>Q</td>\n",
       "      <td>NaN</td>\n",
       "      <td>NONE</td>\n",
       "      <td>P00006213</td>\n",
       "      <td>0.0</td>\n",
       "      <td>PAYROLL</td>\n",
       "    </tr>\n",
       "    <tr>\n",
       "      <td>187068</td>\n",
       "      <td>C00508416</td>\n",
       "      <td>A</td>\n",
       "      <td>2019.0</td>\n",
       "      <td>Q1</td>\n",
       "      <td>2.019082e+17</td>\n",
       "      <td>23</td>\n",
       "      <td>F3P</td>\n",
       "      <td>SB</td>\n",
       "      <td>BARRETT, ISABELLE</td>\n",
       "      <td>DES MOINES</td>\n",
       "      <td>...</td>\n",
       "      <td>20813</td>\n",
       "      <td>P</td>\n",
       "      <td>P</td>\n",
       "      <td>DEM</td>\n",
       "      <td>Q</td>\n",
       "      <td>NaN</td>\n",
       "      <td>NONE</td>\n",
       "      <td>P00006213</td>\n",
       "      <td>0.0</td>\n",
       "      <td>PAYROLL</td>\n",
       "    </tr>\n",
       "    <tr>\n",
       "      <td>187070</td>\n",
       "      <td>C00508416</td>\n",
       "      <td>A</td>\n",
       "      <td>2019.0</td>\n",
       "      <td>Q1</td>\n",
       "      <td>2.019082e+17</td>\n",
       "      <td>23</td>\n",
       "      <td>F3P</td>\n",
       "      <td>SB</td>\n",
       "      <td>BENNETT, JESS</td>\n",
       "      <td>INDEPENDENCE</td>\n",
       "      <td>...</td>\n",
       "      <td>20813</td>\n",
       "      <td>P</td>\n",
       "      <td>P</td>\n",
       "      <td>DEM</td>\n",
       "      <td>Q</td>\n",
       "      <td>NaN</td>\n",
       "      <td>NONE</td>\n",
       "      <td>P00006213</td>\n",
       "      <td>0.0</td>\n",
       "      <td>PAYROLL</td>\n",
       "    </tr>\n",
       "  </tbody>\n",
       "</table>\n",
       "<p>5 rows × 41 columns</p>\n",
       "</div>"
      ],
      "text/plain": [
       "          CMTE_ID AMNDT_IND  RPT_YR RPT_TP     IMAGE_NUM LINE_NUM FORM_TP_CD  \\\n",
       "187063  C00508416         A  2019.0     Q1  2.019082e+17       23        F3P   \n",
       "187065  C00508416         A  2019.0     Q1  2.019082e+17       23        F3P   \n",
       "187067  C00508416         A  2019.0     Q1  2.019082e+17       23        F3P   \n",
       "187068  C00508416         A  2019.0     Q1  2.019082e+17       23        F3P   \n",
       "187070  C00508416         A  2019.0     Q1  2.019082e+17       23        F3P   \n",
       "\n",
       "       SCHED_TP_CD               NAME          CITY  ... CMTE_ZIP CMTE_DSGN  \\\n",
       "187063          SB  BARRETT, ISABELLE    DES MOINES  ...    20813         P   \n",
       "187065          SB  BARRETT, ISABELLE    DES MOINES  ...    20813         P   \n",
       "187067          SB  BARRETT, ISABELLE    DES MOINES  ...    20813         P   \n",
       "187068          SB  BARRETT, ISABELLE    DES MOINES  ...    20813         P   \n",
       "187070          SB      BENNETT, JESS  INDEPENDENCE  ...    20813         P   \n",
       "\n",
       "       CMTE_TP  CMTE_PTY_AFFILIATION CMTE_FILING_FREQ ORG_TP CONNECTED_ORG_NM  \\\n",
       "187063       P                   DEM                Q    NaN             NONE   \n",
       "187065       P                   DEM                Q    NaN             NONE   \n",
       "187067       P                   DEM                Q    NaN             NONE   \n",
       "187068       P                   DEM                Q    NaN             NONE   \n",
       "187070       P                   DEM                Q    NaN             NONE   \n",
       "\n",
       "          CAND_ID cluster     CATS  \n",
       "187063  P00006213     0.0  PAYROLL  \n",
       "187065  P00006213     0.0  PAYROLL  \n",
       "187067  P00006213     0.0  PAYROLL  \n",
       "187068  P00006213     0.0  PAYROLL  \n",
       "187070  P00006213     0.0  PAYROLL  \n",
       "\n",
       "[5 rows x 41 columns]"
      ]
     },
     "execution_count": 34,
     "metadata": {},
     "output_type": "execute_result"
    }
   ],
   "source": [
    "df.head()"
   ]
  },
  {
   "cell_type": "code",
   "execution_count": 37,
   "metadata": {},
   "outputs": [
    {
     "data": {
      "text/plain": [
       "Index(['TRAVEL', 'SALARY', 'TRANSPORTATION', 'PAYROLL', 'LODGING', 'SOFTWARE',\n",
       "       'ADVERTISING', 'POSTAGE', 'PRINTING', 'SUPPLIES', 'MEALS'],\n",
       "      dtype='object')"
      ]
     },
     "execution_count": 37,
     "metadata": {},
     "output_type": "execute_result"
    }
   ],
   "source": [
    "df['PURPOSE'].value_counts().keys()"
   ]
  },
  {
   "cell_type": "code",
   "execution_count": 74,
   "metadata": {},
   "outputs": [
    {
     "data": {
      "text/plain": [
       "Index(['TRAVEL', 'SALARY', 'TRANSPORTATION', 'PAYROLL', 'LODGING', 'SOFTWARE',\n",
       "       'ADVERTISING', 'POSTAGE', 'PRINTING', 'SUPPLIES', 'MEALS'],\n",
       "      dtype='object')"
      ]
     },
     "execution_count": 74,
     "metadata": {},
     "output_type": "execute_result"
    }
   ],
   "source": [
    "np.delete(top_cats,'PAYROLL')"
   ]
  },
  {
   "cell_type": "code",
   "execution_count": 75,
   "metadata": {},
   "outputs": [],
   "source": [
    "#ok, now, do the clustering per category\n",
    "indices_with_cat = []\n",
    "cluster_number = 0\n",
    "top_cats = df['PURPOSE'].value_counts().keys().values\n",
    "for cat in top_cats:\n",
    "    indices_with_cat = (df['PURPOSE']==cat)\n",
    "    df.loc[indices_with_cat,'cluster2'] = DBSCAN(eps=30, min_samples=10).fit_predict(df.loc[indices_with_cat,['TRANSACTION_AMT']]) + cluster_number\n",
    "    cluster_number += 10\n",
    "    \n",
    "# send cluster2 to cluster3 with x%10=0 as 0\n",
    "df['cluster3']=df['cluster2'].apply(lambda x: 0 if x%10==0 else x)"
   ]
  },
  {
   "cell_type": "code",
   "execution_count": 102,
   "metadata": {
    "scrolled": true
   },
   "outputs": [
    {
     "data": {
      "text/plain": [
       "(array([ 0,  1,  2,  3,  4,  5,  6,  7,  8,  9, 10]),\n",
       " <a list of 11 Text xticklabel objects>)"
      ]
     },
     "execution_count": 102,
     "metadata": {},
     "output_type": "execute_result"
    },
    {
     "data": {
      "image/png": "[encoded data removed]",
      "text/plain": [
       "<Figure size 432x288 with 1 Axes>"
      ]
     },
     "metadata": {
      "needs_background": "light"
     },
     "output_type": "display_data"
    }
   ],
   "source": [
    "import seaborn as sns\n",
    "import matplotlib.pyplot as plt\n",
    "%matplotlib inline\n",
    "import warnings\n",
    "warnings.filterwarnings('ignore')\n",
    "#from matplotlib import cmap\n",
    "import matplotlib.ticker as mtick\n",
    "\n",
    "#Set the color palette\n",
    "sns.set_palette(sns.color_palette(\"bright\")) # worked once\n",
    "#sns.set_palette(\"bright\") # doesn't work\n",
    "#sns.set(style=\"white\", color_codes=True)\n",
    "rows_in_top_cats = df.loc[df['PURPOSE'].isin(top_cats)]\n",
    "\n",
    "g = sns.stripplot(x='PURPOSE', y='TRANSACTION_AMT',\n",
    "                  hue=(rows_in_top_cats['cluster3'] + 1),\n",
    "                  data=rows_in_top_cats[['TRANSACTION_AMT','PURPOSE']])\n",
    "#cmap=cmap, \n",
    "sns.despine()\n",
    "#/max(rows_in_top_cats)\n",
    "#g.fig.get_axes()[0].set_yscale('log')\n",
    "g.set_yscale('log')\n",
    "g.set(ylabel='Transaction Amounts')\n",
    "fmt = '${x:,.0f}'\n",
    "tick = mtick.StrMethodFormatter(fmt)\n",
    "g.yaxis.set_major_formatter(tick) \n",
    "#g.scatter(t,,c=clustering)\n",
    "\n",
    "#ok, now, show the clusters in the data\n",
    "\n",
    "# Put a legend to the right of the current axis\n",
    "#g.legend(loc='center left', bbox_to_anchor=(1, 0.5))\n",
    "#handles, labels = g.get_legend_handles_labels()\n",
    "\n",
    "g.get_legend().remove()\n",
    "\n",
    "plt.tight_layout()\n",
    "#plt.gcf().subplots_adjust(bottom=0.55)\n",
    "plt.xticks(rotation=45,ha='right')\n",
    "#image_to_save = g.get_figure()\n",
    "#image_to_save.savefig('jitter_plot_2019.png', transparent=True) "
   ]
  },
  {
   "cell_type": "code",
   "execution_count": 121,
   "metadata": {},
   "outputs": [
    {
     "name": "stdout",
     "output_type": "stream",
     "text": [
      "timed\n",
      "Wall time: 523 ms\n"
     ]
    },
    {
     "data": {
      "image/png": "[encoded data removed]",
      "text/plain": [
       "<Figure size 432x288 with 1 Axes>"
      ]
     },
     "metadata": {
      "needs_background": "light"
     },
     "output_type": "display_data"
    }
   ],
   "source": [
    "%%time\n",
    "import seaborn as sns\n",
    "import matplotlib.pyplot as plt\n",
    "%matplotlib inline\n",
    "import warnings\n",
    "warnings.filterwarnings('ignore')\n",
    "#from matplotlib import cmap\n",
    "import matplotlib.ticker as mtick\n",
    "\n",
    "num = 300\n",
    "rows_in_top_cats = (df.loc[df['PURPOSE']=='SALARY'])[:num]\n",
    "\n",
    "sns.swarmplot(x='PURPOSE', y='TRANSACTION_AMT',\n",
    "              hue=((rows_in_top_cats['cluster3'])[:num] + 1),\n",
    "              data=rows_in_top_cats)\n",
    "                  #hue=(rows_in_top_cats['cluster3'] + 1),\n",
    "                  #data=rows_in_top_cats)#[['TRANSACTION_AMT','PURPOSE']])\n",
    "#g.get_legend().remove()\n",
    "print('timed')"
   ]
  },
  {
   "cell_type": "code",
   "execution_count": null,
   "metadata": {},
   "outputs": [],
   "source": []
  },
  {
   "cell_type": "code",
   "execution_count": 116,
   "metadata": {},
   "outputs": [
    {
     "data": {
      "text/plain": [
       "5358"
      ]
     },
     "execution_count": 116,
     "metadata": {},
     "output_type": "execute_result"
    }
   ],
   "source": [
    "len(df.loc[df['PURPOSE']=='SALARY'])"
   ]
  },
  {
   "cell_type": "code",
   "execution_count": 100,
   "metadata": {},
   "outputs": [
    {
     "data": {
      "text/plain": [
       "0.0     4666\n",
       "11.0     436\n",
       "12.0      99\n",
       "9.0       84\n",
       "15.0      23\n",
       "14.0      18\n",
       "13.0      11\n",
       "16.0      11\n",
       "17.0      10\n",
       "Name: cluster3, dtype: int64"
      ]
     },
     "execution_count": 100,
     "metadata": {},
     "output_type": "execute_result"
    }
   ],
   "source": [
    "df.loc[df['PURPOSE']=='SALARY','cluster3'].value_counts()"
   ]
  }
 ],
 "metadata": {
  "kernelspec": {
   "display_name": "Python 3",
   "language": "python",
   "name": "python3"
  },
  "language_info": {
   "codemirror_mode": {
    "name": "ipython",
    "version": 3
   },
   "file_extension": ".py",
   "mimetype": "text/x-python",
   "name": "python",
   "nbconvert_exporter": "python",
   "pygments_lexer": "ipython3",
   "version": "3.7.3"
  }
 },
 "nbformat": 4,
 "nbformat_minor": 2
}
